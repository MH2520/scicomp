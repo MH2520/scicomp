{
 "cells": [
  {
   "cell_type": "markdown",
   "metadata": {},
   "source": [
    "# 1 Programming in a Python notebook\n",
    "* [**1.0 Editing notebooks**](#notebooks)\n",
    "* [**1.1 Using Python for simple calculation**](#eval)\n",
    "* [**1.2 Basic Python expressions**](#1.2-Basic-Python-expressions) &hellip;&hellip; [maths and logic](#Maths-and-logic), [strings and formatting](#Strings-and-formatting)\n",
    "* [**1.3 Collection types and control flow**](#1.3-Collection-types-and-control-flow) &hellip;&hellip;\n",
    "[tuples, lists, dictionaries](#Tuples,-lists,-and-dictionaries),\n",
    "[control flow](#Control-flow),\n",
    "[comprehensions](#Comprehensions)\n",
    "* [**1.4 Functions**](#1.4-Functions)\n",
    "* [**More exercises**](#More-exercises)"
   ]
  },
  {
   "cell_type": "markdown",
   "metadata": {},
   "source": [
    "<div style=\"background-color:wheat\"><strong>Goal of this notebook.</strong> \n",
    "Familiarize yourself with how to use a notebook, how to use Python for simple calculation, and the basics of Python programming.\n",
    "If you know Python already, or if you like to pick up programming by working on problems rather than reading tutorials, skim through the section on <a href=\"#Comprehensions\">comprehensions</a> first and then\n",
    "jump ahead to \n",
    "<a href=\"Assignment%201.ipynb\">Assignment 1</a>.\n",
    "</div>"
   ]
  },
  {
   "cell_type": "markdown",
   "metadata": {},
   "source": [
    "## 1.0 Editing notebooks<a name=\"notebooks\"></a>\n",
    "\n",
    "This is a [Jupyter notebook](http://jupyter.org/). We will be computing using Jupyter notebooks and the programming language [Python](https://www.python.org/). Jupyter notebooks provide an interactive environment where you can mix text, equations, programming and visual outputs. The famous computer scientist Donald Knuth introduced \n",
    "this style of programming, mixing source code with explanations written in natural language, which he calls\n",
    "[literate programming](https://en.wikipedia.org/wiki/Literate_programming). It has become popular in data science and machine learning, wherever scientific explanation and coding go hand in hand. Scientific notebooks of course have a long and venerable history.\n",
    "\n",
    "<a href=\"http://www.bl.uk/onlinegallery/onlineex/remarkmanu/leonardo/large17758.html\"><img alt=\"Da Vinci notebook\" src=\"res/leonardolge.jpg\" style=\"height:15em\"></a>"
   ]
  },
  {
   "cell_type": "markdown",
   "metadata": {},
   "source": [
    "These notebooks are a mixture of text, input code, and output. \n",
    "* Edit a text cell by double-clicking on it\n",
    "* When you've finished editing a text cell, press `shift-enter` to make it display nicely\n",
    "* Insert new cells using the `Insert` menu\n",
    "* Change a cell from text to input code and _vice versa_ using the `Cell | Cell Type` menu\n",
    "\n",
    "The text format is called [Markdown](https://daringfireball.net/projects/markdown/basics)."
   ]
  },
  {
   "cell_type": "markdown",
   "metadata": {},
   "source": [
    "<div style=\"background-color:wheat\"><strong>Exercise.</strong> Try editing the cell above. How do you type in bullet lists, italics, and links?\n",
    "(If you can't edit cells, you need to clone the notebook, as described in <a href=\"0.%20About%20this%20course.ipynb#notebooks\">&sect;0.2 Running notebooks</a>.)\n",
    "</div>"
   ]
  },
  {
   "cell_type": "markdown",
   "metadata": {},
   "source": [
    "## 1.1 Using Python for simple calculations<a name=\"eval\"></a>\n",
    "\n",
    "We can use Python like a calculator. Here are some simple expressions and their values. Try editing the expressions, then to evaluate the cell press `shift-return` or choose `Cell | Run Cells` from the menu.\n",
    "(Remember, if you can't edit cells, you need to [clone the notebook](0.%20About%20this%20course.ipynb#notebooks) first.)"
   ]
  },
  {
   "cell_type": "code",
   "execution_count": null,
   "metadata": {
    "collapsed": true
   },
   "outputs": [],
   "source": [
    "3 + 8"
   ]
  },
  {
   "cell_type": "code",
   "execution_count": null,
   "metadata": {
    "collapsed": true
   },
   "outputs": [],
   "source": [
    "1.618 * 1e5"
   ]
  },
  {
   "cell_type": "code",
   "execution_count": null,
   "metadata": {
    "collapsed": true
   },
   "outputs": [],
   "source": [
    "x = 3\n",
    "y = 2.2\n",
    "z = 1\n",
    "x * y + z"
   ]
  },
  {
   "cell_type": "code",
   "execution_count": null,
   "metadata": {
    "collapsed": true
   },
   "outputs": [],
   "source": [
    "(x,y,z) = (3, 2.2, 4)  # You can assign multiple values at once.\n",
    "x * (y + z)            # And you can comment your code with the # symbol!"
   ]
  },
  {
   "cell_type": "code",
   "execution_count": null,
   "metadata": {
    "collapsed": true
   },
   "outputs": [],
   "source": [
    "'hello ' + 'world ' * 2"
   ]
  },
  {
   "cell_type": "markdown",
   "metadata": {},
   "source": [
    "<div style=\"background-color:wheat\"><strong>Exercise.</strong> What happens when you type in an erroneous expression? Run the expression below to find out.</div>"
   ]
  },
  {
   "cell_type": "code",
   "execution_count": null,
   "metadata": {
    "collapsed": true
   },
   "outputs": [],
   "source": [
    "# This expression should produce an error message\n",
    "'hello' + 5"
   ]
  },
  {
   "cell_type": "markdown",
   "metadata": {},
   "source": [
    "In a notebook, we can pick which cells to execute when. We can define a variable lower down in the notebook, run that cell, then use it higher up in the notebook. Jupyter prints e.g. `In[42]` at the left to tell you about the order it executed cells. However, for the sanity of anyone reading your notebook (which includes you a week after you wrote it), once you've got your code working it's a good idea to rearrange it all into clean top-to-bottom order. The menu item `Kernel | Restart & Run All` should then produce the right output."
   ]
  },
  {
   "cell_type": "markdown",
   "metadata": {},
   "source": [
    "## 1.2 Basic Python expressions"
   ]
  },
  {
   "cell_type": "markdown",
   "metadata": {},
   "source": [
    "### Maths and logic"
   ]
  },
  {
   "cell_type": "markdown",
   "metadata": {},
   "source": [
    "All the usual mathematical operators work, though watch out for division which uses different syntax to Java. (The following code block uses `print` statements, to print multiple outputs from one cell.)"
   ]
  },
  {
   "cell_type": "markdown",
   "metadata": {},
   "source": [
    "<div style=\"background-color:wheat\"><strong>Exercise.</strong> Before running the code, guess what these statements produce. Then check your answers.</div>"
   ]
  },
  {
   "cell_type": "code",
   "execution_count": null,
   "metadata": {
    "collapsed": true,
    "scrolled": true
   },
   "outputs": [],
   "source": [
    "print('a:', 7 / 3)                       # floating point division\n",
    "print('b:', 7 // 3)                      # integer division (rounds down)\n",
    "print('c:', min(3,4), max(3,4))\n",
    "print('d:', abs(-10), abs(3+4j))         # 3+4j is a complex number\n",
    "print('e:', round(7.4), round(-7.4), round(3.4567, 2))\n",
    "print('f:', 3**2)                        # power\n",
    "print('g:', 5 << 1, 5 >> 2)              # bitwise shifting\n",
    "print('h:', 7 & 1, 6 | 1)                # bitwise operations\n",
    "print('i:', (3+4j).real, (3+4j).imag)"
   ]
  },
  {
   "cell_type": "markdown",
   "metadata": {},
   "source": [
    "The usual logical operators work too, though the syntax is wordier than other languages."
   ]
  },
  {
   "cell_type": "code",
   "execution_count": null,
   "metadata": {
    "collapsed": true
   },
   "outputs": [],
   "source": [
    "(x,y) = (5,12)\n",
    "print('a:', x < y or y < 10)\n",
    "print('b:', x < y and not y < 15)\n",
    "print('c:', 'lower' if x < y else 'higher')  # same as Java's (x < y) ? 'lower' : 'higher'"
   ]
  },
  {
   "cell_type": "markdown",
   "metadata": {},
   "source": [
    "Some useful maths functions are found in the `math` module. To use them, you need to run `import math`. (It's common to put your import statements at the top of the notebook, as they only need to be run once per session, but they can actually appear anywhere.)"
   ]
  },
  {
   "cell_type": "code",
   "execution_count": null,
   "metadata": {
    "collapsed": true
   },
   "outputs": [],
   "source": [
    "import math\n",
    "print('a:', math.floor(-3.4), math.ceil(-3.4))\n",
    "print('b:', math.pow(9, 0.5), math.sqrt(9))\n",
    "print('c:', math.exp(2), math.log(math.e), math.log(101, 10))\n",
    "print('d:', math.sin(math.pi*1.3), math.atan2(3,4))\n",
    "\n",
    "import cmath   # for functions on complex numbers\n",
    "print('e:', cmath.sqrt(-9))\n",
    "print('f:', cmath.exp(math.pi * 1j) + 1)\n",
    "\n",
    "import random  # for generating random numbers\n",
    "print('g:', random.random(), random.random())"
   ]
  },
  {
   "cell_type": "markdown",
   "metadata": {},
   "source": [
    "### Strings and formatting"
   ]
  },
  {
   "cell_type": "markdown",
   "metadata": {},
   "source": [
    "Python strings can be enclosed by either single quotes or double quotes. Strings (like everything else in Python) are objects, and they have methods for various string-processing tasks. See [\"String Methods\" documentation](https://docs.python.org/3/library/stdtypes.html#string-methods) for a full list."
   ]
  },
  {
   "cell_type": "code",
   "execution_count": null,
   "metadata": {
    "collapsed": true
   },
   "outputs": [],
   "source": [
    "print('a:', \"shout\".upper())\n",
    "print('b:', \"hitchhiker\".replace('hi', 'ma'))\n",
    "print('c:', 'i' in 'team')"
   ]
  },
  {
   "cell_type": "markdown",
   "metadata": {},
   "source": [
    "To control how values are printed, we can use the `str.format` method. Here are some examples."
   ]
  },
  {
   "cell_type": "code",
   "execution_count": null,
   "metadata": {
    "collapsed": true
   },
   "outputs": [],
   "source": [
    "print(\"My name is {} and I am {} years old\".format('Zaphod', 27))\n",
    "print(\"The value of π to 3 significant figures is {p:.3}, and to 5 is {p:.5}\".format(p=math.pi))"
   ]
  },
  {
   "cell_type": "markdown",
   "metadata": {},
   "source": [
    "If you do any serious data processing in Python, you will likely find yourself needing [regular expressions](https://docs.python.org/3/howto/regex.html)."
   ]
  },
  {
   "cell_type": "markdown",
   "metadata": {
    "collapsed": true
   },
   "source": [
    "## 1.3 Collection types and control flow"
   ]
  },
  {
   "cell_type": "markdown",
   "metadata": {},
   "source": [
    "### Tuples, lists, and dictionaries"
   ]
  },
  {
   "cell_type": "markdown",
   "metadata": {},
   "source": [
    "Python has three common types for storing collections of values: tuples, lists, and dictionaries. (Also [two types of set](https://docs.python.org/3/library/stdtypes.html#set-types-set-frozenset) which we won't cover in this course.)\n",
    "\n",
    "In ML and Java we learned about lists _versus_ arrays, and in Algorithms we will study the efficiency of various implementation choices. The Pythonic style is to just go ahead and code, and only worry about efficiency after we have working code. We'll simply use the built-in type for storing sequences, not even bothering whether it should be a list or an array, and we expect it to work reasonably well most of the time. If we have special needs we switch to a dedicated collection type, such as \n",
    "a [deque](https://docs.python.org/3/library/collections.html#collections.deque) or a\n",
    "[heap](https://docs.python.org/3/library/heapq.html) or the specialized numerical types we'll learn about in [&sect;2. Numerical computation](notes2--numerics.ipynb). As the famous computer scientist Donald Knuth says,\n",
    "\n",
    "> Programmers waste enormous amounts of time thinking about, or worrying about, the speed of\n",
    "> noncritical parts of their programs, and these attempts at efficiency actually have a strong\n",
    "> negative impact when debugging and maintenance are considered. We should forget about small\n",
    "> efficiencies, say about 97% of the time: premature optimization is the root of all evil.\n",
    "> Yet we should not pass up our opportunities in that critical 3%."
   ]
  },
  {
   "cell_type": "markdown",
   "metadata": {},
   "source": [
    "Python actually has two types for storing sequences of elements: lists, and tuples."
   ]
  },
  {
   "cell_type": "code",
   "execution_count": null,
   "metadata": {
    "collapsed": true
   },
   "outputs": [],
   "source": [
    "a = [1, 2, 'buckle my shoe']      # a list\n",
    "b = (3, 4, 'knock at the door')   # a tuple\n",
    "print('a:', a + list(b))\n",
    "print('b:', tuple(a) + b)\n",
    "print('c:', len(a), len(b))\n",
    "print('d:', a[0], a[1], b[2])\n",
    "print('e:', [a, 'then', b])\n",
    "print('f:', 3 in a, 3 in b)"
   ]
  },
  {
   "cell_type": "markdown",
   "metadata": {},
   "source": [
    "As you see, both lists and tuples can hold mixed types, including other lists or tuples, and you can convert between them and extract elements. The difference is that tuples are immutable whereas lists are mutable:"
   ]
  },
  {
   "cell_type": "code",
   "execution_count": null,
   "metadata": {
    "collapsed": true
   },
   "outputs": [],
   "source": [
    "a[0] = 5\n",
    "a.append('then')\n",
    "a.extend(b)\n",
    "print(a)\n",
    "\n",
    "b[0] = 5  # error\n",
    "print(b)"
   ]
  },
  {
   "cell_type": "markdown",
   "metadata": {},
   "source": [
    "<div style=\"background-color:wheat\"><strong>Exercise (ex1).</strong> What is the difference between the two commented lines? Do they give the same result?\n",
    "<pre style=\"background-color:wheat\">\n",
    "a = [1, 2, 'buckle my shoe']\n",
    "b = (a, 3, 4, 'knock at the door')\n",
    "# b[0].append('then')\n",
    "# b[0] = a + ['then']\n",
    "print(a, b)\n",
    "</pre>\n",
    "</div>"
   ]
  },
  {
   "cell_type": "markdown",
   "metadata": {},
   "source": [
    "<div style=\"background-color:wheat\">\n",
    "For labelled exercises, like Exercise (ex1) above, you can look up the answer or check your solution. The procedure is described in <a href=\"0.%20About%20this%20course.ipynb#0.3-Using-the-automatic-grader\">&sect;0.3 Using the automatic grader</a>. Here is a quick recap. Remember to paste in your CRSid.\n",
    "<pre style=\"background-color:wheat\">\n",
    "!pip install ucamcl\n",
    "GRADER = ucamcl.tick_server(host='https://moodle.this.course/', user='spr1@cam.ac.uk', section='notes1')\n",
    "print(GRADER.fetch_question('ex1'))\n",
    "</pre>\n",
    "</div>"
   ]
  },
  {
   "cell_type": "markdown",
   "metadata": {},
   "source": [
    "<div style=\"background-color:wheat\"><strong>Exercise (ex2).</strong> How do you type in a tuple of length 1? How about a tuple of length 0?</div>"
   ]
  },
  {
   "cell_type": "markdown",
   "metadata": {},
   "source": [
    "We can pick out items using the _slice_ notation, `x[start:end:sep]`. Indexes start from 0 and run through to $(\\text{length}-1)$."
   ]
  },
  {
   "cell_type": "code",
   "execution_count": null,
   "metadata": {
    "collapsed": true
   },
   "outputs": [],
   "source": [
    "x = list(range(10))     # creates a list with 10 elements, starting at 0\n",
    "print('a:', x)\n",
    "print('b:', x[:2])      # first two elements\n",
    "print('c:', x[2:])      # everything after the first two\n",
    "print('d:', x[-3:])     # last three elements \n",
    "print('e:', x[:-3])     # everything prior to the last three\n",
    "print('f:', x[::4])     # every fourth element"
   ]
  },
  {
   "cell_type": "markdown",
   "metadata": {},
   "source": [
    "We can sort a list."
   ]
  },
  {
   "cell_type": "code",
   "execution_count": null,
   "metadata": {
    "collapsed": true
   },
   "outputs": [],
   "source": [
    "names = ['adrian', 'chloe', 'guarav', 'shay', 'alexis', 'rebecca', 'zubin']\n",
    "\n",
    "# The function sorted(list) returns a new list, and doesn't alter the original.\n",
    "print(sorted(names))   \n",
    "print(names)\n",
    "\n",
    "# The method list.sort() sorts the list in-place\n",
    "names.sort()\n",
    "print(names)"
   ]
  },
  {
   "cell_type": "markdown",
   "metadata": {},
   "source": [
    "Another common operation is to concatenate a list of strings. Python's syntax for this is unusual:"
   ]
  },
  {
   "cell_type": "code",
   "execution_count": null,
   "metadata": {
    "collapsed": true
   },
   "outputs": [],
   "source": [
    "', '.join(['alpher', 'bethe', 'gamov']) + 'wrote a famous paper on nuclear physics'"
   ]
  },
  {
   "cell_type": "markdown",
   "metadata": {},
   "source": [
    "The other very useful data type is the dictionary."
   ]
  },
  {
   "cell_type": "code",
   "execution_count": null,
   "metadata": {
    "collapsed": true
   },
   "outputs": [],
   "source": [
    "room_alloc = {'Adrian': None, 'Laura': 32, 'John': 31}\n",
    "room_alloc['Guarav'] = 19\n",
    "print(room_alloc['Laura'])          # get an item\n",
    "del room_alloc['John']              # remove an item\n",
    "print(room_alloc)\n",
    "print('Alexis' in room_alloc)       # does this dictionary contain the key 'Alexis'?\n",
    "print(room_alloc.get('Alexis', 1))  # get room_alloc['Alexis'] if it exists, else default to 1"
   ]
  },
  {
   "cell_type": "markdown",
   "metadata": {},
   "source": [
    "### Control flow"
   ]
  },
  {
   "cell_type": "markdown",
   "metadata": {},
   "source": [
    "Python supports the usual control flow statements: `for`, `while`, `continue`, `break`, `next`, `if`, `else`. Here's an example: suppose we're given a list of room allocations, and we want to find the occupants of each room."
   ]
  },
  {
   "cell_type": "code",
   "execution_count": null,
   "metadata": {
    "collapsed": true
   },
   "outputs": [],
   "source": [
    "room_alloc = {'adrian': 10, 'chloe': 5, 'guarav': 10, 'shay': 11, \n",
    "              'alexis': 11, 'rebecca': 10, 'zubin': 5}\n",
    "occupants = {}\n",
    "for name, room in room_alloc.items():       # iterate over keys and values\n",
    "    if room not in occupants:\n",
    "        occupants[room] = []\n",
    "    occupants[room].append(name)\n",
    "for room, occupants_here in occupants.items():\n",
    "    ns = ', '.join(occupants_here)\n",
    "    print('Room {r} has {ns}'.format(r=room, ns=ns))"
   ]
  },
  {
   "cell_type": "markdown",
   "metadata": {},
   "source": [
    "The above code iterates over the keys and values in a dictionary. We can also iterate over just the keys (`for name in room_alloc`), or just the values (`for room in room_alloc.values()`).\n",
    "\n",
    "If we have a list, we sometimes want to iterate over items and their positions in the list. We use `enumerate` for this:"
   ]
  },
  {
   "cell_type": "code",
   "execution_count": null,
   "metadata": {
    "collapsed": true
   },
   "outputs": [],
   "source": [
    "for i, name in enumerate(['adrian', 'chloe', 'guarav', 'shay', 'alexis', 'rebecca', 'zubin']):\n",
    "    print('Person {} is in position {}'.format(name, i))"
   ]
  },
  {
   "cell_type": "markdown",
   "metadata": {},
   "source": [
    "## Comprehensions"
   ]
  },
  {
   "cell_type": "markdown",
   "metadata": {},
   "source": [
    "Python has a distinctive piece of syntax called a [_comprehension_](https://en.wikipedia.org/wiki/List_comprehension) for creating lists. It's a very common pattern to write code that transforms lists, like this:\n",
    "```\n",
    "mylist = ...    # start with some list\n",
    "newlist = []\n",
    "for i in range(len(mylist)):\n",
    "    x = mylist[i]\n",
    "    if testfunc(x):\n",
    "        newlist.append(mapfunc(x))\n",
    "```\n",
    "This is so common that Python has a special syntax for it:\n",
    "```\n",
    "newlist = [mapfunc(x) for x in mylist if testfunc(x)]\n",
    "```\n",
    "We can also use comprehension to create dictionaries and sets. Here are \n",
    "examples of list comprehension and dictionary comprehension:"
   ]
  },
  {
   "cell_type": "code",
   "execution_count": null,
   "metadata": {
    "collapsed": true
   },
   "outputs": [],
   "source": [
    "xs = range(10)\n",
    "print([x**2 for x in xs if x % 2 == 0])  # create a list, filtered to process only even values\n",
    "print({x: x**2 for x in xs})             # create a dictionary "
   ]
  },
  {
   "cell_type": "markdown",
   "metadata": {},
   "source": [
    "<div style=\"background-color:wheat\"><strong>Exercise (ex3).</strong> If you go overboard with list comprehensions, your code becomes unreadable. What does the following code do?\n",
    "<pre style=\"background-color:wheat\">\n",
    "print('\\n'.join(['Room {} has {}'.format(r, ', '.join(occs))\n",
    "                 for r,occs in rooms.items() if r is not None]))\n",
    "</pre>\n",
    "</div>"
   ]
  },
  {
   "cell_type": "markdown",
   "metadata": {},
   "source": [
    "<div style=\"background-color:wheat\"><strong>Exercise (ex4).</strong> Write a single line of code to sort this list\n",
    "<pre style=\"background-color:wheat\">\n",
    "names = ['adrian', 'chloe', 'guarav', 'shay', 'alexis', 'rebecca', 'zubin']\n",
    "</pre>\n",
    "by length, using list comprehension. Hint: make a list of <code style=\"background-color:wheat\">(len(name), name)</code> then sort it,\n",
    "where <code style=\"background-color:wheat\">len(str)</code> gives the length of a string. When\n",
    "Python sorts a list of tuples, it uses <a href=\"https://en.wikipedia.org/wiki/Lexicographical_order\">lexicographic ordering</a>.\n",
    "</div>"
   ]
  },
  {
   "cell_type": "markdown",
   "metadata": {},
   "source": [
    "## 1.4 Functions"
   ]
  },
  {
   "cell_type": "markdown",
   "metadata": {},
   "source": [
    "The code snippet below shows how we define a function in Python. There are several things to note:\n",
    "* The function is defined with a default argument, `c=0`. You can invoke it by either `roots(2,3,1)` or `roots(2,3)`.\n",
    "* Functions can be called with named arguments, `roots(b=3, a=2)`, in which case they can be provided in any order.\n",
    "\n",
    "In scientific computing, we'll come across many functions that accept 10 or more arguments, all of them with sensible defaults, and typically we'll only specify a few of the arguments."
   ]
  },
  {
   "cell_type": "code",
   "execution_count": null,
   "metadata": {
    "collapsed": true
   },
   "outputs": [],
   "source": [
    "import math\n",
    "\n",
    "def roots(a, b, c=0):\n",
    "    \"\"\"Return a list with the real roots of a + b*x + c*(x**2) == 0\"\"\"\n",
    "    if b == 0 and c == 0:\n",
    "        raise Exception(\"This polynomial is constant\")\n",
    "    if c == 0:\n",
    "        return [-a/b]\n",
    "    elif a == 0:\n",
    "        return [0] + roots(b=c, a=b)\n",
    "    else:\n",
    "        discr = b**2 - 4*a*c\n",
    "        if discr < 0:\n",
    "            return []\n",
    "        else:\n",
    "            return [(-b+s*math.sqrt(discr))/2/a for s in [-1,1]]"
   ]
  },
  {
   "cell_type": "markdown",
   "metadata": {},
   "source": [
    "Some more notes:\n",
    "\n",
    "* This function either returns a value, or it throws an exception i.e. prints an error message and finishes. If your function finishes without an explicit `return` statement, it will return `None`. Unlike Java, it's possible for different branches of your function to return values of different types &mdash; at risk to your sanity.\n",
    "* This function returns a single variable, namely a list. If you want to return several variables, return them in a tuple.\n",
    "* It's conventional to document your function by providing a documentation string as the first line."
   ]
  },
  {
   "cell_type": "markdown",
   "metadata": {},
   "source": [
    "<div style=\"background-color:wheat\"><strong>Exercise.</strong> Execute <code style=\"background-color:wheat\">?roots</code>. What does it tell you? Look at some other functions, e.g.\n",
    "<code style=\"background-color:wheat\">?sorted</code>.\n",
    "</div>"
   ]
  },
  {
   "cell_type": "markdown",
   "metadata": {},
   "source": [
    "We can pass functions as arguments to other functions, and we can use the keyword `lambda` to define so-called _anonymous_ functions. Look back at Exercise 5 in ML, then try this code:"
   ]
  },
  {
   "cell_type": "code",
   "execution_count": null,
   "metadata": {
    "collapsed": true
   },
   "outputs": [],
   "source": [
    "def twice(f, x):\n",
    "    return f(f(x))\n",
    "twice(lambda i: i+5, 3)"
   ]
  },
  {
   "cell_type": "markdown",
   "metadata": {},
   "source": [
    "We often use anonymous functions as a way to fill in arguments:"
   ]
  },
  {
   "cell_type": "code",
   "execution_count": null,
   "metadata": {
    "collapsed": true
   },
   "outputs": [],
   "source": [
    "[(b, roots(1,b,2)) for b in range(6)]"
   ]
  },
  {
   "cell_type": "markdown",
   "metadata": {},
   "source": [
    "# More exercises"
   ]
  },
  {
   "cell_type": "markdown",
   "metadata": {},
   "source": [
    "<div style=\"background-color:wheat\">\n",
    "The exercises in this notebook are to give you practice. They are optional, and do not contribute to your final grade. You can check your answers to labelled exercises by \n",
    "following the instructions in <a href=\"0.%20About%20this%20course.ipynb#0.3-Using-the-automatic-grader\">&sect; 0.3 Using the automatic grader</a> with\n",
    "<code style=\"background-color:wheat\">section=\"notes1\"</code>.\n",
    "</div>"
   ]
  },
  {
   "cell_type": "markdown",
   "metadata": {},
   "source": [
    "**Exercise (ex5).** \n",
    "<a name=\"lindley\"></a>\n",
    "A simple queue can be simulated by the following equations. Let $a_t$ be the queue size just before timestep $t$, let the service rate be $C$, and let $a_t$ be the amount of work arriving in timestep $t$. Then\n",
    "$$\n",
    "q_{t+1} = \\max(q_t + a_t - C, 0).\n",
    "$$\n",
    "This is called Lindley's Recursion.\n",
    "Write a function `sim(q0,C,a)` to compute the queue sizes at every timestep $t\\geq 1$, \n",
    "where `q0` is the initial queue size, and `a` is the list $[a_0, a_1, \\dots]$. For example, \n",
    "> `sim(1, 3, [4, 1, 2, 8, 2, 3, 1])`\n",
    "\n",
    "should produce the answer\n",
    "> `[2, 0, 0, 5, 4, 4, 2]`"
   ]
  },
  {
   "cell_type": "markdown",
   "metadata": {},
   "source": [
    "**Exercise (ex6).**\n",
    "* Calculate the base 10 logarithm of 1200 (answer is 3.079)\n",
    "* Calculate the tangent of 60 degrees (answer is 1.7321)\n",
    "* Calculate the square root of -20 (answer is 0+4.4721i)"
   ]
  },
  {
   "cell_type": "markdown",
   "metadata": {},
   "source": [
    "**Exercise (ex7).**\n",
    "Create the list of lists `[[1],[2],[3],...,[n]]` for `n=10`."
   ]
  },
  {
   "cell_type": "markdown",
   "metadata": {},
   "source": [
    "# TODO: linkages\n",
    "\n",
    "* Get students used to the jargon used! Tie in with Mycroft's \"Concepts in programming languages\".\n",
    "* Mutable vs immutable lists: ref ML\n",
    "* Python generators\n",
    "* More about exceptions, including ML\n",
    "* enum datatype (and lack thereof)\n",
    "* A tree, e.g. `[1,[2,[3,4],5]]`. How to define flatten().\n",
    "* Generators, especially generator expressions (maybe not yield functions)\n",
    "* Closures\n",
    "* The None type"
   ]
  }
 ],
 "metadata": {
  "kernelspec": {
   "display_name": "Python 3",
   "language": "python",
   "name": "python3"
  },
  "language_info": {
   "codemirror_mode": {
    "name": "ipython",
    "version": 3
   },
   "file_extension": ".py",
   "mimetype": "text/x-python",
   "name": "python",
   "nbconvert_exporter": "python",
   "pygments_lexer": "ipython3",
   "version": "3.6.1"
  }
 },
 "nbformat": 4,
 "nbformat_minor": 2
}
