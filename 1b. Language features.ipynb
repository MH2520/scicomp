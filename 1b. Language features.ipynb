{
 "cells": [
  {
   "cell_type": "markdown",
   "metadata": {},
   "source": [
    "# 1b. Language features"
   ]
  },
  {
   "cell_type": "markdown",
   "metadata": {},
   "source": [
    "<div style=\"background-color:wheat\"><strong>Goal of this notebook.</strong> \n",
    "See how Python implements the ideas you learnt in IA _Concepts in programming languages_.\n",
    "Understand some of the design choices behind the Python language.\n",
    "</div>"
   ]
  },
  {
   "cell_type": "markdown",
   "metadata": {},
   "source": [
    "* Mutable vs immutable lists: ref ML\n",
    "* Python generators\n",
    "* More about exceptions: ref ML\n",
    "* enum datatype (and lack thereof)\n",
    "* A tree, e.g. `[1,[2,[3,4],5]]`. How to define flatten().\n",
    "* Generators, especially generator expressions (maybe not yield functions)\n",
    "* Closures\n",
    "* The None type (link to Maybe)\n",
    "* Classes, public/private, static."
   ]
  }
 ],
 "metadata": {
  "kernelspec": {
   "display_name": "Python 3",
   "language": "python",
   "name": "python3"
  },
  "language_info": {
   "codemirror_mode": {
    "name": "ipython",
    "version": 3
   },
   "file_extension": ".py",
   "mimetype": "text/x-python",
   "name": "python",
   "nbconvert_exporter": "python",
   "pygments_lexer": "ipython3",
   "version": "3.6.1"
  }
 },
 "nbformat": 4,
 "nbformat_minor": 2
}
