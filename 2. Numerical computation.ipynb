{
 "cells": [
  {
   "cell_type": "markdown",
   "metadata": {},
   "source": [
    "# 2 Numerical computation\n",
    "* [**2.0 Preable**](#2.0-Preamble)\n",
    "* [**2.1 Vectorized thinking**](#2.1-Vectorized-thinking)\n",
    "* [**2.2 Arrays**](#2.2-Arrays)\n",
    "* [**2.3 Numerical optimization and fitting**](#2.3-Numerical-optimization-and-fitting)\n",
    "* [**2.4 Simulation**](#2.4-Simulation)\n",
    "* [**More exercises**](#More-exercises)\n",
    "\n",
    "Working with numbers is central to almost all scientific and engineering computing, from deep learning to image processing to climate simulation. We could use Python directly for numerical\n",
    "computation&mdash;but it's much faster to use Python just as 'glue', using it to write concise code and to quickly develop our thinking, and to rely on \n",
    "carefully optimized low-level libraries for the heavy lifting."
   ]
  },
  {
   "cell_type": "markdown",
   "metadata": {},
   "source": [
    "<div style=\"background-color:wheat\">\n",
    "<strong>Goal of this notebook.</strong>\n",
    "Learn your way around the two main Python libraries for numerical work, \n",
    "<a href=\"http://www.numpy.org/\">NumPy</a> \n",
    "and \n",
    "<a href=\"https://www.scipy.org/\">SciPy</a>,\n",
    "learn how to produce basic plots with [matplotlib](https://matplotlib.org/).\n",
    "\n",
    "If you have come across NumPy before, or if you like to pick up programming by working on problems rather than reading tutorials, skim through the section on <a href=\"#2.1-Vectorized-thinking\">vectorized thinking</a> first and then jump ahead to \n",
    "<a href=\"Assignment%202.ipynb\">Assignment 2</a>.\n",
    "</div>"
   ]
  },
  {
   "cell_type": "markdown",
   "metadata": {},
   "source": [
    "## 2.0 Preamble\n",
    "\n",
    "At the top of almost every piece of scientific computing work, we'll import these standard modules. "
   ]
  },
  {
   "cell_type": "code",
   "execution_count": null,
   "metadata": {
    "collapsed": true
   },
   "outputs": [],
   "source": [
    "# Import modules, and give them short aliases so we can write e.g. np.foo rather than numpy.foo\n",
    "import math, random\n",
    "import numpy as np\n",
    "import matplotlib.pyplot as plt\n",
    "import scipy\n",
    "import scipy.optimize\n",
    "import pandas\n",
    "# The next line is a piece of magic, to let plots appear in our Jupyter notebooks\n",
    "%matplotlib inline    "
   ]
  },
  {
   "cell_type": "markdown",
   "metadata": {},
   "source": [
    "## 2.1 Vectorized thinking\n",
    "\n",
    "We have already seen Python lists, which can store mixed data types e.g. integers mixed with strings and sublists and even functions. The flexibility comes at the price of performance. In scientific computing, it's better to use specialised classes for vectors, and to use functions that operate on entire vectors at once. This is called _vectorized thinking_, and it's a core skill for scientific computing. Once you get the hang of it, you will write code that is more concise and faster.\n",
    "\n",
    "Here's an example: computing the [correlation coefficient](https://en.wikipedia.org/wiki/Pearson_correlation_coefficient) between two vectors $x$ and $y$,"
   ]
  },
  {
   "cell_type": "markdown",
   "metadata": {},
   "source": [
    "$$\n",
    "\\rho\n",
    "= \n",
    "\\frac{\\sum_i(x_i - \\bar{x})(y_i-\\bar{y})}\n",
    "{\\sqrt{\\sum_i(x_i-\\bar{x})^2)} \\sqrt{\\sum_i(y_i-\\bar{y})^2}}\n",
    "$$"
   ]
  },
  {
   "cell_type": "markdown",
   "metadata": {},
   "source": [
    "where $x$ and $y$ have the same length $N$, and "
   ]
  },
  {
   "cell_type": "markdown",
   "metadata": {},
   "source": [
    "$$\n",
    "\\bar{x}=\\frac{1}{N}\\sum_i x_i,\n",
    "\\quad\n",
    "\\bar{y}=\\frac{1}{N}\\sum_i y_i.\n",
    "$$"
   ]
  },
  {
   "cell_type": "markdown",
   "metadata": {},
   "source": [
    "Here are two pieces of code, one written in Python-style, one written in scientific computing style, to compute $\\rho$. The latter is roughly 15 times faster. The magic command `%%time` at the top of a cell makes the notebook print out the execution time."
   ]
  },
  {
   "cell_type": "code",
   "execution_count": null,
   "metadata": {
    "collapsed": true
   },
   "outputs": [],
   "source": [
    "# Set up some parameters.\n",
    "# We'll use a random number seed so our code is reproducible. Python's hash function gives an integer,\n",
    "# suitable for use as a seed.\n",
    "N = 10000000\n",
    "rand_seed = hash('geranium') % (2 << 31)"
   ]
  },
  {
   "cell_type": "code",
   "execution_count": null,
   "metadata": {
    "collapsed": true
   },
   "outputs": [],
   "source": [
    "%%time\n",
    "# Python-style code\n",
    "\n",
    "random.seed(rand_seed)\n",
    "# Create two lists of random numbers, xs and ys, where each y depends on the corresponding x\n",
    "xs = [random.random() for i in range(N)]\n",
    "ys = [xs[i] + random.random() for i in range(N)]\n",
    "# Compute the various terms involved in the formula\n",
    "xbar = sum(xs) / N  # sum(list) is built into Python\n",
    "ybar = sum(ys) / N\n",
    "sxy = sum([(x-xbar)*(y-ybar) for x,y in zip(xs,ys)])  # this is how to iterate over a pair of lists\n",
    "sxx = sum([(x-xbar)**2 for x in xs])\n",
    "syy = sum([(y-ybar)**2 for y in ys])\n",
    "rho = sxy / math.sqrt(sxx) / math.sqrt(syy)\n",
    "print(rho)"
   ]
  },
  {
   "cell_type": "code",
   "execution_count": null,
   "metadata": {
    "collapsed": true
   },
   "outputs": [],
   "source": [
    "%%time\n",
    "# Vectorized code\n",
    "\n",
    "np.random.seed(rand_seed)\n",
    "# Create two random vectors x and y\n",
    "x = np.random.random(N)\n",
    "y = x + np.random.random(N)\n",
    "# Compute the terms in the formula. Note: @ means \"dot product\"\n",
    "xbar = np.sum(x) / N\n",
    "ybar = np.sum(y) / N\n",
    "rho = ((x-xbar) @ (y-ybar)) / math.sqrt(np.sum((x-xbar)**2)) / math.sqrt(np.sum((y-ybar)**2))\n",
    "print(rho)"
   ]
  },
  {
   "cell_type": "markdown",
   "metadata": {},
   "source": [
    "To be good at writing vectorized code, we need to know what sort of vectorized routines there are available in the NumPy library.\n",
    "(And, if we really did know our way round the library, we'd have used [`np.corrcoef`](https://docs.scipy.org/doc/numpy/reference/generated/numpy.corrcoef.html#numpy.corrcoef) rather than write our own code for $\\rho$.)\n",
    "Here are some [useful routines](https://docs.scipy.org/doc/numpy/reference/routines.html#routines).\n",
    "\n",
    "**Create vectors:**\n",
    "<ul style=\"margin-top: 0px\">\n",
    "<li>`np.array([1,2,3])` creates a numpy vector from a Python list\n",
    "<li>`np.zeros(n)`, `np.ones(n)`, `numpy.full(n,fill_value)`\n",
    "<li>`numpy.ones_like(a)` creates a vector of the same shape as `a`\n",
    "<li>`np.arange` is like Python's `range`, `np.linspace(start,stop,n)` creates $n$ evenly-spaced points between `start` and `stop` inclusive\n",
    "<li>`np.random.random(n)`, `np.random.choice(a,n)`, and other [random number generators](https://docs.scipy.org/doc/numpy/reference/routines.random.html)\n",
    "<li>and other [array creation](https://docs.scipy.org/doc/numpy/reference/routines.array-creation.html#array-creation-routines) routines\n",
    "</ul>\n",
    "\n",
    "**Maths:**\n",
    "<ul style=\"margin-top: 0px\">\n",
    "<li>Normal mathematical expressions work on vectors, and you can mix vectors and scalars, e.g. `x + y ** 2 + 5 >= z`\n",
    "<li>`np.sin`, `np.exp`, `np.floor`, ...\n",
    "<li>`x @ y` gives the dot product, `np.linalg.norm(x)` is the norm\n",
    "<li>`np.sum`, `np.prod`, ..., and `np.cumsum(x)` for $[x_0, x_0+x_1, x_0+x_1+x_2, \\dots]$\n",
    "<li>`np.min`, ..., and `np.minimum(x,y)` for $[\\min(x_0,y_0), \\min(x_1,y_1), \\dots]$\n",
    "<li> and other [maths](https://docs.scipy.org/doc/numpy/reference/routines.math.html#mathematical-functions) and [statistics](https://docs.scipy.org/doc/numpy/reference/routines.statistics.html) functions\n",
    "</ul>\n",
    "\n",
    "**Programming:**\n",
    "<ul style=\"margin-top: 0px\">\n",
    "<li>`len(x)` gives the length of a vector\n",
    "<li>`np.sort`, `np.argmax` and other [search functions](https://docs.scipy.org/doc/numpy/reference/routines.sort.html#sorting)\n",
    "<li>`np.any`, `np.all` and other [logic functions](https://docs.scipy.org/doc/numpy/reference/routines.logic.html#logic-functions)\n",
    "<li>`np.where(cond,x,y)` is the vectorized version of `x if cond else y`\n",
    "</ul>\n",
    "\n",
    "**Indexing:**\n",
    "<ul style=\"margin-top: 0px\">\n",
    "<li>The usual [slice notation](http://localhost:8888/notebooks/1__programming.ipynb#Collections:-tuples,-lists,-and-dictionaries) works, e.g. `x[:10]` or `x[10:]` or `x[:-3]`\n",
    "<li>We can index by a vector of booleans, e.g. `x[y>5] = 3`\n",
    "<li>We can index by a vector of integers, e.g. `i=np.argwhere(y>5); x[i]=3`\n",
    "<li>`np.concatenate([v1,v2])` concatenates two or more vectors\n",
    "</ul>"
   ]
  },
  {
   "cell_type": "markdown",
   "metadata": {},
   "source": [
    "<div style=\"background-color:wheat\"><strong>Exercise (ex1a).</strong>\n",
    "Using Python-style code: let $x$ and $y$ be random numbers in the range $[-1,1]$, and let $d=\\sqrt{x^2+y^2}$. Repeat this a million times, and find the mean and standard deviation of your values for $d$.\n",
    "</div>"
   ]
  },
  {
   "cell_type": "markdown",
   "metadata": {},
   "source": [
    "<div style=\"background-color:wheat\"><strong>Exercise (ex1b).</strong>\n",
    "Repeat the previous exercise, but this time using vectorized code. Compare the speed of the two styles of code.\n",
    "</div>"
   ]
  },
  {
   "cell_type": "markdown",
   "metadata": {},
   "source": [
    "In NumPy, all the elements of a vector have to be the same type. Use `x.dtype` to find this type,\n",
    "and [`x.astype`](https://docs.scipy.org/doc/numpy/reference/generated/numpy.ndarray.astype.html#numpy-ndarray-astype) to convert a vector from one type to another."
   ]
  },
  {
   "cell_type": "code",
   "execution_count": null,
   "metadata": {
    "collapsed": true
   },
   "outputs": [],
   "source": [
    "x = np.arange(10)\n",
    "y = (x > 5)\n",
    "z = np.ones_like(x)\n",
    "(x.dtype, y.dtype, z.dtype)"
   ]
  },
  {
   "cell_type": "markdown",
   "metadata": {},
   "source": [
    "## 2.2 Arrays"
   ]
  },
  {
   "cell_type": "markdown",
   "metadata": {},
   "source": [
    "NumPy supports matrices and higher-dimensional arrays. (In fact, when we look up the help for any of the vectorized routines, we see that vectors are nothing more than one-dimensional arrays.) To enter a 2d array like\n",
    "$$\n",
    "a = \\left( \\begin{matrix} 2.2 & 3.7 & 9.1\\\\-4 & 3.1 & 1.3\\end{matrix}\\right)\n",
    "$$\n",
    "we type in"
   ]
  },
  {
   "cell_type": "code",
   "execution_count": null,
   "metadata": {
    "collapsed": true
   },
   "outputs": [],
   "source": [
    "a = np.array([[2.2, 3.7, 9.1], [-4, 3.1, 1.3]])"
   ]
  },
  {
   "cell_type": "markdown",
   "metadata": {},
   "source": [
    "Use `a.shape` to find the dimensions of an array:"
   ]
  },
  {
   "cell_type": "code",
   "execution_count": null,
   "metadata": {
    "collapsed": true
   },
   "outputs": [],
   "source": [
    "a.shape"
   ]
  },
  {
   "cell_type": "markdown",
   "metadata": {},
   "source": [
    "<div style=\"background-color:wheat\"><strong>Exercise (ex2).</strong> What is the relationship between <code style=\"background-color:wheat\">a.shape</code> and <code style=\"background-color:wheat\">len(a)</code>?</div>"
   ]
  },
  {
   "cell_type": "markdown",
   "metadata": {},
   "source": [
    "For 1d vectors the only reshaping operations are slicing and concatenating, but for higher dimensional arrays there is a whole variety of [reshaping functions](https://docs.scipy.org/doc/numpy/reference/routines.array-manipulation.html#array-manipulation-routines) such as stacking, tiling, transposing, etc.\n",
    "NumPy also has a powerful tool called [broadcasting](https://docs.scipy.org/doc/numpy/user/basics.broadcasting.html) which generalizes \"add a scalar to a vector\", and which is used a lot in more advanced array-manipulating code. It's more advanced than we need for this course, but it's used a lot in machine learning and it's worth reading about."
   ]
  },
  {
   "cell_type": "markdown",
   "metadata": {},
   "source": [
    "<div style=\"background-color:wheat\"><strong>Exercise (ex3).</strong> Look up the NumPy help for <code style=\"background-color:wheat\">arange</code> and <code style=\"background-color:wheat\">reshape</code>, and use these functions to produce the $3\\times5$ matrix\n",
    "$$\n",
    "b = \\left( \\begin{matrix} \n",
    "1 & 2 & 3 & 4 & 5\\\\\n",
    "6 & 7 & 8 & 9 & 10\\\\\n",
    "11 & 12 & 13 & 14 & 15\n",
    "\\end{matrix} \\right)\n",
    "$$\n",
    "Look up the help for <code style=\"background-color:wheat\">sum</code>, and compute the length-5 vector of column sums and the length-3 vector of row sums.\n",
    "</div>"
   ]
  },
  {
   "cell_type": "markdown",
   "metadata": {},
   "source": [
    "<div style=\"background-color:wheat\"><strong>Exercise (ex4).</strong>\n",
    "Find two different ways to use NumPy to create the column vector <code style=\"background-color:wheat\">array([[1],[2],...,[n]])</code>.\n",
    "</div>"
   ]
  },
  {
   "cell_type": "markdown",
   "metadata": {},
   "source": [
    "To refer to a subarray, we can use an extended version of Python's slice notation."
   ]
  },
  {
   "cell_type": "code",
   "execution_count": null,
   "metadata": {
    "collapsed": true
   },
   "outputs": [],
   "source": [
    "a[:, :2]                   # all rows, first two columns\n",
    "a[1, :]                    # second row (indexes start at 0), all columns\n",
    "a[1]                       # another way to fetch the second row\n",
    "a[:2, :2] = [[1,2],[3,4]]  # assign to a submatrix\n",
    "a"
   ]
  },
  {
   "cell_type": "markdown",
   "metadata": {},
   "source": [
    "To refer to arbitrary sets of elements in the array, we can use boolean indexing e.g. `a[a>=2]`, or integer indexing as in the code snippet below. These are both called [advanced indexing](https://docs.scipy.org/doc/numpy/reference/arrays.indexing.html#advanced-indexing)."
   ]
  },
  {
   "cell_type": "code",
   "execution_count": null,
   "metadata": {
    "collapsed": true
   },
   "outputs": [],
   "source": [
    "a = np.zeros((3,3), dtype=np.int)\n",
    "a[[0,1,2], [1,0,2]] = [1,1,1]\n",
    "a"
   ]
  },
  {
   "cell_type": "markdown",
   "metadata": {},
   "source": [
    "<div style=\"background-color:wheat\"><strong>Exercise (ex5).</strong>\n",
    "A <a href=\"https://en.wikipedia.org/wiki/Permutation_matrix\">permutation matrix</a> is a square matrix of 0s and 1s,\n",
    "where each row contains exactly one 1, and each column likewise. (The code snippet above creates a $3\\times3$ permutation matrix.) Write code to generate a random $n\\times n$ permutation matrix.\n",
    "</div>"
   ]
  },
  {
   "cell_type": "markdown",
   "metadata": {},
   "source": [
    "In Easter term, you will study linear algebra in the _Maths for Natural Sciences_ course. If you want to try out the maths, you'll find relevant functions in [`np.linalg`](https://docs.scipy.org/doc/numpy/reference/routines.linalg.html)\n",
    "and\n",
    "[`np.dual`](https://docs.scipy.org/doc/numpy/reference/routines.dual.html)."
   ]
  },
  {
   "cell_type": "markdown",
   "metadata": {},
   "source": [
    "## 2.3 Numerical optimization and fitting"
   ]
  },
  {
   "cell_type": "markdown",
   "metadata": {},
   "source": [
    "A common task in science and in machine learning is to find the minimum value of a function, which may have one or more variables. For example, we might have a collection of points that more or less follow a straight line, and we might want to use the equation $y=mx+c$. In this case, we'd like to tune the values of $m$ and $c$ so that the equation lies close to the data. We can achieve this by defining a function $L(m,c)$ that measures how far the points are from the straight line, and then choosing $m$ and $c$ to minimize $L(m,c)$.\n",
    "\n",
    "<span style=\"background-color:red; padding:1pt; color:white\">WARNING!</span> The methods we discuss here sometimes work brilliantly, but sometimes are unstable. This is not the fault of Python or the libraries we are using. \n",
    "It's just the case that sometimes the equations in the algorithm and numerical issues in the data are not well balanced. This is something we need to bear in mind every time we use these methods, and we should check the output, for example by plotting graphs.\n",
    "\n",
    "Let's start by minimizing a simple function of one variable. We could use calculus to find the minimum for a simple example like this, but let's do it with computer power instead."
   ]
  },
  {
   "cell_type": "code",
   "execution_count": null,
   "metadata": {
    "collapsed": true
   },
   "outputs": [],
   "source": [
    "def f(x, a, b, c):\n",
    "    return a*x + b*(x**2) + c*(x**4)"
   ]
  },
  {
   "cell_type": "markdown",
   "metadata": {},
   "source": [
    "We'll plot this function first, to get a rough idea of where the minimum should be.\n",
    "Visualisation is a crucial part of scientific computing, and we'll cover it in much more detail in [&sect;3 Working with Data](3.%20Working%20with%20data.ipynb), but for present purposes we'll just use some very simple plotting commands. The [pyplot tutorial](https://matplotlib.org/users/pyplot_tutorial.html) explains more options."
   ]
  },
  {
   "cell_type": "code",
   "execution_count": null,
   "metadata": {
    "collapsed": true
   },
   "outputs": [],
   "source": [
    "x = np.linspace(-2,2,40)          # 40 equally spaced points in the range [-2,2]\n",
    "y = f(x, a=1, b=-3, c=1)          # f is automatically vectorized, because it only uses vectorized expressions\n",
    "plt.plot(x, y, linestyle='-', linewidth=1, color='red')\n",
    "plt.show()"
   ]
  },
  {
   "cell_type": "markdown",
   "metadata": {},
   "source": [
    "The `scipy.optimize.fmin` function finds where the function achieves its minimum value, starting from an initial guess `x0`. The first argument is the function to optimize. In the snippet below we're giving it an anonymous function that is a version of `f` with the parameters `a`, `b` and `c` filled in."
   ]
  },
  {
   "cell_type": "code",
   "execution_count": null,
   "metadata": {
    "collapsed": true
   },
   "outputs": [],
   "source": [
    "scipy.optimize.fmin(lambda x: f(x,a=1,b=-3,c=1), x0=0.5)"
   ]
  },
  {
   "cell_type": "markdown",
   "metadata": {},
   "source": [
    "It found a local minimum, not the global minimum. This is often a problem with numerical optimization routines, and it's why it's helpful to look at the data first."
   ]
  },
  {
   "cell_type": "markdown",
   "metadata": {},
   "source": [
    "<div style=\"background-color:wheat\"><strong>Exercise (ex6).</strong> \n",
    "What starting point do we need to give, so that it can find the global optimum?\n",
    "Run <code style=\"background-color:wheat\">scipy.optimize.fmin</code> for a range of values of \n",
    "<code style=\"background-color:wheat\">x0</code> in the range $[-2,2]$. Tabulate \n",
    "<code style=\"background-color:wheat\">x0</code> versus the minimizing $x$ it finds. You can turn off the diagnostic output with the option\n",
    "<code style=\"background-color:wheat\">disp=False</code>.</div>"
   ]
  },
  {
   "cell_type": "markdown",
   "metadata": {},
   "source": [
    "Here is an example of a function of two variables. We'll try to fit the straight line $y=mx+c$ through a set of points. We'll define the _loss function_\n",
    "$$\n",
    "L(m,c) = \\sum_i (m x_i + c - y_i)^2\n",
    "$$\n",
    "and look for $m$ and $c$ to minimize it."
   ]
  },
  {
   "cell_type": "code",
   "execution_count": null,
   "metadata": {
    "collapsed": true
   },
   "outputs": [],
   "source": [
    "x = np.linspace(-3,3,40)\n",
    "y = np.sin(x) + 2 * np.random.random(x.shape)\n",
    "\n",
    "def loss(m,c):\n",
    "    return np.sum((m*x+c - y)**2)"
   ]
  },
  {
   "cell_type": "markdown",
   "metadata": {},
   "source": [
    "Before we do any numerical work, we should visualize what we're doing. Here are a plot of the points $(x_i,y_i)$, and a surface plot of the loss function $L(m,c)$ as a function of $m$ and $c$. The 3d plotting functions are somewhat mysterious, and you should look at [relevant examples](https://matplotlib.org/examples/mplot3d/index.html) and copy them. "
   ]
  },
  {
   "cell_type": "code",
   "execution_count": null,
   "metadata": {
    "collapsed": true
   },
   "outputs": [],
   "source": [
    "# Scatter plot of the data\n",
    "plt.plot(x, y, marker='o', markerfacecolor='white', markeredgecolor='black', linestyle='None')\n",
    "plt.show()"
   ]
  },
  {
   "cell_type": "code",
   "execution_count": null,
   "metadata": {
    "collapsed": true
   },
   "outputs": [],
   "source": [
    "# Surface plot of loss(m,c)\n",
    "# adapted from https://matplotlib.org/examples/mplot3d/surface3d_demo.html\n",
    "\n",
    "# Create 2d arrays, one with each m value, one with each c value, one with loss\n",
    "m,c = np.meshgrid(np.linspace(-3,3,20), np.linspace(-3,5,20))\n",
    "l = np.zeros_like(m)\n",
    "for i in range(l.shape[0]):\n",
    "    for j in range(l.shape[1]):\n",
    "        l[i,j] = loss(m[i,j], c[i,j])\n",
    "\n",
    "from mpl_toolkits.mplot3d import axes3d   # import a library to allow 3d plots\n",
    "axes = plt.figure().gca(projection='3d')  # say that we want axes for a 3d plot\n",
    "axes.plot_surface(m, c, l)                # draw a surface plot\n",
    "axes.set_xlabel('m')\n",
    "axes.set_ylabel('c')\n",
    "plt.show()"
   ]
  },
  {
   "cell_type": "markdown",
   "metadata": {},
   "source": [
    "It doesn't look like $L(m,c)$ has any nasty surprises, so let's find the minimizing $m$ and $c$."
   ]
  },
  {
   "cell_type": "code",
   "execution_count": null,
   "metadata": {
    "collapsed": true
   },
   "outputs": [],
   "source": [
    "# To optimize a function of several several variables, provide them as an array\n",
    "# of the appropriate length.\n",
    "optpars = scipy.optimize.fmin(lambda params: loss(params[0], params[1]), x0=[0,0])\n",
    "optpars"
   ]
  },
  {
   "cell_type": "markdown",
   "metadata": {},
   "source": [
    "Now let's plot the data again, with the fitted straight line."
   ]
  },
  {
   "cell_type": "code",
   "execution_count": null,
   "metadata": {
    "collapsed": true
   },
   "outputs": [],
   "source": [
    "# Plot the points\n",
    "plt.plot(x, y, marker='o', markerfacecolor='white', markeredgecolor='black', linestyle='None')\n",
    "# Plot the fitted line\n",
    "def fit(x):\n",
    "    return optpars[0] * x + optpars[1]\n",
    "plt.plot([-3,3], [fit(-3),fit(3)], linestyle='--', color='lightblue', linewidth=2)\n",
    "# Show the graphic\n",
    "plt.show()"
   ]
  },
  {
   "cell_type": "markdown",
   "metadata": {},
   "source": [
    "## 2.4 Simulation\n",
    "\n",
    "TODO. _Some simple iterative simulation. Maybe ODE. Maybe an interactive graphic (taken from CUED), for the ODE for orbit around two suns (taken from NST)._"
   ]
  },
  {
   "cell_type": "markdown",
   "metadata": {},
   "source": [
    "# More exercises"
   ]
  },
  {
   "cell_type": "markdown",
   "metadata": {},
   "source": [
    "<div style=\"background-color:wheat\">\n",
    "These exercises in this notebook are to give you practice. They are optional, and do not contribute to your final grade. You can check your answers to labelled exercises by \n",
    "following the instructions in <a href=\"0.%20About%20this%20course.ipynb#0.3-Using-the-automatic-grader\">&sect;0.3 Using the automatic grader</a> with \n",
    "<code style=\"background-color:wheat\">section=\"notes2\"</code>.\n",
    "</div>"
   ]
  },
  {
   "cell_type": "markdown",
   "metadata": {},
   "source": [
    "** Exercise (ex7).**\n",
    "Let $x$ and $y$ be random vectors as in the [earlier exercise](#twovars). Using \n",
    "`np.atan(y/x)`,\n",
    "find the angle $\\theta_i$ from $(0,0)$ to each point $(x_i,y_i)$. Write your code so as to use the conventions for positive and negative angles as in the diagram below, and remember to check for $x_i=0$."
   ]
  },
  {
   "cell_type": "markdown",
   "metadata": {},
   "source": [
    "**Exercise (ex8).**\n",
    "Verify that in Exercise 1 you get the same answers as `np.arctan2(y,x)`,\n",
    "by computing $\\text{err} = \\sum (\\theta_i-\\phi_i)^2$ where $\\phi_i$ is the answer using \n",
    "`np.arctan2`."
   ]
  },
  {
   "cell_type": "markdown",
   "metadata": {},
   "source": [
    "**Exercise (ex9).**\n",
    "In [&sect;1. Programming in Python](1.%20Programming%20in%20Python.ipynb#lindley) you wrote a Pythonic simulator for a queue, based on Lindley's recursion\n",
    "$$\n",
    "q_{t+1} = \\max(q_t+a_t-C, 0).\n",
    "$$\n",
    "It can be proved that this yields the same answer as\n",
    "$$\n",
    "q_t = q_0 + x_t - \\min(0, y_t),\n",
    "$$\n",
    "where\n",
    "$$\n",
    "x_t = \\sum_{u=1}^t (a_u-C)\n",
    "\\quad\\text{and}\\quad\n",
    "y_t = \\min_{1 \\leq u \\leq t} (q_0 + x_u).\n",
    "$$\n",
    "Compute $x=[x_1,x_2,\\dots]$ using [`np.cumsum`](https://docs.scipy.org/doc/numpy/reference/generated/numpy.cumsum.html).\n",
    "Compute $y=[y_1,y_2,\\dots]$ using \n",
    "[`np.ufunc.accumulate`](https://docs.scipy.org/doc/numpy/reference/generated/numpy.ufunc.accumulate.html).\n",
    "Hence compute $q=[q_1,q_2,\\dots]$.\n",
    "Check your answer against your Pythonic code."
   ]
  }
 ],
 "metadata": {
  "kernelspec": {
   "display_name": "Python 3",
   "language": "python",
   "name": "python3"
  },
  "language_info": {
   "codemirror_mode": {
    "name": "ipython",
    "version": 3
   },
   "file_extension": ".py",
   "mimetype": "text/x-python",
   "name": "python",
   "nbconvert_exporter": "python",
   "pygments_lexer": "ipython3",
   "version": "3.5.2"
  }
 },
 "nbformat": 4,
 "nbformat_minor": 2
}
