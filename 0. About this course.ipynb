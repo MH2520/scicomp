{
 "cells": [
  {
   "cell_type": "markdown",
   "metadata": {},
   "source": [
    "# 0. About this course\n",
    "\n",
    "<div style=\"background-color:wheat; margin-top:1em\">\n",
    "<strong>Goal of this course.</strong>\n",
    "There are some skills that you never really _get_ until you try to use them. \n",
    "Handling experimental data is such a skill.\n",
    "The aim of this course is to make sure you comfortable with getting hold of data\n",
    "(either from simulations or by importing it), \n",
    "manipulating it, and plotting it. With a minimum of fuss, and with decent\n",
    "speed, using the programming language Python.\n",
    "</div>"
   ]
  },
  {
   "cell_type": "markdown",
   "metadata": {},
   "source": [
    "## 0.0 What is scientific computing?\n",
    "\n",
    "* Why is it different to software engineering?\n",
    "* Emphasis on interactivity and plots; notebooks\n",
    "* Languages used by scientific computing communities\n",
    "* Glue-style programming"
   ]
  },
  {
   "cell_type": "markdown",
   "metadata": {},
   "source": [
    "This course is loosely linked to some other IA courses:\n",
    "\n",
    "* _Maths for Natural Sciences_. This present _Scientific Computing_ course is for 50%-CS and 75%-CS students, who are all taking _Maths for Natural Sciences_. Science students have their own version of _Scientific Computing_, which uses MATLAB.\n",
    "\n",
    "* _Machine Learning and Real World Data_. The MLRD course involves lots of scientific computing and plotting. It expects you to program your work in Java, but some of you might like to sketch out your ideas in Python first.\n",
    "\n",
    "* _Foundations of Computer Science_. The Python language has many functional features, and many of the ideas discussed in _Foundations_ have counterparts in Python. You'll see these links throughout this present course. It's useful to see how different programming languages have their own take on an idea.\n",
    "\n",
    "* _Object Oriented Programming_. Python is an object-oriented language, and every value in Python is an object. _OOP_ will describe some of Python's object-oriented features, and compare them to Java. In this present course we'll use the objects provided by Python and by the other libraries we use, but we won't define any classes ourselves.\n",
    "\n",
    "* _Algorithms_. Many of the algorithms in _Algorithms_ will be presented in pseudocode that closely resembles Python. If you want to become more fluent in Python, play with the code presented in that course.\n",
    "\n",
    "* _Databases_, Michaelmas term. Section 3 of this course is about handling data in Python, which closely resembles querying a database. Also, Section 3 gives examples of importing data by querying an SQL database, so you can use Python as a sandbox to familiarise yourself with SQL and to visualize query results."
   ]
  },
  {
   "cell_type": "markdown",
   "metadata": {},
   "source": [
    "## 0.1 Course structure\n",
    "\n",
    "This course is for you to work through at your own pace. You might blaze through it all and get it out of the way as soon as you can, or you may choose to work through steadily in time for the final ticking session in Lent term. You may like to approach it as a problem-solving course, jumping straight into the assignments and diving into the notes only as you need to. Or you may like to work through the notes systematically before going on to the assignments. It's up to you.\n",
    "\n",
    "| Assignment | Notes | |\n",
    "|:------------|:-------|:---|\n",
    "| [Assignment 1](Assignment%201.ipynb) | [1. Programming in Python](1.%20Programming%20in%20Python.ipynb) | Using notebooks, and the Python language |\n",
    "| [Assignment 2](Assignment%202.ipynb) | [2. Numerical computation](2.%20Numerical%20computation.ipynb) | Arrays, vectorized coding, and basic plotting |\n",
    "| [Assignment 3](Assignment%203.ipynb) | [3. Working with data](3.%20Working%20with%20data.ipynb) | Importing and manipulating datasets, and more advanced plotting |"
   ]
  },
  {
   "cell_type": "markdown",
   "metadata": {},
   "source": [
    "### Assessment"
   ]
  },
  {
   "cell_type": "markdown",
   "metadata": {},
   "source": [
    "The assignments are assessed in two ways:\n",
    "* As you work through an assignment, you will submit answers to an **automatic grader**, which checks if the answers are correct. This is for you to use as a debugging aide: run the automatic grader as many times as you need until your code gives the right answers. You should aim to answer all the questions in the assignments. The automatic grader will show you your progress.\n",
    "* There is a final **ticking session**, when you present your work for the entire course to a (human) demonstrator. The demonstrator will choose some parts of the assignments, and ask you to explain your working. The demonstrator will only ask you about the questions where you have submitted your correct answer to the autograder.\n",
    "The ticking session is for the examiners to guard against plagiarism. At the ticking session, you should have your notebooks ready and open in a browser, and your code should execute without errors. For scheduling of ticks, see\n",
    "[Moodle]().\n",
    "\n",
    "<span style=\"background-color:red; color:white\">**Grading.** \n",
    "Rules for partial credit? Mark scheme?\n",
    "</span>"
   ]
  },
  {
   "cell_type": "markdown",
   "metadata": {},
   "source": [
    "### Getting help\n",
    "\n",
    "You must understand what your programs are doing, and in the ticking session you will be asked justify your answers to the assignments. However, it's fine to get help, and if you are having difficulty this is encouraged.\n",
    "\n",
    "The main help forum is at [AllAnswered.com](https://www.allanswered.com/). This is a clone of [StackOverflow](https://www.stackoverflow.com), the favourite online help for computer scientists everywhere. We hope that you will use this forum cooperatively, helping each other to ask better questions and to share tips.\n",
    "AllAnswered has a points system to 'reward' people who ask good questions and who give useful help. The Computer Laboratory will add to the rewards, with a prize of £30 and another of £20 for the two users with the most points. See [Moodle]() for details of the prizes.\n",
    "\n",
    "In addition, you can come to the help sessions and ask for help from a demonstrator. See [Moodle]() for timetabling information. <span style=\"background-color:yellow\"><strong>How many help sessions? Can we blend help and ticking, and let students do things at their own pace?</strong></span>"
   ]
  },
  {
   "cell_type": "markdown",
   "metadata": {},
   "source": [
    "## 0.3 Using the automatic grader"
   ]
  },
  {
   "cell_type": "markdown",
   "metadata": {},
   "source": [
    "Please read [&sect;1 Programming in Python](1.%20Programming%20in%20Python.ipynb) first. It tells you how to edit notebooks and run code.\n",
    "\n",
    "Once you've answered some exercises and you're ready to check your answers, \n",
    "paste the following code at the top of your notebook and run it. "
   ]
  },
  {
   "cell_type": "code",
   "execution_count": null,
   "metadata": {
    "collapsed": true
   },
   "outputs": [],
   "source": [
    "!pip install ucamcl\n",
    "import ucamcl\n",
    "GRADER = ucamcl.autograder(host = 'https://markmy.solutions/scicomp', section='***')"
   ]
  },
  {
   "cell_type": "markdown",
   "metadata": {},
   "source": [
    "> The first line installs a Python package `ucamcl`, with the functions used by the automatic grader. (On Azure, you are given a new machine every time you start a notebook, so you have to install the `ucaml` package every time.)\n",
    "> The next line makes it available in your current notebook.\n",
    "> The third line will produce a login button, which you should click on. It will open a web page, showing you your progress so far."
   ]
  },
  {
   "cell_type": "markdown",
   "metadata": {},
   "source": [
    "### Submitting answers to assessed exercises\n",
    "\n",
    "A typical question will look something like this:"
   ]
  },
  {
   "cell_type": "markdown",
   "metadata": {},
   "source": [
    "**Question 1.** Given an integer $n$ and a value $v$, create a list containing $n$ copies of $v$. Check your answer with the following code:\n",
    "<pre>\n",
    "q = GRADER.fetch_question('q1')\n",
    "# Let x be a list consisting of q.n copies of q.v\n",
    "GRADER.submit_answer(q, x)\n",
    "</pre>"
   ]
  },
  {
   "cell_type": "markdown",
   "metadata": {},
   "source": [
    "When you call `GRADER.fetch_question`, the function returns an object `q` with the question parameters. Your fellow students might be given different parameters. You can call `print(q)` to see them, and to see what format the answer should take.\n",
    "\n",
    "When you call `submit_answer`, the server checks if the answer is correct for the question parameters you were given. If not, it may tell you what answer it was expecting. If you get the question wrong, don't be tempted to just paste in the correct answer and resubmit &mdash; the system marks the question as \"stale\", and you will have to call `fetch_question` again to fetch new question parameters before you are allowed to resubmit."
   ]
  },
  {
   "cell_type": "markdown",
   "metadata": {},
   "source": [
    "### Checking answers to non-assessed exercises\n",
    "\n",
    "Some non-assessed exercises come with answers. Such exercises have labels: for example if you see <span style=\"background-color:wheat\"><strong>Exercise (ex5)</strong></span> then the label is `ex5`. Check your answers by calling\n",
    "<pre>\n",
    "q = GRADER.fetch_question('ex5')\n",
    "print(q)\n",
    "</pre>\n",
    "It might print out the full answer. Or it might print out instructions for how you can submit your own answer for checking. In the latter case, <code>print(q)</code> will tell you what format it expects the answer to be in. Follow the instructions, and check your answer by running\n",
    "<pre>\n",
    "GRADER.submit_answer(q, ans)\n",
    "</pre>"
   ]
  }
 ],
 "metadata": {
  "kernelspec": {
   "display_name": "Python 3",
   "language": "python",
   "name": "python3"
  },
  "language_info": {
   "codemirror_mode": {
    "name": "ipython",
    "version": 3
   },
   "file_extension": ".py",
   "mimetype": "text/x-python",
   "name": "python",
   "nbconvert_exporter": "python",
   "pygments_lexer": "ipython3",
   "version": "3.5.2"
  }
 },
 "nbformat": 4,
 "nbformat_minor": 2
}
