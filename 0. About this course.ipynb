{
 "cells": [
  {
   "cell_type": "markdown",
   "metadata": {},
   "source": [
    "# 0. About this course\n",
    "\n",
    "<div style=\"background-color:wheat; margin-top:1em\">\n",
    "<strong>Goal of this course.</strong>\n",
    "There are some skills that you never really _get_ until you try to use them. \n",
    "Handling experimental data is such a skill.\n",
    "The aim of this course is to make sure you comfortable with getting hold of data\n",
    "(either from simulations or by importing it), \n",
    "manipulating it, and plotting it. With a minimum of fuss, and with decent\n",
    "speed, using the programming language Python.\n",
    "</div>"
   ]
  },
  {
   "cell_type": "markdown",
   "metadata": {},
   "source": [
    "## 0.0 What is scientific computing?\n",
    "\n",
    "* Why is it different to software engineering?\n",
    "* Emphasis on interactivity and plots; notebooks\n",
    "* Languages used by scientific computing communities\n",
    "* Glue-style programming"
   ]
  },
  {
   "cell_type": "markdown",
   "metadata": {},
   "source": [
    "## 0.1 Course structure\n",
    "\n",
    "This course is for you to work through at your own pace. You might blaze through it all and get it out of the way in the Michaelmas term, or you may choose to work through steadily in time for the final ticking session in Lent term. It is loosely linked to some other IA courses:\n",
    "\n",
    "* _Maths for Natural Sciences_, Michaelmas, Lent, and Easter terms. This present _Scientific Computing_ course is for 75%-CS students, and accompanies _Maths for Natural Sciences_. Natural Sciences students take their own _Scientific Computing_ course, which is targetted at students with very little programming background. The Computer Science version uses Python, while the Natural Sciences version uses MATLAB.\n",
    "\n",
    "* _Machine Learning and Real World Data_, Lent term. The MLRD course involves lots of scientific computing and plotting. It expects you to program your work in Java, but some of you might like to sketch out your ideas in Python first.\n",
    "\n",
    "* _Algorithms_, Lent term. Many of the algorithms in _Algorithms_ will be presented in pseudocode that closely resembles Python.\n",
    "\n",
    "* _Databases_, Michaelmas term. [&sect;3 Working with data]() shows you how to import data from a SQL database. You can use Python as a sandbox to familiarise yourself with SQL, especially useful when you want to visualise query results.\n",
    "\n",
    "* _Object Oriented Programming_, Michaelmas term. Python is an object oriented programming language. We won't cover the OOP features in _Scientific Computing_, but they will be described briefly in _Object Oriented Programming_. It's useful to see how different languages have their own take on an idea.\n",
    "\n",
    "\n",
    "### Getting help\n",
    "\n",
    "You must understand what your programs are doing, and in the ticking sessions you will be asked justify your answers to the assignments. However, it's fine to get help, and if you are having difficulty this is encouraged.\n",
    "\n",
    "The main help forum is at [AllAnswered.com](https://www.allanswered.com/). This is a clone of [StackOverflow](https://www.stackoverflow.com), the favourite online help for computer scientists everywhere. We hope that you will use this forum cooperatively, helping each other to ask better questions and to share tips.\n",
    "AllAnswered has a points system to 'reward' people who ask good questions and who give useful help. The Computer Laboratory will add to the rewards, with two prizes of £50 each for the two users with the most points. See [Moodle]() for details of the prizes.\n",
    "\n",
    "In addition, you can come to the help sessions and ask for help from a demonstrator. See [Moodle]() for timetabling information. <span style=\"background-color:yellow\"><strong>How many help sessions? Can we blend help and ticking, and let students do things at their own pace?</strong></span>"
   ]
  },
  {
   "cell_type": "markdown",
   "metadata": {},
   "source": [
    "## 0.2 Assessment"
   ]
  },
  {
   "cell_type": "markdown",
   "metadata": {},
   "source": [
    "This course has two marked assignments. Each of them is assessed by _microticks_ and by _ticks_:\n",
    "\n",
    "**Microticks** are automated tests, run by an automatic grader, to see if your code gives the right answers. \n",
    "Microticks are there for you to use as a debugging aide: run the automatic grader as many times as you need until your code gives the right answers. You should aim to answer all the questions in the assignments, and to pass all of the microticks. You can track your progress on \n",
    "[Moodle]().\n",
    "\n",
    "**A tick** is when you present your work for the entire course to a (human) demonstrator. The demonstrator will choose some parts of one or both of the assignments, and ask you to explain your working. The demonstrator will only ask you about the questions where you have passed the microticks.\n",
    "Ticks are there for the examiners to guard against plagiarism. At the ticking session, you should have your notebooks ready and open in a browser, and your code should execute without errors. For scheduling of ticks, see\n",
    "[Moodle]().\n",
    "\n",
    "<span style=\"background-color:red; color:white\">**Grading.** \n",
    "Partial credit? What happens if you don't complete all the ticks, or if the demonstrator isn't really happy?\n",
    "</span>"
   ]
  },
  {
   "cell_type": "markdown",
   "metadata": {},
   "source": [
    "## 0.3 Using the automatic grader"
   ]
  },
  {
   "cell_type": "markdown",
   "metadata": {},
   "source": [
    "Please read [&sect;1 Programming in Python](1.%20Programming%20in%20Python.ipynb) first. It tells you how to edit notebooks and run code.\n",
    "\n",
    "Once you've answered some exercises and you're ready to check your answers, \n",
    "paste the following code at the top of your notebook and run it. "
   ]
  },
  {
   "cell_type": "code",
   "execution_count": null,
   "metadata": {
    "collapsed": true
   },
   "outputs": [],
   "source": [
    "!pip install ucamcl\n",
    "\n",
    "GRADER = ucamcl.tick_server(\n",
    "    host = 'https://moodle.this.course/',\n",
    "    user = 'spqr1@cam.ac.uk',   # use your own CSRid\n",
    "    section = '***')  # each notebook tells you what value to use here"
   ]
  },
  {
   "cell_type": "markdown",
   "metadata": {},
   "source": [
    "> The first line installs a Python package `ucamcl`, with the functions used by the automatic grader. (On Azure, you are given a new machine every time you start a notebook, so you have to install the `ucaml` package every time.)\n",
    "> The next line sets up the automatic grader."
   ]
  },
  {
   "cell_type": "markdown",
   "metadata": {},
   "source": [
    "### Submitting answers to assessed exercises\n",
    "\n",
    "A typical question will look something like this:"
   ]
  },
  {
   "cell_type": "markdown",
   "metadata": {},
   "source": [
    "**Question 1.** Given an integer $n$ and a value $v$, create a list containing $n$ copies of $v$. Check your answer with the following code:\n",
    "<pre>\n",
    "q = GRADER.fetch_question('q1')\n",
    "# Let x be a list consisting of q.n copies of q.v\n",
    "GRADER.submit_answer(q, {'x': x})\n",
    "</pre>"
   ]
  },
  {
   "cell_type": "markdown",
   "metadata": {},
   "source": [
    "When you call `GRADER.fetch_question`, the function returns an object `q` with the question parameters. Your fellow students might be given different parameters. You can call `print(q)` to see them, and to see what format the answer should take.\n",
    "\n",
    "When you call `submit_answer`, the server checks if the answer is correct for the question parameters you were given. If not, it may tell you what answer it was expecting. If you get the question wrong, don't be tempted to just paste in the correct answer and resubmit &mdash; the system marks the question as \"stale\", and you will have to call `fetch_question` again to fetch new question parameters before you are allowed to resubmit.\n",
    "\n",
    "When you call `submit_answer`, it will also tell you your progress so far. Or you can visit Moodle to see, or you can call `GRADER.status()`."
   ]
  },
  {
   "cell_type": "markdown",
   "metadata": {},
   "source": [
    "### Checking answers to non-assessed exercises\n",
    "\n",
    "Some non-assessed exercises come with answers. Such exercises have labels: for example if you see <span style=\"background-color:wheat\"><strong>Exercise (ex5)</strong></span> then the label is `ex5`. Check your answers by calling\n",
    "<pre>\n",
    "q = GRADER.fetch_question('ex5')\n",
    "print(q)\n",
    "</pre>\n",
    "It might print out the full answer. Or it might print out instructions for how you can submit your own answer for checking. In the latter case, <code>print(q)</code> will tell you what format it expects the answer to be in. Follow the instructions, and check your answer by running\n",
    "<pre>\n",
    "GRADER.submit_answer(q, ans)\n",
    "</pre>"
   ]
  }
 ],
 "metadata": {
  "kernelspec": {
   "display_name": "Python 3",
   "language": "python",
   "name": "python3"
  },
  "language_info": {
   "codemirror_mode": {
    "name": "ipython",
    "version": 3
   },
   "file_extension": ".py",
   "mimetype": "text/x-python",
   "name": "python",
   "nbconvert_exporter": "python",
   "pygments_lexer": "ipython3",
   "version": "3.5.1"
  }
 },
 "nbformat": 4,
 "nbformat_minor": 2
}
