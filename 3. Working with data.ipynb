{
 "cells": [
  {
   "cell_type": "markdown",
   "metadata": {},
   "source": [
    "# 3. Working with data"
   ]
  },
  {
   "cell_type": "markdown",
   "metadata": {},
   "source": [
    "## 3.0 Preamble\n",
    "\n",
    "At the top of almost every piece of scientific computing work, we'll import these standard modules."
   ]
  },
  {
   "cell_type": "code",
   "execution_count": 2,
   "metadata": {
    "collapsed": true
   },
   "outputs": [],
   "source": [
    "# Import modules, and give them short aliases so we can write e.g. np.foo rather than numpy.foo\n",
    "import math, random\n",
    "import numpy as np\n",
    "import matplotlib\n",
    "import matplotlib.pyplot as plt\n",
    "import scipy\n",
    "import scipy.optimize\n",
    "import pandas\n",
    "from collections import OrderedDict\n",
    "# The next line is a piece of magic, to let plots appear in our Jupyter notebooks\n",
    "%matplotlib inline "
   ]
  },
  {
   "cell_type": "markdown",
   "metadata": {},
   "source": [
    "We'll also import the `ucamcl` module. In addition to the autograder, it contains some convenient data-handling routines."
   ]
  },
  {
   "cell_type": "code",
   "execution_count": 3,
   "metadata": {
    "collapsed": true
   },
   "outputs": [],
   "source": [
    "#!pip3 install ucamcl -q\n",
    "import ucamcl\n",
    "from ucamcl.fds import summary, cut\n",
    "#GRADER = ucamcl.autograder(https://markmy.solutions/', course='scicomp', section='notes2')"
   ]
  },
  {
   "cell_type": "markdown",
   "metadata": {},
   "source": [
    "# 3.1 What data looks like"
   ]
  },
  {
   "cell_type": "markdown",
   "metadata": {},
   "source": [
    "Scientific computing is all about the data. We almost always work with data in the form of a spreadsheet-like table, often referred to as a _data frame_. \n",
    "Here is a example: a sample of rows from a classic dataset (the [Iris dataset](https://en.wikipedia.org/wiki/Iris_flower_data_set), introduced by [Ronald Fisher](https://en.wikipedia.org/wiki/Ronald_Fisher) in 1936; Fisher was described as a \"genius who almost single-handedly created the foundations for modern statistical science\").\n",
    "\n",
    "| Sepal.Length | Sepal.Width | Petal.Length | Petal.Width | Species |\n",
    "|----------------------------------------------------------------|\n",
    "| 7.7          |        3.8  |         6.7  |        2.2  |  virginica\n",
    "| 5.3          |        3.7  |         1.5  |        0.2  |     setosa\n",
    "| 5.8          |        2.7  |         5.1  |        1.9  |  virginica\n",
    "| 5.5          |        2.4  |         3.7  |        1.0  | versicolor\n",
    "| 6.7          |        3.0  |         5.2  |        2.3  |  virginica\n",
    "\n",
    "A data frame is a collection of named columns. Each column has the same length, and all entries in a column have the same type, though different columns may have different types. It is basically the same as a table in a relational database (except that you should think of scientific data tables as logs of observations, which means that the UPDATE and DELETE database operations are irrelevant, as are questions about database consistency)."
   ]
  },
  {
   "cell_type": "markdown",
   "metadata": {},
   "source": [
    "In Python, we have a choice about how to store data frames. A simple choice, which we'll use in this notebook, is to store them as dictionaries of `numpy` vectors, e.g."
   ]
  },
  {
   "cell_type": "code",
   "execution_count": null,
   "metadata": {
    "collapsed": true
   },
   "outputs": [],
   "source": [
    "iris = {'Sepal.Length': np.array([7.7, 5.3, 5.8, 5.5, 6.7]),\n",
    "        'Sepal.Width': np.array([3.8, 3.7, 2.7, 2.4, 3.0]),\n",
    "        'Petal.Length': np.array([6.7, 1.5, 5.1, 3.7, 5.2]),\n",
    "        'Petal.Width': np.array([2.2, 0.2, 1.9, 1.0, 2.3]),\n",
    "        'Species': np.array(['virginica', 'setosa', 'virginica', 'versicolor', 'verginica'])}"
   ]
  },
  {
   "cell_type": "markdown",
   "metadata": {},
   "source": [
    "For example, to extract the rows with `virginica` records,"
   ]
  },
  {
   "cell_type": "code",
   "execution_count": null,
   "metadata": {
    "collapsed": true
   },
   "outputs": [],
   "source": [
    "i = iris['Species'] == 'virginica'\n",
    "iris_virginica = {k:v[i] for k,v in iris.items()}"
   ]
  },
  {
   "cell_type": "markdown",
   "metadata": {},
   "source": [
    "### Special classes for data frames\n",
    "\n",
    "In IA _Object Oriented Programming_, you learnt about modularity and encapsulation. Why not design a class to hold data frames? It could provide convenient methods to extract rows etc. It could also incorporate checks e.g. to make sure we don't accidentally set some columns to have different lengths, or to help spot typos like the misspelled _verginica_ above. There are indeed such classes, such as [`pandas.DataFrame`](https://pandas.pydata.org/pandas-docs/stable/generated/pandas.DataFrame.html) and `numpy`'s [structured arrays](https://docs.scipy.org/doc/numpy/user/basics.rec.html#module-numpy.doc.structured_arrays). (The difference between structured arrays and regular arrays is that in a structured array each column can have a different type.)\n",
    "\n",
    "You may also have gathered from _Object Oriented Programming_ that good classes are hard to design. In my opinion, neither `pandas.DataFrame` nor structured arrays are mature designs, and by the time you graduate there will probably be something better. That's why, for this course, we will mostly use plain Python dictionaries. There are however three caveats.\n",
    "\n",
    "* Data import and export has lots of fiddly corner cases. Even printing a data frame takes a surprisingly large amount of code to do well. For these purposes we'll use `pandas.DataFrame`. This class also makes it convenient to pick out rows using the standard Python slice notation, e.g. `df[:5]` to get the first five rows.\n",
    "\n",
    "* For fast numerical computation and concise code `numpy` is best, as we saw in &sect;2. A number of useful `numpy` routines work on structured arrays. \n",
    "\n",
    "* It's nice to keep columns in order, for nice presentation. Python has a special class `collections.OrderedDict` which is like a dictionary except it preserves the order of the keys. When we care about column order, we'll use this rather than plain dictionaries.\n",
    "\n",
    "Here's another take on the iris dataset:"
   ]
  },
  {
   "cell_type": "code",
   "execution_count": null,
   "metadata": {
    "collapsed": true
   },
   "outputs": [],
   "source": [
    "# Store data frames as OrderedDict, so we can specify the order of the columns\n",
    "iris = OrderedDict([('Sepal.Length', np.array([7.7, 5.3, 5.8, 5.5, 6.7])),\n",
    "                    ('Sepal.Width', np.array([3.8, 3.7, 2.7, 2.4, 3.0])),\n",
    "                    ('Petal.Length', np.array([6.7, 1.5, 5.1, 3.7, 5.2])),\n",
    "                    ('Petal.Width', np.array([2.2, 0.2, 1.9, 1.0, 2.3])),\n",
    "                    ('Species', np.array(['virginica', 'setosa', 'virginica', 'versicolor', 'verginica']))])\n",
    "\n",
    "# Convert it to a pandas.DataFrame for nice printing\n",
    "pandas.DataFrame(iris)"
   ]
  },
  {
   "cell_type": "markdown",
   "metadata": {},
   "source": [
    "## 3.1 Importing and exporting data"
   ]
  },
  {
   "cell_type": "markdown",
   "metadata": {},
   "source": [
    "When your data is a very simple comma-separated value (CSV) file then it's very easy to import. A CSV file looks like this:\n",
    "```\n",
    "\"Sepal.Length\",\"Sepal.Width\",\"Petal.Length\",\"Petal.Width\",\"Species\"\n",
    "5.1,3.5,1.4,0.2,\"setosa\"\n",
    "4.9,3,1.4,0.2,\"setosa\"\n",
    "4.7,3.2,1.3,0.2,\"setosa\"\n",
    "4.6,3.1,1.5,0.2,\"setosa\"\n",
    "5,3.6,1.4,0.2,\"setosa\"\n",
    "```\n",
    "i.e. a header line, then one line per row of the data frame, with values separated by commas.\n",
    "Here is code to import a simple CSV file:"
   ]
  },
  {
   "cell_type": "code",
   "execution_count": null,
   "metadata": {
    "collapsed": true
   },
   "outputs": [],
   "source": [
    "iris = pandas.read_csv('data/iris.csv')          # this returns a pandas.DataFrame\n",
    "iris = {col: iris[col].values for col in iris}   # (optional) convert it to dict of vectors"
   ]
  },
  {
   "cell_type": "markdown",
   "metadata": {},
   "source": [
    "You can also use `pandas.read_csv` to import a CSV stored on a web server. The data was prepared from the Environment Agency's [web API](http://environment.data.gov.uk/flood-monitoring/doc/reference), put into a database, then summarized from the database and copied into [Azure Blob Storage](https://azure.microsoft.com/en-gb/services/storage/blobs/). See \n",
    "[Appendix A](A.%20Data%20import%20and%20cleanup.ipynb) for details."
   ]
  },
  {
   "cell_type": "code",
   "execution_count": 4,
   "metadata": {},
   "outputs": [
    {
     "data": {
      "text/html": [
       "<div>\n",
       "<style>\n",
       "    .dataframe thead tr:only-child th {\n",
       "        text-align: right;\n",
       "    }\n",
       "\n",
       "    .dataframe thead th {\n",
       "        text-align: left;\n",
       "    }\n",
       "\n",
       "    .dataframe tbody tr th {\n",
       "        vertical-align: top;\n",
       "    }\n",
       "</style>\n",
       "<table border=\"1\" class=\"dataframe\">\n",
       "  <thead>\n",
       "    <tr style=\"text-align: right;\">\n",
       "      <th></th>\n",
       "      <th>label</th>\n",
       "      <th>id</th>\n",
       "      <th>lat</th>\n",
       "      <th>lng</th>\n",
       "      <th>town</th>\n",
       "      <th>river</th>\n",
       "      <th>measure_id</th>\n",
       "      <th>qualifier</th>\n",
       "      <th>parameter</th>\n",
       "      <th>period</th>\n",
       "      <th>low</th>\n",
       "      <th>high</th>\n",
       "      <th>valuetype</th>\n",
       "      <th>t</th>\n",
       "      <th>value</th>\n",
       "    </tr>\n",
       "  </thead>\n",
       "  <tbody>\n",
       "    <tr>\n",
       "      <th>0</th>\n",
       "      <td>Cambridge Jesus Lock</td>\n",
       "      <td>E60501</td>\n",
       "      <td>52.212835</td>\n",
       "      <td>0.120872</td>\n",
       "      <td>Cambridge</td>\n",
       "      <td>River Cam</td>\n",
       "      <td>1702</td>\n",
       "      <td>Stage</td>\n",
       "      <td>Water Level</td>\n",
       "      <td>900.0</td>\n",
       "      <td>0.637</td>\n",
       "      <td>0.74</td>\n",
       "      <td>instantaneous</td>\n",
       "      <td>2017-08-07T07:00:00Z</td>\n",
       "      <td>0.680</td>\n",
       "    </tr>\n",
       "    <tr>\n",
       "      <th>1</th>\n",
       "      <td>Cambridge Jesus Lock</td>\n",
       "      <td>E60501</td>\n",
       "      <td>52.212835</td>\n",
       "      <td>0.120872</td>\n",
       "      <td>Cambridge</td>\n",
       "      <td>River Cam</td>\n",
       "      <td>1702</td>\n",
       "      <td>Stage</td>\n",
       "      <td>Water Level</td>\n",
       "      <td>900.0</td>\n",
       "      <td>0.637</td>\n",
       "      <td>0.74</td>\n",
       "      <td>instantaneous</td>\n",
       "      <td>2017-08-07T00:45:00Z</td>\n",
       "      <td>0.682</td>\n",
       "    </tr>\n",
       "    <tr>\n",
       "      <th>2</th>\n",
       "      <td>Cambridge Jesus Lock</td>\n",
       "      <td>E60501</td>\n",
       "      <td>52.212835</td>\n",
       "      <td>0.120872</td>\n",
       "      <td>Cambridge</td>\n",
       "      <td>River Cam</td>\n",
       "      <td>1702</td>\n",
       "      <td>Stage</td>\n",
       "      <td>Water Level</td>\n",
       "      <td>900.0</td>\n",
       "      <td>0.637</td>\n",
       "      <td>0.74</td>\n",
       "      <td>instantaneous</td>\n",
       "      <td>2017-08-07T04:00:00Z</td>\n",
       "      <td>0.681</td>\n",
       "    </tr>\n",
       "    <tr>\n",
       "      <th>3</th>\n",
       "      <td>Cambridge Jesus Lock</td>\n",
       "      <td>E60501</td>\n",
       "      <td>52.212835</td>\n",
       "      <td>0.120872</td>\n",
       "      <td>Cambridge</td>\n",
       "      <td>River Cam</td>\n",
       "      <td>1702</td>\n",
       "      <td>Stage</td>\n",
       "      <td>Water Level</td>\n",
       "      <td>900.0</td>\n",
       "      <td>0.637</td>\n",
       "      <td>0.74</td>\n",
       "      <td>instantaneous</td>\n",
       "      <td>2017-08-07T01:00:00Z</td>\n",
       "      <td>0.681</td>\n",
       "    </tr>\n",
       "  </tbody>\n",
       "</table>\n",
       "</div>"
      ],
      "text/plain": [
       "                  label      id        lat       lng       town      river  \\\n",
       "0  Cambridge Jesus Lock  E60501  52.212835  0.120872  Cambridge  River Cam   \n",
       "1  Cambridge Jesus Lock  E60501  52.212835  0.120872  Cambridge  River Cam   \n",
       "2  Cambridge Jesus Lock  E60501  52.212835  0.120872  Cambridge  River Cam   \n",
       "3  Cambridge Jesus Lock  E60501  52.212835  0.120872  Cambridge  River Cam   \n",
       "\n",
       "   measure_id qualifier    parameter  period    low  high      valuetype  \\\n",
       "0        1702     Stage  Water Level   900.0  0.637  0.74  instantaneous   \n",
       "1        1702     Stage  Water Level   900.0  0.637  0.74  instantaneous   \n",
       "2        1702     Stage  Water Level   900.0  0.637  0.74  instantaneous   \n",
       "3        1702     Stage  Water Level   900.0  0.637  0.74  instantaneous   \n",
       "\n",
       "                      t  value  \n",
       "0  2017-08-07T07:00:00Z  0.680  \n",
       "1  2017-08-07T00:45:00Z  0.682  \n",
       "2  2017-08-07T04:00:00Z  0.681  \n",
       "3  2017-08-07T01:00:00Z  0.681  "
      ]
     },
     "execution_count": 4,
     "metadata": {},
     "output_type": "execute_result"
    }
   ],
   "source": [
    "# standard library for web requests\n",
    "import urllib.request\n",
    "my_url = \"https://teachingfiles.blob.core.windows.net/scicomp/flood.csv\"\n",
    "\n",
    "# The 'with' syntax means: f=urlopen(my_url), do stuff, then call f.close().\n",
    "# This syntax is useful for any resource that needs to be released/closed after use.\n",
    "with urllib.request.urlopen(my_url) as f:\n",
    "    flood = pandas.read_csv(f)\n",
    "    flood = OrderedDict((k, flood[k].values) for k in flood)\n",
    "    \n",
    "# Show the first 4 rows\n",
    "pandas.DataFrame(flood)[:4]"
   ]
  },
  {
   "cell_type": "markdown",
   "metadata": {},
   "source": [
    "If your file is nearly a CSV but has some quirks such as comments or a missing header row, experiment with the options in [`pandas.read_csv`](https://pandas.pydata.org/pandas-docs/stable/generated/pandas.read_csv.html) or [`pandas.read_table`](https://pandas.pydata.org/pandas-docs/stable/generated/pandas.read_table.html). For extreme quirks you may need to use the raw Python [`csv.reader`](https://docs.python.org/3/library/csv.html#csv.reader).\n",
    "\n",
    "To write a CSV file, it's easiest to use `pandas.DataFrame.to_csv()`. \n",
    "If you're running this notebook with Azure Notebooks, use the Data | Download menu to download the CSV."
   ]
  },
  {
   "cell_type": "code",
   "execution_count": null,
   "metadata": {
    "collapsed": true
   },
   "outputs": [],
   "source": [
    "# Convert a dictionary of vectors into pandas.DataFrame\n",
    "x = pandas.DataFrame(flood)[:100]\n",
    "# Write it to a file. Pandas likes to add a column with row numbers, which index=False suppresses.\n",
    "x.to_csv('temp.csv', index=False)"
   ]
  },
  {
   "cell_type": "markdown",
   "metadata": {},
   "source": [
    "In my experience, around 75% of the time you spend working with data will be fighting to import it and clean it up. For the most part this is just general-purpose programming, but there are a few library routines that will save you from reinventing the wheel. See\n",
    "[&sect;A. Data import and cleanup](A.%20Data%20import%20and%20cleanup.ipynb) for a collection of recipes for\n",
    "\n",
    "* [reading from a URL](A.%20Data%20import%20and%20cleanup.ipynb#readurl)\n",
    "* [parsing a log file using regular expressions](A.%20Data%20import%20and%20cleanup.ipynb#regexp)\n",
    "* [reading JSON from a web service](A.%20Data%20import%20and%20cleanup.ipynb#json)\n",
    "* [scraping a website with XPath](A.%20Data%20import%20and%20cleanup.ipynb#xpath)\n",
    "* [reading from an SQL database](A.%20Data%20import%20and%20cleanup.ipynb#sql)"
   ]
  },
  {
   "cell_type": "markdown",
   "metadata": {},
   "source": [
    "## 3.2 Numerical data\n",
    "After importing the `flood` data frame, and looking at a few sample rows, we'll inspect it more thoroughly. Let's look at the `value` column. The sample rows suggest that it's numerical, and we can verify this by checking its type:"
   ]
  },
  {
   "cell_type": "code",
   "execution_count": 4,
   "metadata": {},
   "outputs": [
    {
     "data": {
      "text/plain": [
       "dtype('float64')"
      ]
     },
     "execution_count": 4,
     "metadata": {},
     "output_type": "execute_result"
    }
   ],
   "source": [
    "flood['value'].dtype"
   ]
  },
  {
   "cell_type": "markdown",
   "metadata": {},
   "source": [
    "A quick way to get a sense of the distribution is to find its percentiles, e.g. the 25 %ile is what you get if you sort the numbers from lowest to highest and look 25% of the way along. Numpy has a function [`np.percentile`](https://docs.scipy.org/doc/numpy/reference/generated/numpy.percentile.html) for this, and also [`np.nanpercentile`](https://docs.scipy.org/doc/numpy/reference/generated/numpy.nanpercentile.html) which removes NaN (\"not a number\") items first."
   ]
  },
  {
   "cell_type": "code",
   "execution_count": 5,
   "metadata": {},
   "outputs": [
    {
     "data": {
      "text/plain": [
       "array([-1.3  ,  0.095,  0.174,  0.668,  0.915])"
      ]
     },
     "execution_count": 5,
     "metadata": {},
     "output_type": "execute_result"
    }
   ],
   "source": [
    "np.nanpercentile(flood['value'], q=[0, 25, 50, 75, 100])"
   ]
  },
  {
   "cell_type": "markdown",
   "metadata": {},
   "source": [
    "For convenience, `ucamcl.fds.summary` computes these percentiles, and also shows the mean (computed by [`np.nanmean`](https://docs.scipy.org/doc/numpy/reference/generated/numpy.nanmean.html) to remove NaNs first) and the count of how many NaNs there are."
   ]
  },
  {
   "cell_type": "code",
   "execution_count": 8,
   "metadata": {},
   "outputs": [
    {
     "data": {
      "text/html": [
       "<pre>min:  -1.3\n",
       "25%:  0.095\n",
       "med:  0.174\n",
       "mean: 0.3147530857543255\n",
       "75%:  0.6679999999999999\n",
       "max:  0.915\n",
       "(nan): 2</pre>"
      ],
      "text/plain": [
       "SummaryNumeric(min=-1.3, q25=0.095000000000000001, med=0.17399999999999999, mean=0.31475308575432548, q75=0.66799999999999993, max=0.91500000000000004, nan=2)"
      ]
     },
     "execution_count": 8,
     "metadata": {},
     "output_type": "execute_result"
    }
   ],
   "source": [
    "summary(flood['value'])"
   ]
  },
  {
   "cell_type": "markdown",
   "metadata": {},
   "source": [
    "Or we can show the distribution of values with a histogram."
   ]
  },
  {
   "cell_type": "code",
   "execution_count": 9,
   "metadata": {},
   "outputs": [
    {
     "data": {
      "image/png": "[encoded data removed]",
      "text/plain": [
       "<matplotlib.figure.Figure at 0x10f91e828>"
      ]
     },
     "metadata": {},
     "output_type": "display_data"
    }
   ],
   "source": [
    "x = flood['value']\n",
    "x = x[~np.isnan(x)]    # plt.hist needs us to remove NaN values first\n",
    "plt.hist(x, bins=30)\n",
    "plt.ylabel('count')\n",
    "plt.show()"
   ]
  },
  {
   "cell_type": "markdown",
   "metadata": {},
   "source": [
    "## 3.3 Categorical data\n",
    "Let's look at another column, `flood['town']`, which is not numerical. Let's see the most frequent values and their counts."
   ]
  },
  {
   "cell_type": "code",
   "execution_count": 9,
   "metadata": {},
   "outputs": [
    {
     "data": {
      "text/plain": [
       "array([['Cambridge', 7963],\n",
       "       ['Cam', 2665],\n",
       "       ['Weston Bampfylde', 2657],\n",
       "       ['Milton', 2653],\n",
       "       ['Great Shelford', 2617]], dtype=object)"
      ]
     },
     "execution_count": 9,
     "metadata": {},
     "output_type": "execute_result"
    }
   ],
   "source": [
    "vs,ns = np.unique(flood['town'], return_counts=True)  # the unique items, and the count of each\n",
    "i = np.argsort(-ns)[:5]                                # the indexes of up to 5 items with the highest counts\n",
    "np.vstack([vs[i], ns[i]]).T                            # show one column for these items, and one for the counts"
   ]
  },
  {
   "cell_type": "markdown",
   "metadata": {},
   "source": [
    "For convenience, `ucamcl.fds.summary` does this tabulation, and also shows how many further items there are if any."
   ]
  },
  {
   "cell_type": "code",
   "execution_count": 10,
   "metadata": {},
   "outputs": [
    {
     "data": {
      "text/html": [
       "<pre>Cambridge: 7963\n",
       "Cam: 2665\n",
       "Weston Bampfylde: 2657\n",
       "Milton: 2653\n",
       "Great Shelford: 2617</pre>"
      ],
      "text/plain": [
       "[('Cambridge', 7963),\n",
       " ('Cam', 2665),\n",
       " ('Weston Bampfylde', 2657),\n",
       " ('Milton', 2653),\n",
       " ('Great Shelford', 2617)]"
      ]
     },
     "execution_count": 10,
     "metadata": {},
     "output_type": "execute_result"
    }
   ],
   "source": [
    "summary(flood['town'])"
   ]
  },
  {
   "cell_type": "markdown",
   "metadata": {},
   "source": [
    "Or we can show the distribution of values with a histogram. We have to do the counting ourselves then draw bars with \n",
    "[`matplotlib.pyplot.bar`](https://matplotlib.org/api/pyplot_api.html#matplotlib.pyplot.bar)."
   ]
  },
  {
   "cell_type": "code",
   "execution_count": 11,
   "metadata": {},
   "outputs": [
    {
     "data": {
      "image/png": "[encoded data removed]",
      "text/plain": [
       "<matplotlib.figure.Figure at 0x1087a8d68>"
      ]
     },
     "metadata": {},
     "output_type": "display_data"
    }
   ],
   "source": [
    "vs,ns = np.unique(flood['town'], return_counts=True)\n",
    "xs = np.arange(len(vs))                               # pick x-coordinates 0, 1, ..., len(vs)-1\n",
    "plt.bar(xs, ns, align='center')                       # use width=... to set the bar width\n",
    "plt.xticks(xs, vs, rotation=-30, ha='left')           # label the x-coordinates of the bars\n",
    "plt.ylabel('count')\n",
    "plt.title('label')\n",
    "plt.show()"
   ]
  },
  {
   "cell_type": "markdown",
   "metadata": {},
   "source": [
    "## 3.4 Splitting numbers into categories<a name=\"cut\"></a>\n",
    "Sometimes it's useful to simplify a numerical column by splitting it into categories, e.g. bottom third, middle third, top third. We can find the breakpoints with [`np.percentile`](https://docs.scipy.org/doc/numpy-dev/reference/generated/numpy.percentile.html), and find the categories with [`np.digitize`](https://docs.scipy.org/doc/numpy/reference/generated/numpy.digitize.html)."
   ]
  },
  {
   "cell_type": "code",
   "execution_count": 7,
   "metadata": {},
   "outputs": [
    {
     "data": {
      "text/html": [
       "<pre>1: 6244\n",
       "2: 6192\n",
       "0: 6119</pre>"
      ],
      "text/plain": [
       "[('1', 6244), ('2', 6192), ('0', 6119)]"
      ]
     },
     "execution_count": 7,
     "metadata": {},
     "output_type": "execute_result"
    }
   ],
   "source": [
    "# Each measurement station has its own 'low' and 'high' ranges.\n",
    "# Let's normalize the values, so that low=0 and high=1, and categorize these normalized values.\n",
    "x = (flood['value'] - flood['low']) / (flood['high'] - flood['low'])\n",
    "\n",
    "# np.digitize returns integers saying which bin each number falls in.\n",
    "# We'll cast it to be a string, so that summary() displays it as categorical.\n",
    "y = np.digitize(x, bins=np.nanpercentile(x, [100/3, 200/3]))\n",
    "summary(y.astype(str))"
   ]
  },
  {
   "cell_type": "markdown",
   "metadata": {},
   "source": [
    "Bothersomely, `np.digitize` lumps NaNs into the highest bin, which is misleading. For convenience, `ucamcl.fds.cut` takes care of NaNs, and it also gives more helpful labels to the categories."
   ]
  },
  {
   "cell_type": "code",
   "execution_count": 5,
   "metadata": {},
   "outputs": [
    {
     "data": {
      "text/html": [
       "<pre>[0.052, 0.368): 6244\n",
       "[0.368, inf): 6190\n",
       "(-inf, 0.052): 6119\n",
       "nan: 2</pre>"
      ],
      "text/plain": [
       "[('[0.052, 0.368)', 6244),\n",
       " ('[0.368, inf)', 6190),\n",
       " ('(-inf, 0.052)', 6119),\n",
       " ('nan', 2)]"
      ]
     },
     "execution_count": 5,
     "metadata": {},
     "output_type": "execute_result"
    }
   ],
   "source": [
    "summary(cut(x, breaks=2))"
   ]
  },
  {
   "cell_type": "markdown",
   "metadata": {},
   "source": [
    "<div style=\"background-color:wheat\"><strong>Excercise.</strong>\n",
    "The <code style=\"background-color:wheat\">cut</code> function uses \n",
    "<code style=\"background-color:wheat\">np.nanpercentile</code> to split the data into equal percentile ranges.\n",
    "So why are the counts not equal?\n",
    "</div>"
   ]
  },
  {
   "cell_type": "markdown",
   "metadata": {},
   "source": [
    "## 3.4 Geographic data\n",
    "This data frame has columns `lat` and `lng` which are likely map coordinates. Matplotlib does have routines for map plots (see the [example gallery](https://matplotlib.org/basemap/users/examples.html)), and there are also many contributed libraries of varying quality. Here is a quick and dirty plot on top of Google Maps.\n",
    "![map plot](fig/gmplot.png)"
   ]
  },
  {
   "cell_type": "code",
   "execution_count": 13,
   "metadata": {
    "collapsed": true
   },
   "outputs": [],
   "source": [
    "# Count the number of flood readings at each (lat,lng) pair\n",
    "vs, ns = np.unique(np.vstack([flood['lat'],flood['lng']]).T, return_counts=True, axis=0)"
   ]
  },
  {
   "cell_type": "code",
   "execution_count": 14,
   "metadata": {
    "collapsed": true
   },
   "outputs": [],
   "source": [
    "!pip3 install gmplot -q                             # install a library for Google Map plots\n",
    "import gmplot\n",
    "import tempfile, webbrowser\n",
    "\n",
    "gmap = gmplot.GoogleMapPlotter(52.212, 0.1208, 12)  # define the center of the view, and the zoom level\n",
    "for x,y,r in zip(vs[:,0],vs[:,1],ns):\n",
    "    gmap.circle(x, y, r/10)                         # add circles at every (lat,lng) pair\n",
    "                                                    # (we need bigger circles though, for a zoomed-out map)\n",
    "\n",
    "f = tempfile.NamedTemporaryFile(suffix='.html')     # gmap renders the map to an html file\n",
    "gmap.draw(f.name)\n",
    "webbrowser.open('file://' + f.name);                # and we open the file in a browser"
   ]
  },
  {
   "cell_type": "markdown",
   "metadata": {},
   "source": [
    "## 3.5 Grouped statistics<a name=\"groupby\"></a>\n",
    "So far we've only looked at one column at a time. Let's now turn to the relationship between columns (also known as [multivariate analysis](https://en.wikipedia.org/wiki/Multivariate_statistics), as opposed to the univariate analysis we've seen so far). For example, what's the typical range of water levels (`value`) at each measurement station (`label`)? To find this, we need to group the rows of the dataframe, one row for each value of `label`, and for each group we'll compute some summary statistics."
   ]
  },
  {
   "cell_type": "code",
   "execution_count": 18,
   "metadata": {},
   "outputs": [
    {
     "data": {
      "image/png": "[encoded data removed]",
      "text/plain": [
       "<matplotlib.figure.Figure at 0x10ebc3f28>"
      ]
     },
     "metadata": {},
     "output_type": "display_data"
    }
   ],
   "source": [
    "res = {'label':[], 'n':[], 'mean':[], 'sd':[]}\n",
    "for lbl in np.unique(flood['label']):\n",
    "    i = flood['label'] == lbl\n",
    "    res['label'].append(lbl)\n",
    "    res['n'].append(np.count_nonzero(i))\n",
    "    res['mean'].append(np.nanmean(flood['value'][i]))\n",
    "    res['sd'].append(np.nanstd(flood['value'][i]))\n",
    "\n",
    "# Bar plot, with error bars\n",
    "xs = np.arange(len(res['label']))\n",
    "plt.bar(xs, res['mean'], align='center', facecolor='wheat')\n",
    "plt.errorbar(xs, res['mean'], yerr=res['sd'], linestyle='None', ecolor='k')\n",
    "plt.xticks(xs, res['label'], rotation=-30, ha='left')\n",
    "plt.ylabel('value')\n",
    "plt.show()"
   ]
  },
  {
   "cell_type": "markdown",
   "metadata": {},
   "source": [
    "<div style=\"background-color:wheat\"><strong>Exercise.</strong>\n",
    "Implement the above code more efficiently, using vectorized operations rather than a <code style=\"background-color:wheat\">for</code> loop. Hint: <a href=\"https://stackoverflow.com/a/23271510\">stackoverflow.com/a/23271510</a>.\n",
    "What is the complexity of the above code in terms of <em>n</em>, the length of the vector, and <em>k</em>, the number of unique levels?\n",
    "</div>"
   ]
  },
  {
   "cell_type": "markdown",
   "metadata": {},
   "source": [
    "## 3.6 Grouped plots (and timestamps)\n",
    "The next plot shows how three columns relate to each other: the water levels (`value`) as a function of time (`t`), at each of the different measurement stations (`label`).\n",
    "\n",
    "The first step is to fix up the time column, so that `matplotlib` knows it's a timestamp and not just a string, so that it will display nicely. The [documentation](http://environment.data.gov.uk/flood-monitoring/doc/reference) says that timestamps are in UTC. As [xkcd](https://www.xkcd.com/1883/) observes, timestamps are a nuisance because of timezones &mdash; and also because of unequal months and leap years and so on, which make it hard work to get axes right in plots.\n",
    "\n",
    "<a href=\"https://www.xkcd.com/1883/\"><img src=\"https://imgs.xkcd.com/comics/supervillain_plan.png\" style=\"height:30em\" alt=\"supervillain timezone woes\"></a>"
   ]
  },
  {
   "cell_type": "code",
   "execution_count": 23,
   "metadata": {
    "collapsed": true
   },
   "outputs": [],
   "source": [
    "import datetime, pytz\n",
    "x = flood['t']\n",
    "# Parse the timestamp strings (see https://docs.python.org/3/library/datetime.html#datetime.datetime.strptime)\n",
    "x = [datetime.datetime.strptime(tstr, '%Y-%m-%dT%H:%M:%SZ') for tstr in x]\n",
    "# Mark each timestamp as a UTC timestamp\n",
    "x = [t.replace(tzinfo=pytz.utc) for t in x]\n",
    "# Convert it to a local timestamp (which in this case is British Summer Time, one hour off UTC)\n",
    "local_tz = pytz.timezone('Europe/London')\n",
    "x = [t.astimezone(local_tz) for t in x]\n",
    "# Store it in the data frame as a numpy vector, so we can use numpy indexing on it\n",
    "flood['t2'] = np.array(x)"
   ]
  },
  {
   "cell_type": "markdown",
   "metadata": {},
   "source": [
    "The core of this plotting code is a loop over unique values of `flood['label']`, just like we did in \n",
    "[&sect;3.5 Grouped Statistics](#groupby)."
   ]
  },
  {
   "cell_type": "code",
   "execution_count": 25,
   "metadata": {},
   "outputs": [
    {
     "data": {
      "image/png": "[encoded data removed]",
      "text/plain": [
       "<matplotlib.figure.Figure at 0x10ec26be0>"
      ]
     },
     "metadata": {},
     "output_type": "display_data"
    }
   ],
   "source": [
    "labels = np.unique(flood['label'])\n",
    "\n",
    "with matplotlib.rc_context({'figure.figsize': [10,6]}):\n",
    "    \n",
    "    fig,ax = plt.subplots()\n",
    "    for lbl in labels:\n",
    "        i = flood['label'] == lbl\n",
    "        t,v = flood['t2'][i], flood['value'][i]\n",
    "        j = np.argsort(t)\n",
    "        ax.plot(t[j], v[j], linestyle='-', label=lbl)\n",
    "\n",
    "    ax.legend()\n",
    "    ax.xaxis.set_major_locator(matplotlib.dates.WeekdayLocator(byweekday=matplotlib.dates.MO, tz=local_tz))\n",
    "    ax.xaxis.set_minor_locator(matplotlib.dates.DayLocator(tz=local_tz))\n",
    "    ax.xaxis.set_major_formatter(matplotlib.dates.DateFormatter('%a %d %b'))\n",
    "    ax.grid(True, axis='x', color='0.8')\n",
    "    fig.autofmt_xdate(bottom=0.2, rotation=-30, ha='left')"
   ]
  },
  {
   "cell_type": "markdown",
   "metadata": {},
   "source": [
    " There is plenty of plot-tweaking around the core loop.\n",
    "\n",
    "* The [`with matplotlib.rc_context`](https://matplotlib.org/api/matplotlib_configuration_api.html#matplotlib.rc_context) syntax sets the plot size to be 10x6 nominal inches, but only for the current plot. See [customizing matplotlib](https://matplotlib.org/users/customizing.html) for more information about available parameters, and for instructions on setting them globally.\n",
    "\n",
    "* [`plt.subplots()`](https://matplotlib.org/api/pyplot_api.html?highlight=matplotlib%20pyplot%20subplots#matplotlib.pyplot.subplots) returns a pair `(fig,ax)` where `fig` lets you control the entire plot and `ax` is what you actually use for plotting. So far we have used e.g. `plt.plot(x,y)` to plot points. This is just an alias for `ax.plot(x,y)`, and `ax` has [more methods](https://matplotlib.org/api/axes_api.html) to customize the plot.\n",
    "\n",
    "* We have to sort the points by time with `j = np.argsort(t)`, because if the times were out of order then the line would go back and forth across the plot.\n",
    "\n",
    "* `ax.plot(x,y,label)` picks a different colour each time, and remembers the association between colours and labels, so that `ax.legend()` can draw the right thing.\n",
    "\n",
    "* The code for picking good axis labels comes from a [matplotlib date demo](https://matplotlib.org/examples/api/date_demo.html)."
   ]
  },
  {
   "cell_type": "markdown",
   "metadata": {
    "collapsed": true
   },
   "source": [
    "## 3.7 Faceted plots\n",
    "[According to the plotting guru Edward Tufte](https://en.wikipedia.org/wiki/Small_multiple),\n",
    "<blockquote>\n",
    "At the heart of quantitative reasoning is a single question: Compared to what? Small multiple designs, multivariate and data bountiful, answer directly by visually enforcing comparisons of changes, of the differences among objects, of the scope of alternatives. For a wide range of problems in data presentation, small multiples are the best design solution.\n",
    "</blockquote>\n",
    "Here is an example of a _small multiple_ plot, also known as a faceted plot or panel plot. It shows one panel per measurement station i.e. per level of `flood['label']`, using the same core loop for grouping rows that we've seen already. This code uses [`fig.add_subplot`](https://matplotlib.org/api/figure_api.html#matplotlib.figure.Figure.add_subplot) to add panels one by one. You can also use [`fig,axes=plt.subplots(...)`](https://matplotlib.org/examples/pylab_examples/subplots_demo.html) to create a full grid of panels in one go."
   ]
  },
  {
   "cell_type": "code",
   "execution_count": 29,
   "metadata": {},
   "outputs": [
    {
     "data": {
      "image/png": "[encoded data removed]",
      "text/plain": [
       "<matplotlib.figure.Figure at 0x11030ee48>"
      ]
     },
     "metadata": {},
     "output_type": "display_data"
    }
   ],
   "source": [
    "norm_value = (flood['value'] - flood['low']) / (flood['high'] - flood['low'])\n",
    "labels = np.unique(flood['label'])\n",
    "\n",
    "fig = plt.figure()\n",
    "for i,lbl in enumerate(labels):\n",
    "    ax = fig.add_subplot(3, 3, i+1)        # numrows=3, numcols=3, new subplot in the (i+1)th position\n",
    "    x = norm_value[flood['label'] == lbl]\n",
    "    x = x[~np.isnan(x)]                    # remove NaN values since ax.hist doesn't work with them\n",
    "    ax.hist(x)\n",
    "    ax.set_title(lbl)"
   ]
  },
  {
   "cell_type": "markdown",
   "metadata": {},
   "source": [
    "To make the plot look lovely, we need some plot-tweaking.\n",
    "\n",
    "* `fig.add_subplot` lets us [specify axes to be shared](https://matplotlib.org/users/recipes.html). The code below makes all the subplots share the same x axis as the top left subplot.\n",
    "\n",
    "* Since all the subplots share the same x axis, but the data for each plot is different, `ax.hist` will choose different bins for each subplot. It looks better to force them all to use the same bins.\n",
    "\n",
    "* Use `plt.get_cmap(name, n)` to get a colour map with `n` values, where `name` is one of the [standard colour-map names](https://matplotlib.org/users/colormaps.html)."
   ]
  },
  {
   "cell_type": "code",
   "execution_count": 30,
   "metadata": {},
   "outputs": [
    {
     "data": {
      "image/png": "[encoded data removed]",
      "text/plain": [
       "<matplotlib.figure.Figure at 0x10ee7a3c8>"
      ]
     },
     "metadata": {},
     "output_type": "display_data"
    }
   ],
   "source": [
    "labels = np.unique(flood['label'])\n",
    "norm_value = (flood['value'] - flood['low']) / (flood['high'] - flood['low'])\n",
    "bins = np.linspace(min(norm_value), max(norm_value), 40)\n",
    "\n",
    "with matplotlib.rc_context({'figure.figsize': [10,6], 'figure.subplot.hspace': 0.3}):\n",
    "    colors = plt.get_cmap('Set2', len(labels))\n",
    "    fig = plt.figure()\n",
    "    ax0 = None\n",
    "    for i,lbl in enumerate(labels):\n",
    "        if ax0 is None:\n",
    "            ax = fig.add_subplot(3, 3, i+1)\n",
    "            ax0 = ax\n",
    "        else:\n",
    "            ax = fig.add_subplot(3, 3, i+1, sharex=ax0)\n",
    "        x = norm_value[flood['label'] == lbl]\n",
    "        x = x[~np.isnan(x)]\n",
    "        ax.hist(x, bins=bins, facecolor=colors(i), edgecolor='0.7')\n",
    "        ax.set_title(lbl)\n",
    "    fig.suptitle('Normalized value')"
   ]
  },
  {
   "cell_type": "markdown",
   "metadata": {},
   "source": [
    "<div style=\"background-color:wheat\"><strong>Exercise.</strong>\n",
    "Which values of <em>i</em> correspond to the three bottom-most panels?\n",
    "Use <code style=\"background-color:wheat\">ax.get_xaxis().set_visible(False)</code> to turn off the ticks on all the other panels, so the panel labels can be read cleanly.\n",
    "<em>Solution: if <code style=\"background-color:wheat\">i + 3 &geq; len(labels)</code> then panel <em>i</em> is bottom-most.</em>\n",
    "</div>"
   ]
  },
  {
   "cell_type": "markdown",
   "metadata": {},
   "source": [
    "## 3.8 Cross tabulation"
   ]
  },
  {
   "cell_type": "markdown",
   "metadata": {},
   "source": [
    "Surely I want a table output! https://gist.github.com/alexland/d6d64d3f634895b9dc8e"
   ]
  },
  {
   "cell_type": "code",
   "execution_count": 39,
   "metadata": {},
   "outputs": [
    {
     "data": {
      "text/html": [
       "<pre>0: 2665\n",
       "1: 2665\n",
       "6: 2657\n",
       "3: 2653\n",
       "4: 2653\n",
       "(2 others): 5262</pre>"
      ],
      "text/plain": [
       "[('0', 2665), ('1', 2665), ('6', 2657), ('3', 2653), ('4', 2653)]"
      ]
     },
     "execution_count": 39,
     "metadata": {},
     "output_type": "execute_result"
    }
   ],
   "source": [
    "x = np.rec.fromarrays([flood['label'], flood['river']])\n",
    "vs, idx = np.unique(x, return_inverse=True)\n",
    "summary(idx.astype(str))"
   ]
  },
  {
   "cell_type": "code",
   "execution_count": 43,
   "metadata": {},
   "outputs": [
    {
     "ename": "ValueError",
     "evalue": "Grouper for 'town' not 1-dimensional",
     "output_type": "error",
     "traceback": [
      "\u001b[0;31m---------------------------------------------------------------------------\u001b[0m",
      "\u001b[0;31mValueError\u001b[0m                                Traceback (most recent call last)",
      "\u001b[0;32m<ipython-input-43-3ebd79bcd41c>\u001b[0m in \u001b[0;36m<module>\u001b[0;34m()\u001b[0m\n\u001b[0;32m----> 1\u001b[0;31m \u001b[0mpandas\u001b[0m\u001b[0;34m.\u001b[0m\u001b[0mDataFrame\u001b[0m\u001b[0;34m(\u001b[0m\u001b[0mflood\u001b[0m\u001b[0;34m)\u001b[0m\u001b[0;34m.\u001b[0m\u001b[0mpivot_table\u001b[0m\u001b[0;34m(\u001b[0m\u001b[0mvalues\u001b[0m\u001b[0;34m=\u001b[0m\u001b[0;34m'town'\u001b[0m\u001b[0;34m,\u001b[0m \u001b[0mindex\u001b[0m\u001b[0;34m=\u001b[0m\u001b[0;34m[\u001b[0m\u001b[0;34m'town'\u001b[0m\u001b[0;34m,\u001b[0m\u001b[0;34m'river'\u001b[0m\u001b[0;34m]\u001b[0m\u001b[0;34m,\u001b[0m \u001b[0maggfunc\u001b[0m\u001b[0;34m=\u001b[0m\u001b[0mlen\u001b[0m\u001b[0;34m)\u001b[0m\u001b[0;34m\u001b[0m\u001b[0m\n\u001b[0m",
      "\u001b[0;32m/usr/local/lib/python3.6/site-packages/pandas/core/reshape/pivot.py\u001b[0m in \u001b[0;36mpivot_table\u001b[0;34m(data, values, index, columns, aggfunc, fill_value, margins, dropna, margins_name)\u001b[0m\n\u001b[1;32m    133\u001b[0m         \u001b[0mvalues\u001b[0m \u001b[0;34m=\u001b[0m \u001b[0mlist\u001b[0m\u001b[0;34m(\u001b[0m\u001b[0mvalues\u001b[0m\u001b[0;34m)\u001b[0m\u001b[0;34m\u001b[0m\u001b[0m\n\u001b[1;32m    134\u001b[0m \u001b[0;34m\u001b[0m\u001b[0m\n\u001b[0;32m--> 135\u001b[0;31m     \u001b[0mgrouped\u001b[0m \u001b[0;34m=\u001b[0m \u001b[0mdata\u001b[0m\u001b[0;34m.\u001b[0m\u001b[0mgroupby\u001b[0m\u001b[0;34m(\u001b[0m\u001b[0mkeys\u001b[0m\u001b[0;34m)\u001b[0m\u001b[0;34m\u001b[0m\u001b[0m\n\u001b[0m\u001b[1;32m    136\u001b[0m     \u001b[0magged\u001b[0m \u001b[0;34m=\u001b[0m \u001b[0mgrouped\u001b[0m\u001b[0;34m.\u001b[0m\u001b[0magg\u001b[0m\u001b[0;34m(\u001b[0m\u001b[0maggfunc\u001b[0m\u001b[0;34m)\u001b[0m\u001b[0;34m\u001b[0m\u001b[0m\n\u001b[1;32m    137\u001b[0m \u001b[0;34m\u001b[0m\u001b[0m\n",
      "\u001b[0;32m/usr/local/lib/python3.6/site-packages/pandas/core/generic.py\u001b[0m in \u001b[0;36mgroupby\u001b[0;34m(self, by, axis, level, as_index, sort, group_keys, squeeze, **kwargs)\u001b[0m\n\u001b[1;32m   4414\u001b[0m         return groupby(self, by=by, axis=axis, level=level, as_index=as_index,\n\u001b[1;32m   4415\u001b[0m                        \u001b[0msort\u001b[0m\u001b[0;34m=\u001b[0m\u001b[0msort\u001b[0m\u001b[0;34m,\u001b[0m \u001b[0mgroup_keys\u001b[0m\u001b[0;34m=\u001b[0m\u001b[0mgroup_keys\u001b[0m\u001b[0;34m,\u001b[0m \u001b[0msqueeze\u001b[0m\u001b[0;34m=\u001b[0m\u001b[0msqueeze\u001b[0m\u001b[0;34m,\u001b[0m\u001b[0;34m\u001b[0m\u001b[0m\n\u001b[0;32m-> 4416\u001b[0;31m                        **kwargs)\n\u001b[0m\u001b[1;32m   4417\u001b[0m \u001b[0;34m\u001b[0m\u001b[0m\n\u001b[1;32m   4418\u001b[0m     def asfreq(self, freq, method=None, how=None, normalize=False,\n",
      "\u001b[0;32m/usr/local/lib/python3.6/site-packages/pandas/core/groupby.py\u001b[0m in \u001b[0;36mgroupby\u001b[0;34m(obj, by, **kwds)\u001b[0m\n\u001b[1;32m   1697\u001b[0m         \u001b[0;32mraise\u001b[0m \u001b[0mTypeError\u001b[0m\u001b[0;34m(\u001b[0m\u001b[0;34m'invalid type: %s'\u001b[0m \u001b[0;34m%\u001b[0m \u001b[0mtype\u001b[0m\u001b[0;34m(\u001b[0m\u001b[0mobj\u001b[0m\u001b[0;34m)\u001b[0m\u001b[0;34m)\u001b[0m\u001b[0;34m\u001b[0m\u001b[0m\n\u001b[1;32m   1698\u001b[0m \u001b[0;34m\u001b[0m\u001b[0m\n\u001b[0;32m-> 1699\u001b[0;31m     \u001b[0;32mreturn\u001b[0m \u001b[0mklass\u001b[0m\u001b[0;34m(\u001b[0m\u001b[0mobj\u001b[0m\u001b[0;34m,\u001b[0m \u001b[0mby\u001b[0m\u001b[0;34m,\u001b[0m \u001b[0;34m**\u001b[0m\u001b[0mkwds\u001b[0m\u001b[0;34m)\u001b[0m\u001b[0;34m\u001b[0m\u001b[0m\n\u001b[0m\u001b[1;32m   1700\u001b[0m \u001b[0;34m\u001b[0m\u001b[0m\n\u001b[1;32m   1701\u001b[0m \u001b[0;34m\u001b[0m\u001b[0m\n",
      "\u001b[0;32m/usr/local/lib/python3.6/site-packages/pandas/core/groupby.py\u001b[0m in \u001b[0;36m__init__\u001b[0;34m(self, obj, keys, axis, level, grouper, exclusions, selection, as_index, sort, group_keys, squeeze, **kwargs)\u001b[0m\n\u001b[1;32m    390\u001b[0m                                                     \u001b[0mlevel\u001b[0m\u001b[0;34m=\u001b[0m\u001b[0mlevel\u001b[0m\u001b[0;34m,\u001b[0m\u001b[0;34m\u001b[0m\u001b[0m\n\u001b[1;32m    391\u001b[0m                                                     \u001b[0msort\u001b[0m\u001b[0;34m=\u001b[0m\u001b[0msort\u001b[0m\u001b[0;34m,\u001b[0m\u001b[0;34m\u001b[0m\u001b[0m\n\u001b[0;32m--> 392\u001b[0;31m                                                     mutated=self.mutated)\n\u001b[0m\u001b[1;32m    393\u001b[0m \u001b[0;34m\u001b[0m\u001b[0m\n\u001b[1;32m    394\u001b[0m         \u001b[0mself\u001b[0m\u001b[0;34m.\u001b[0m\u001b[0mobj\u001b[0m \u001b[0;34m=\u001b[0m \u001b[0mobj\u001b[0m\u001b[0;34m\u001b[0m\u001b[0m\n",
      "\u001b[0;32m/usr/local/lib/python3.6/site-packages/pandas/core/groupby.py\u001b[0m in \u001b[0;36m_get_grouper\u001b[0;34m(obj, key, axis, level, sort, mutated)\u001b[0m\n\u001b[1;32m   2709\u001b[0m                         \u001b[0msort\u001b[0m\u001b[0;34m=\u001b[0m\u001b[0msort\u001b[0m\u001b[0;34m,\u001b[0m\u001b[0;34m\u001b[0m\u001b[0m\n\u001b[1;32m   2710\u001b[0m                         in_axis=in_axis) \\\n\u001b[0;32m-> 2711\u001b[0;31m             \u001b[0;32mif\u001b[0m \u001b[0;32mnot\u001b[0m \u001b[0misinstance\u001b[0m\u001b[0;34m(\u001b[0m\u001b[0mgpr\u001b[0m\u001b[0;34m,\u001b[0m \u001b[0mGrouping\u001b[0m\u001b[0;34m)\u001b[0m \u001b[0;32melse\u001b[0m \u001b[0mgpr\u001b[0m\u001b[0;34m\u001b[0m\u001b[0m\n\u001b[0m\u001b[1;32m   2712\u001b[0m \u001b[0;34m\u001b[0m\u001b[0m\n\u001b[1;32m   2713\u001b[0m         \u001b[0mgroupings\u001b[0m\u001b[0;34m.\u001b[0m\u001b[0mappend\u001b[0m\u001b[0;34m(\u001b[0m\u001b[0mping\u001b[0m\u001b[0;34m)\u001b[0m\u001b[0;34m\u001b[0m\u001b[0m\n",
      "\u001b[0;32m/usr/local/lib/python3.6/site-packages/pandas/core/groupby.py\u001b[0m in \u001b[0;36m__init__\u001b[0;34m(self, index, grouper, obj, name, level, sort, in_axis)\u001b[0m\n\u001b[1;32m   2490\u001b[0m                 \u001b[0;32mif\u001b[0m \u001b[0mgetattr\u001b[0m\u001b[0;34m(\u001b[0m\u001b[0mself\u001b[0m\u001b[0;34m.\u001b[0m\u001b[0mgrouper\u001b[0m\u001b[0;34m,\u001b[0m \u001b[0;34m'ndim'\u001b[0m\u001b[0;34m,\u001b[0m \u001b[0;36m1\u001b[0m\u001b[0;34m)\u001b[0m \u001b[0;34m!=\u001b[0m \u001b[0;36m1\u001b[0m\u001b[0;34m:\u001b[0m\u001b[0;34m\u001b[0m\u001b[0m\n\u001b[1;32m   2491\u001b[0m                     \u001b[0mt\u001b[0m \u001b[0;34m=\u001b[0m \u001b[0mself\u001b[0m\u001b[0;34m.\u001b[0m\u001b[0mname\u001b[0m \u001b[0;32mor\u001b[0m \u001b[0mstr\u001b[0m\u001b[0;34m(\u001b[0m\u001b[0mtype\u001b[0m\u001b[0;34m(\u001b[0m\u001b[0mself\u001b[0m\u001b[0;34m.\u001b[0m\u001b[0mgrouper\u001b[0m\u001b[0;34m)\u001b[0m\u001b[0;34m)\u001b[0m\u001b[0;34m\u001b[0m\u001b[0m\n\u001b[0;32m-> 2492\u001b[0;31m                     \u001b[0;32mraise\u001b[0m \u001b[0mValueError\u001b[0m\u001b[0;34m(\u001b[0m\u001b[0;34m\"Grouper for '%s' not 1-dimensional\"\u001b[0m \u001b[0;34m%\u001b[0m \u001b[0mt\u001b[0m\u001b[0;34m)\u001b[0m\u001b[0;34m\u001b[0m\u001b[0m\n\u001b[0m\u001b[1;32m   2493\u001b[0m                 \u001b[0mself\u001b[0m\u001b[0;34m.\u001b[0m\u001b[0mgrouper\u001b[0m \u001b[0;34m=\u001b[0m \u001b[0mself\u001b[0m\u001b[0;34m.\u001b[0m\u001b[0mindex\u001b[0m\u001b[0;34m.\u001b[0m\u001b[0mmap\u001b[0m\u001b[0;34m(\u001b[0m\u001b[0mself\u001b[0m\u001b[0;34m.\u001b[0m\u001b[0mgrouper\u001b[0m\u001b[0;34m)\u001b[0m\u001b[0;34m\u001b[0m\u001b[0m\n\u001b[1;32m   2494\u001b[0m                 if not (hasattr(self.grouper, \"__len__\") and\n",
      "\u001b[0;31mValueError\u001b[0m: Grouper for 'town' not 1-dimensional"
     ]
    }
   ],
   "source": [
    "pandas.DataFrame(flood).pivot_table(values='town', index=['town','river'], aggfunc=len)"
   ]
  },
  {
   "cell_type": "code",
   "execution_count": 41,
   "metadata": {},
   "outputs": [
    {
     "data": {
      "text/html": [
       "<div>\n",
       "<style>\n",
       "    .dataframe thead tr:only-child th {\n",
       "        text-align: right;\n",
       "    }\n",
       "\n",
       "    .dataframe thead th {\n",
       "        text-align: left;\n",
       "    }\n",
       "\n",
       "    .dataframe tbody tr th {\n",
       "        vertical-align: top;\n",
       "    }\n",
       "</style>\n",
       "<table border=\"1\" class=\"dataframe\">\n",
       "  <thead>\n",
       "    <tr style=\"text-align: right;\">\n",
       "      <th></th>\n",
       "      <th></th>\n",
       "      <th>high</th>\n",
       "      <th>lat</th>\n",
       "      <th>lng</th>\n",
       "      <th>low</th>\n",
       "      <th>measure_id</th>\n",
       "      <th>period</th>\n",
       "      <th>value</th>\n",
       "    </tr>\n",
       "    <tr>\n",
       "      <th>town</th>\n",
       "      <th>river</th>\n",
       "      <th></th>\n",
       "      <th></th>\n",
       "      <th></th>\n",
       "      <th></th>\n",
       "      <th></th>\n",
       "      <th></th>\n",
       "      <th></th>\n",
       "    </tr>\n",
       "  </thead>\n",
       "  <tbody>\n",
       "    <tr>\n",
       "      <th>Cam</th>\n",
       "      <th>River Cam</th>\n",
       "      <td>0.782000</td>\n",
       "      <td>51.699985</td>\n",
       "      <td>-2.360238</td>\n",
       "      <td>0.578000</td>\n",
       "      <td>1636.000000</td>\n",
       "      <td>900.0</td>\n",
       "      <td>0.798811</td>\n",
       "    </tr>\n",
       "    <tr>\n",
       "      <th rowspan=\"2\" valign=\"top\">Cambridge</th>\n",
       "      <th>Bin Brook</th>\n",
       "      <td>0.368000</td>\n",
       "      <td>52.197227</td>\n",
       "      <td>0.087527</td>\n",
       "      <td>0.057000</td>\n",
       "      <td>1792.000000</td>\n",
       "      <td>900.0</td>\n",
       "      <td>0.150815</td>\n",
       "    </tr>\n",
       "    <tr>\n",
       "      <th>River Cam</th>\n",
       "      <td>0.994615</td>\n",
       "      <td>51.971998</td>\n",
       "      <td>-1.118798</td>\n",
       "      <td>0.389374</td>\n",
       "      <td>1783.376935</td>\n",
       "      <td>900.0</td>\n",
       "      <td>0.424387</td>\n",
       "    </tr>\n",
       "    <tr>\n",
       "      <th>Great Shelford</th>\n",
       "      <th>River Cam</th>\n",
       "      <td>0.395000</td>\n",
       "      <td>52.134462</td>\n",
       "      <td>0.141784</td>\n",
       "      <td>0.127000</td>\n",
       "      <td>1724.000000</td>\n",
       "      <td>900.0</td>\n",
       "      <td>0.097247</td>\n",
       "    </tr>\n",
       "    <tr>\n",
       "      <th>Milton</th>\n",
       "      <th>River Cam</th>\n",
       "      <td>0.294000</td>\n",
       "      <td>52.236542</td>\n",
       "      <td>0.176925</td>\n",
       "      <td>0.218000</td>\n",
       "      <td>1455.000000</td>\n",
       "      <td>900.0</td>\n",
       "      <td>0.249376</td>\n",
       "    </tr>\n",
       "    <tr>\n",
       "      <th>Weston Bampfylde</th>\n",
       "      <th>River Cam</th>\n",
       "      <td>0.600000</td>\n",
       "      <td>51.023159</td>\n",
       "      <td>-2.565568</td>\n",
       "      <td>0.026000</td>\n",
       "      <td>919.000000</td>\n",
       "      <td>900.0</td>\n",
       "      <td>0.054655</td>\n",
       "    </tr>\n",
       "  </tbody>\n",
       "</table>\n",
       "</div>"
      ],
      "text/plain": [
       "                                high        lat       lng       low  \\\n",
       "town             river                                                \n",
       "Cam              River Cam  0.782000  51.699985 -2.360238  0.578000   \n",
       "Cambridge        Bin Brook  0.368000  52.197227  0.087527  0.057000   \n",
       "                 River Cam  0.994615  51.971998 -1.118798  0.389374   \n",
       "Great Shelford   River Cam  0.395000  52.134462  0.141784  0.127000   \n",
       "Milton           River Cam  0.294000  52.236542  0.176925  0.218000   \n",
       "Weston Bampfylde River Cam  0.600000  51.023159 -2.565568  0.026000   \n",
       "\n",
       "                             measure_id  period     value  \n",
       "town             river                                     \n",
       "Cam              River Cam  1636.000000   900.0  0.798811  \n",
       "Cambridge        Bin Brook  1792.000000   900.0  0.150815  \n",
       "                 River Cam  1783.376935   900.0  0.424387  \n",
       "Great Shelford   River Cam  1724.000000   900.0  0.097247  \n",
       "Milton           River Cam  1455.000000   900.0  0.249376  \n",
       "Weston Bampfylde River Cam   919.000000   900.0  0.054655  "
      ]
     },
     "execution_count": 41,
     "metadata": {},
     "output_type": "execute_result"
    }
   ],
   "source": [
    "pandas.pivot_table(pandas.DataFrame(flood), values=None, index=['town','river'])"
   ]
  },
  {
   "cell_type": "code",
   "execution_count": null,
   "metadata": {
    "collapsed": true
   },
   "outputs": [],
   "source": []
  },
  {
   "cell_type": "code",
   "execution_count": 7,
   "metadata": {
    "collapsed": true
   },
   "outputs": [],
   "source": [
    "def crosstab(df, cols, countlabel='n'):\n",
    "    x = np.rec.fromarrays([df[col] for col in cols], names=cols)\n",
    "    vs, ns = np.unique(x, return_counts=True)\n",
    "    x = OrderedDict((k,vs[k]) for k in vs.dtype.names)\n",
    "    if countlabel is not None:\n",
    "        x[countlabel] = ns\n",
    "    return x"
   ]
  },
  {
   "cell_type": "code",
   "execution_count": 8,
   "metadata": {},
   "outputs": [
    {
     "data": {
      "text/html": [
       "<div>\n",
       "<style>\n",
       "    .dataframe thead tr:only-child th {\n",
       "        text-align: right;\n",
       "    }\n",
       "\n",
       "    .dataframe thead th {\n",
       "        text-align: left;\n",
       "    }\n",
       "\n",
       "    .dataframe tbody tr th {\n",
       "        vertical-align: top;\n",
       "    }\n",
       "</style>\n",
       "<table border=\"1\" class=\"dataframe\">\n",
       "  <thead>\n",
       "    <tr style=\"text-align: right;\">\n",
       "      <th></th>\n",
       "      <th>label</th>\n",
       "      <th>measure_id</th>\n",
       "      <th>n</th>\n",
       "    </tr>\n",
       "  </thead>\n",
       "  <tbody>\n",
       "    <tr>\n",
       "      <th>0</th>\n",
       "      <td>Bin Brook</td>\n",
       "      <td>1792</td>\n",
       "      <td>2665</td>\n",
       "    </tr>\n",
       "    <tr>\n",
       "      <th>1</th>\n",
       "      <td>Cam</td>\n",
       "      <td>1636</td>\n",
       "      <td>2665</td>\n",
       "    </tr>\n",
       "    <tr>\n",
       "      <th>2</th>\n",
       "      <td>Cambridge</td>\n",
       "      <td>1865</td>\n",
       "      <td>2645</td>\n",
       "    </tr>\n",
       "    <tr>\n",
       "      <th>3</th>\n",
       "      <td>Cambridge Baits Bite</td>\n",
       "      <td>1455</td>\n",
       "      <td>2653</td>\n",
       "    </tr>\n",
       "    <tr>\n",
       "      <th>4</th>\n",
       "      <td>Cambridge Jesus Lock</td>\n",
       "      <td>1702</td>\n",
       "      <td>2653</td>\n",
       "    </tr>\n",
       "    <tr>\n",
       "      <th>5</th>\n",
       "      <td>Dernford</td>\n",
       "      <td>1724</td>\n",
       "      <td>2617</td>\n",
       "    </tr>\n",
       "    <tr>\n",
       "      <th>6</th>\n",
       "      <td>Weston Bampfylde</td>\n",
       "      <td>919</td>\n",
       "      <td>2657</td>\n",
       "    </tr>\n",
       "  </tbody>\n",
       "</table>\n",
       "</div>"
      ],
      "text/plain": [
       "                  label  measure_id     n\n",
       "0             Bin Brook        1792  2665\n",
       "1                   Cam        1636  2665\n",
       "2             Cambridge        1865  2645\n",
       "3  Cambridge Baits Bite        1455  2653\n",
       "4  Cambridge Jesus Lock        1702  2653\n",
       "5              Dernford        1724  2617\n",
       "6      Weston Bampfylde         919  2657"
      ]
     },
     "execution_count": 8,
     "metadata": {},
     "output_type": "execute_result"
    }
   ],
   "source": [
    "pandas.DataFrame(crosstab(flood, ['label','measure_id']))"
   ]
  },
  {
   "cell_type": "code",
   "execution_count": 27,
   "metadata": {},
   "outputs": [
    {
     "data": {
      "text/plain": [
       "Cam               River Cam    1\n",
       "Cambridge         Bin Brook    1\n",
       "                  River Cam    2\n",
       "Great Shelford    River Cam    1\n",
       "Milton            River Cam    1\n",
       "Weston Bampfylde  River Cam    1\n",
       "dtype: int64"
      ]
     },
     "execution_count": 27,
     "metadata": {},
     "output_type": "execute_result"
    }
   ],
   "source": [
    "# Question. Is there one label/measure_id per town:river?\n",
    "x = crosstab(flood, ['town','river','measure_id'])\n",
    "y = crosstab(x, ['town','river'], countlabel='num_measures')\n",
    "i = pandas.MultiIndex.from_arrays([y['town'], y['river']])\n",
    "z1 = pandas.Series(y['num_measures'], index=i)\n",
    "z2 = z1.unstack(1, fill_value=0)\n",
    "z1"
   ]
  },
  {
   "cell_type": "code",
   "execution_count": 31,
   "metadata": {},
   "outputs": [
    {
     "data": {
      "text/plain": [
       "Cam                 1\n",
       "Cambridge           2\n",
       "Great Shelford      1\n",
       "Milton              1\n",
       "Weston Bampfylde    1\n",
       "dtype: int64"
      ]
     },
     "execution_count": 31,
     "metadata": {},
     "output_type": "execute_result"
    }
   ],
   "source": [
    "z1[:,'River Cam']"
   ]
  },
  {
   "cell_type": "code",
   "execution_count": 5,
   "metadata": {},
   "outputs": [
    {
     "data": {
      "text/plain": [
       "array([[    0.,  2665.],\n",
       "       [ 2665.,  5298.],\n",
       "       [    0.,  2617.],\n",
       "       [    0.,  2653.],\n",
       "       [    0.,  2657.]])"
      ]
     },
     "execution_count": 5,
     "metadata": {},
     "output_type": "execute_result"
    }
   ],
   "source": [
    "towns,itowns = np.unique(flood['town'], return_inverse=True)\n",
    "rivers,irivers = np.unique(flood['river'], return_inverse=True)\n",
    "idx,ns = np.unique(np.vstack([itowns,irivers]).T, axis=0, return_counts=True)\n",
    "x = np.zeros([len(towns), len(rivers)])\n",
    "x[tuple(idx.T)] = ns\n",
    "x"
   ]
  },
  {
   "cell_type": "code",
   "execution_count": null,
   "metadata": {
    "collapsed": true
   },
   "outputs": [],
   "source": [
    "pandas.DataFrame(flood).pivot_table()"
   ]
  },
  {
   "cell_type": "markdown",
   "metadata": {
    "collapsed": true
   },
   "source": [
    "## 3.9 Joining dataframes"
   ]
  },
  {
   "cell_type": "markdown",
   "metadata": {},
   "source": [
    "## 3.10 Pivoting between wide and long dataframes"
   ]
  }
 ],
 "metadata": {
  "kernelspec": {
   "display_name": "Python 3",
   "language": "python",
   "name": "python3"
  },
  "language_info": {
   "codemirror_mode": {
    "name": "ipython",
    "version": 3
   },
   "file_extension": ".py",
   "mimetype": "text/x-python",
   "name": "python",
   "nbconvert_exporter": "python",
   "pygments_lexer": "ipython3",
   "version": "3.6.1"
  }
 },
 "nbformat": 4,
 "nbformat_minor": 2
}
