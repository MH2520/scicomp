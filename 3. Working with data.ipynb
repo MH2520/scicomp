{
 "cells": [
  {
   "cell_type": "markdown",
   "metadata": {},
   "source": [
    "# 3. Working with data"
   ]
  },
  {
   "cell_type": "markdown",
   "metadata": {},
   "source": [
    "<div style=\"background-color:wheat\">\n",
    "<strong>Goal of this notebook.</strong>\n",
    "<ul style=\"margin-top: 0px\">\n",
    "<li>Get used to the standard ways of thinking about data, _data frames_ and _indexed tables_</li>\n",
    "<li>Learn how to use the <a href=\"http://pandas.pydata.org/\">Pandas</a> library to handle data</li>\n",
    "<li>See some more advanced plotting with <a href=\"https://matplotlib.org/\">matplotlib</a></li>\n",
    "</ul>"
   ]
  },
  {
   "cell_type": "markdown",
   "metadata": {},
   "source": [
    "## 3.0 Preamble\n",
    "\n",
    "At the top of almost every piece of data-oriented scientific computing work, we'll import these standard modules."
   ]
  },
  {
   "cell_type": "code",
   "execution_count": 41,
   "metadata": {},
   "outputs": [],
   "source": [
    "# Import modules, and give them short aliases so we can write e.g. np.foo rather than numpy.foo\n",
    "import numpy as np\n",
    "import pandas\n",
    "import matplotlib\n",
    "import matplotlib.pyplot as plt\n",
    "# The next line is a piece of magic, to let plots appear in our Jupyter notebooks\n",
    "%matplotlib inline "
   ]
  },
  {
   "cell_type": "markdown",
   "metadata": {},
   "source": [
    "The running example for this section is a dataset of stop-and-search records, [made available](https://data.police.uk/data/) by the UK home office. It's a large file, 172MB, so I like to download it to disk, so it's fast to read it each time I restart the notebook. Here's how we can fetch a file from a url, using the Unix command-line tool `wget`. (The exclamation mark is called a _Jupyter magic_, and it means \"Treat this line as though it were executed at the command prompt\". In IB _Unix Tools_ you'll learn more about the Unix command line.)"
   ]
  },
  {
   "cell_type": "code",
   "execution_count": 11,
   "metadata": {},
   "outputs": [
    {
     "name": "stdout",
     "output_type": "stream",
     "text": [
      "file already downloaded\r\n"
     ]
    }
   ],
   "source": [
    "# Execute a unix command to download a file (if it's not already downloaded), and show download progress\n",
    "!if [ -e \"stop-and-search.csv\" ]; then echo \"file already downloaded\"; else wget \"https://teachingfiles.blob.core.windows.net/founds/stop-and-search.csv\"; fi "
   ]
  },
  {
   "cell_type": "markdown",
   "metadata": {},
   "source": [
    "# 3.1 What data looks like<span id=\"dataframes\"></span>\n",
    "\n",
    "We almost always work with data in the form of a spreadsheet-like table, often referred to as a _data frame_. Here's how to load a dataframe from a file and inspect it."
   ]
  },
  {
   "cell_type": "code",
   "execution_count": 42,
   "metadata": {},
   "outputs": [
    {
     "data": {
      "text/html": [
       "<div>\n",
       "<style>\n",
       "    .dataframe thead tr:only-child th {\n",
       "        text-align: right;\n",
       "    }\n",
       "\n",
       "    .dataframe thead th {\n",
       "        text-align: left;\n",
       "    }\n",
       "\n",
       "    .dataframe tbody tr th {\n",
       "        vertical-align: top;\n",
       "    }\n",
       "</style>\n",
       "<table border=\"1\" class=\"dataframe\">\n",
       "  <thead>\n",
       "    <tr style=\"text-align: right;\">\n",
       "      <th></th>\n",
       "      <th>Type</th>\n",
       "      <th>Date</th>\n",
       "      <th>Part of a policing operation</th>\n",
       "      <th>Policing operation</th>\n",
       "      <th>Latitude</th>\n",
       "      <th>Longitude</th>\n",
       "      <th>Gender</th>\n",
       "      <th>Age range</th>\n",
       "      <th>Self-defined ethnicity</th>\n",
       "      <th>Officer-defined ethnicity</th>\n",
       "      <th>Legislation</th>\n",
       "      <th>Object of search</th>\n",
       "      <th>Outcome</th>\n",
       "      <th>Outcome linked to object of search</th>\n",
       "      <th>Removal of more than just outer clothing</th>\n",
       "      <th>year</th>\n",
       "      <th>month</th>\n",
       "      <th>police_force</th>\n",
       "    </tr>\n",
       "  </thead>\n",
       "  <tbody>\n",
       "    <tr>\n",
       "      <th>0</th>\n",
       "      <td>Person search</td>\n",
       "      <td>2014-07-31T23:20:00+00:00</td>\n",
       "      <td>NaN</td>\n",
       "      <td>NaN</td>\n",
       "      <td>50.938234</td>\n",
       "      <td>-1.388559</td>\n",
       "      <td>Male</td>\n",
       "      <td>25-34</td>\n",
       "      <td>Asian or Asian British - Pakistani (A2)</td>\n",
       "      <td>Asian</td>\n",
       "      <td>Misuse of Drugs Act 1971 (section 23)</td>\n",
       "      <td>Controlled drugs</td>\n",
       "      <td>Nothing found - no further action</td>\n",
       "      <td>NaN</td>\n",
       "      <td>NaN</td>\n",
       "      <td>2014</td>\n",
       "      <td>8</td>\n",
       "      <td>hampshire</td>\n",
       "    </tr>\n",
       "    <tr>\n",
       "      <th>1</th>\n",
       "      <td>Person search</td>\n",
       "      <td>2014-07-31T23:30:00+00:00</td>\n",
       "      <td>NaN</td>\n",
       "      <td>NaN</td>\n",
       "      <td>50.912978</td>\n",
       "      <td>-1.431990</td>\n",
       "      <td>Male</td>\n",
       "      <td>over 34</td>\n",
       "      <td>White - White British (W1)</td>\n",
       "      <td>White</td>\n",
       "      <td>Misuse of Drugs Act 1971 (section 23)</td>\n",
       "      <td>Controlled drugs</td>\n",
       "      <td>Suspect summonsed to court</td>\n",
       "      <td>NaN</td>\n",
       "      <td>NaN</td>\n",
       "      <td>2014</td>\n",
       "      <td>8</td>\n",
       "      <td>hampshire</td>\n",
       "    </tr>\n",
       "    <tr>\n",
       "      <th>2</th>\n",
       "      <td>Person search</td>\n",
       "      <td>2014-07-31T23:45:00+00:00</td>\n",
       "      <td>NaN</td>\n",
       "      <td>NaN</td>\n",
       "      <td>51.005612</td>\n",
       "      <td>-1.497576</td>\n",
       "      <td>Male</td>\n",
       "      <td>10-17</td>\n",
       "      <td>White - White British (W1)</td>\n",
       "      <td>White</td>\n",
       "      <td>Misuse of Drugs Act 1971 (section 23)</td>\n",
       "      <td>Controlled drugs</td>\n",
       "      <td>Nothing found - no further action</td>\n",
       "      <td>NaN</td>\n",
       "      <td>NaN</td>\n",
       "      <td>2014</td>\n",
       "      <td>8</td>\n",
       "      <td>hampshire</td>\n",
       "    </tr>\n",
       "  </tbody>\n",
       "</table>\n",
       "</div>"
      ],
      "text/plain": [
       "            Type                       Date Part of a policing operation  \\\n",
       "0  Person search  2014-07-31T23:20:00+00:00                          NaN   \n",
       "1  Person search  2014-07-31T23:30:00+00:00                          NaN   \n",
       "2  Person search  2014-07-31T23:45:00+00:00                          NaN   \n",
       "\n",
       "   Policing operation   Latitude  Longitude Gender Age range  \\\n",
       "0                 NaN  50.938234  -1.388559   Male     25-34   \n",
       "1                 NaN  50.912978  -1.431990   Male   over 34   \n",
       "2                 NaN  51.005612  -1.497576   Male     10-17   \n",
       "\n",
       "                    Self-defined ethnicity Officer-defined ethnicity  \\\n",
       "0  Asian or Asian British - Pakistani (A2)                     Asian   \n",
       "1               White - White British (W1)                     White   \n",
       "2               White - White British (W1)                     White   \n",
       "\n",
       "                             Legislation  Object of search  \\\n",
       "0  Misuse of Drugs Act 1971 (section 23)  Controlled drugs   \n",
       "1  Misuse of Drugs Act 1971 (section 23)  Controlled drugs   \n",
       "2  Misuse of Drugs Act 1971 (section 23)  Controlled drugs   \n",
       "\n",
       "                             Outcome Outcome linked to object of search  \\\n",
       "0  Nothing found - no further action                                NaN   \n",
       "1         Suspect summonsed to court                                NaN   \n",
       "2  Nothing found - no further action                                NaN   \n",
       "\n",
       "  Removal of more than just outer clothing  year  month police_force  \n",
       "0                                      NaN  2014      8    hampshire  \n",
       "1                                      NaN  2014      8    hampshire  \n",
       "2                                      NaN  2014      8    hampshire  "
      ]
     },
     "execution_count": 42,
     "metadata": {},
     "output_type": "execute_result"
    }
   ],
   "source": [
    "# Import a dataframe using the pandas library\n",
    "stopsearch = pandas.read_csv('stop-and-search.csv')\n",
    "# Display the first 3 rows\n",
    "stopsearch[:3]"
   ]
  },
  {
   "cell_type": "markdown",
   "metadata": {},
   "source": [
    "A dataframe is a collection of named columns. Each column has the same length, and all entries in a column have the same type, though different columns may have different types. If you have taken IA/IB _Databases_, you'll see that dataframes are similar to tables in a relational database. There are some differences:\n",
    "* Scientific data is best thought of as logs of observations. Observed facts cannot be unobserved, so UPDATE and DELETE database operations are irrelevant, as are questions about database consistency.\n",
    "* A dataframe has ordered rows, whereas a relation is unordered (though the output of an SQL query can be ordered)\n",
    "* We are often given messy badly structued data to work with; and we often create dataframes on the fly, work with them for a while, then discard them. There is rarely a phase of entity-relationship modeling: instead we learn how to think about a dataset by working with it."
   ]
  },
  {
   "cell_type": "markdown",
   "metadata": {},
   "source": [
    "In Python, there are several choices about how to represent dataframes. A simple choice is as a dictionary of lists:\n",
    "```\n",
    "mydata = {'police_force': ['hampshire', 'hampshire', 'hampshire', ...],\n",
    "          'Age range': ['25-34', 'over 34', '10-17', ...],\n",
    "          'year': [2014, 2014, 2014, ...],\n",
    "          ...}\n",
    "```\n",
    "We will instead use the [Pandas](http://pandas.pydata.org/) library, designed specifically for working with data. It has several benefits:\n",
    "\n",
    "* Data import and export has lots of fiddly corner cases. Even printint a dataframe takes a surprisingly large amount of code to do well.\n",
    "* For fast numerical computation and concise code, `numpy` is best as we saw in [&sect;2](2.%20Numerical%20computation.ipynb). Pandas stores dataframe columns as `numpy` vectors.\n",
    "* Some simple operations, like selecting a subset of rows, takes a lot of boilerplate code if implemented in pure Python. Much better to use a Pandas dataframe, which lets us write e.g. `stopsearch[:3]` to automatically apply the row selection to each of the columns.\n",
    "\n",
    "It has the disadvantage of being yet another class to learn. It also has some idiosyncratic notation for indexing, which in my experience can lead to\n",
    "rather cryptic error messages when plotting, and which will be covered in [&sect;3.2](#indexing). It has poor support for missing values in data, which it inherits from `numpy`. Despite these problems, it's the best choice at this stage in Python's evolution."
   ]
  },
  {
   "cell_type": "markdown",
   "metadata": {},
   "source": [
    "## 3.2 Creating, importing, and exporting dataframes"
   ]
  },
  {
   "cell_type": "markdown",
   "metadata": {},
   "source": [
    "To create a dataframe from scratch, pass in a dictionary of columns. Python dictionaries are unordered, so you can optionally specify the column order you want with the `columns` argument."
   ]
  },
  {
   "cell_type": "code",
   "execution_count": 43,
   "metadata": {},
   "outputs": [],
   "source": [
    "iris = pandas.DataFrame({'species': ['setosa', 'virginica', 'virginica', 'setosa', 'versicolor'],\n",
    "                         'Petal.length': [1.0, 5.0, 5.8, 1.7, 4.2],\n",
    "                         'Petal.width': [0.2, 1.9, 1.6, 0.5, 1.2]},\n",
    "                        columns = ['species', 'Petal.length', 'Petal.width'])"
   ]
  },
  {
   "cell_type": "markdown",
   "metadata": {},
   "source": [
    "You can also create a dataframe from a list of tuples:"
   ]
  },
  {
   "cell_type": "code",
   "execution_count": 45,
   "metadata": {},
   "outputs": [],
   "source": [
    "iris = pandas.DataFrame([('setosa', 1.0, 0.2), ('virginica', 5.0, 1.9), ('virginica', 5.8, 1.6), ('setosa', 1.7, 0.5), ('versicolor', 4.2, 1.2)],\n",
    "                        columns = ['species', 'Petal.length', 'Petal.width'])"
   ]
  },
  {
   "cell_type": "markdown",
   "metadata": {},
   "source": [
    "A dataframe behaves like a dictionary of vectors, and you can add and remove columns using the same syntax you'd use for dictionaries."
   ]
  },
  {
   "cell_type": "code",
   "execution_count": 46,
   "metadata": {},
   "outputs": [],
   "source": [
    "iris['Sepal.length'] = [4.6, 6.3, 7.2, 5.1, 5.7]\n",
    "del iris['Petal.width']"
   ]
  },
  {
   "cell_type": "markdown",
   "metadata": {},
   "source": [
    "It's very easy to import data from a simple comma-separated value (CSV) file. A CSV file looks like this:\n",
    "```\n",
    "\"Sepal.Length\",\"Sepal.Width\",\"Petal.Length\",\"Petal.Width\",\"Species\"\n",
    "5.1,3.5,1.4,0.2,\"setosa\"\n",
    "4.9,3,1.4,0.2,\"setosa\"\n",
    "4.7,3.2,1.3,0.2,\"setosa\"\n",
    "4.6,3.1,1.5,0.2,\"setosa\"\n",
    "5,3.6,1.4,0.2,\"setosa\"\n",
    "```\n",
    "i.e. a header line, then one line per row of the data frame, with values separated by commas.\n",
    "We've already seen how to import a CSV, using [`pandas.read_csv`](https://pandas.pydata.org/pandas-docs/stable/generated/pandas.read_csv.html).\n",
    "If your file is nearly a CSV but has some quirks such as comments or a missing header row, experiment with the 55 options in [`pandas.read_csv`](https://pandas.pydata.org/pandas-docs/stable/generated/pandas.read_csv.html) or [`pandas.read_table`](https://pandas.pydata.org/pandas-docs/stable/generated/pandas.read_table.html).\n",
    "\n",
    "We can use the same function to read CSV files from remote urls (though if you're using Azure Notebooks, be aware that Azure only permits you to connect to Azure web servers.)"
   ]
  },
  {
   "cell_type": "code",
   "execution_count": 47,
   "metadata": {},
   "outputs": [],
   "source": [
    "import urllib.request  # standard Python library for url requests\n",
    "iris = pandas.read_csv(urllib.request.urlopen('https://teachingfiles.blob.core.windows.net/scicomp/iris.csv'))"
   ]
  },
  {
   "cell_type": "markdown",
   "metadata": {},
   "source": [
    "You can also use `pandas.read_csv` to import a CSV stored on a web server. The data was prepared from the Environment Agency's [web API](http://environment.data.gov.uk/flood-monitoring/doc/reference), put into a database, then summarized from the database and copied into [Azure Blob Storage](https://azure.microsoft.com/en-gb/services/storage/blobs/). See \n",
    "[Appendix A](A.%20Data%20import%20and%20cleanup.ipynb) for details."
   ]
  },
  {
   "cell_type": "markdown",
   "metadata": {},
   "source": [
    "To write a CSV file,\n",
    "```\n",
    "iris.to_csv('iris.csv', index=False)\n",
    "```\n",
    "If you're running this notebook with Azure Notebooks, use the `Data | Download` menu to download the file from Azure to your local machine."
   ]
  },
  {
   "cell_type": "markdown",
   "metadata": {},
   "source": [
    "In my experience, around 70% of the time you spend working with data will be fighting to import it and clean it up. See\n",
    "[&sect;A3. Data import and cleanup](A.%20Data%20import%20and%20cleanup.ipynb) for a collection of recipes for web scraping, reading from a database, and parsing log files."
   ]
  },
  {
   "cell_type": "markdown",
   "metadata": {},
   "source": [
    "## 3.3 Selecting rows and columns from a dataframe"
   ]
  },
  {
   "cell_type": "code",
   "execution_count": 52,
   "metadata": {},
   "outputs": [
    {
     "data": {
      "text/html": [
       "<div>\n",
       "<style>\n",
       "    .dataframe thead tr:only-child th {\n",
       "        text-align: right;\n",
       "    }\n",
       "\n",
       "    .dataframe thead th {\n",
       "        text-align: left;\n",
       "    }\n",
       "\n",
       "    .dataframe tbody tr th {\n",
       "        vertical-align: top;\n",
       "    }\n",
       "</style>\n",
       "<table border=\"1\" class=\"dataframe\">\n",
       "  <thead>\n",
       "    <tr style=\"text-align: right;\">\n",
       "      <th></th>\n",
       "      <th>Date</th>\n",
       "      <th>police_force</th>\n",
       "    </tr>\n",
       "  </thead>\n",
       "  <tbody>\n",
       "    <tr>\n",
       "      <th>0</th>\n",
       "      <td>2014-07-31T23:20:00+00:00</td>\n",
       "      <td>hampshire</td>\n",
       "    </tr>\n",
       "    <tr>\n",
       "      <th>1</th>\n",
       "      <td>2014-07-31T23:30:00+00:00</td>\n",
       "      <td>hampshire</td>\n",
       "    </tr>\n",
       "    <tr>\n",
       "      <th>2</th>\n",
       "      <td>2014-07-31T23:45:00+00:00</td>\n",
       "      <td>hampshire</td>\n",
       "    </tr>\n",
       "  </tbody>\n",
       "</table>\n",
       "</div>"
      ],
      "text/plain": [
       "                        Date police_force\n",
       "0  2014-07-31T23:20:00+00:00    hampshire\n",
       "1  2014-07-31T23:30:00+00:00    hampshire\n",
       "2  2014-07-31T23:45:00+00:00    hampshire"
      ]
     },
     "execution_count": 52,
     "metadata": {},
     "output_type": "execute_result"
    }
   ],
   "source": [
    "stopsearch[:3][['Date', 'police_force']]"
   ]
  },
  {
   "cell_type": "code",
   "execution_count": 53,
   "metadata": {},
   "outputs": [
    {
     "data": {
      "text/html": [
       "<div>\n",
       "<style>\n",
       "    .dataframe thead tr:only-child th {\n",
       "        text-align: right;\n",
       "    }\n",
       "\n",
       "    .dataframe thead th {\n",
       "        text-align: left;\n",
       "    }\n",
       "\n",
       "    .dataframe tbody tr th {\n",
       "        vertical-align: top;\n",
       "    }\n",
       "</style>\n",
       "<table border=\"1\" class=\"dataframe\">\n",
       "  <thead>\n",
       "    <tr style=\"text-align: right;\">\n",
       "      <th></th>\n",
       "      <th>Type</th>\n",
       "      <th>Date</th>\n",
       "      <th>Part of a policing operation</th>\n",
       "      <th>Policing operation</th>\n",
       "      <th>Latitude</th>\n",
       "      <th>Longitude</th>\n",
       "      <th>Gender</th>\n",
       "      <th>Age range</th>\n",
       "      <th>Self-defined ethnicity</th>\n",
       "      <th>Officer-defined ethnicity</th>\n",
       "      <th>Legislation</th>\n",
       "      <th>Object of search</th>\n",
       "      <th>Outcome</th>\n",
       "      <th>Outcome linked to object of search</th>\n",
       "      <th>Removal of more than just outer clothing</th>\n",
       "      <th>year</th>\n",
       "      <th>month</th>\n",
       "      <th>police_force</th>\n",
       "    </tr>\n",
       "  </thead>\n",
       "  <tbody>\n",
       "    <tr>\n",
       "      <th>182451</th>\n",
       "      <td>Person search</td>\n",
       "      <td>2015-07-31T23:10:00+00:00</td>\n",
       "      <td>NaN</td>\n",
       "      <td>NaN</td>\n",
       "      <td>52.389526</td>\n",
       "      <td>0.261347</td>\n",
       "      <td>Male</td>\n",
       "      <td>over 34</td>\n",
       "      <td>White - Any other White ethnic background (W9)</td>\n",
       "      <td>NaN</td>\n",
       "      <td>NaN</td>\n",
       "      <td>Stolen goods</td>\n",
       "      <td>Nothing found - no further action</td>\n",
       "      <td>NaN</td>\n",
       "      <td>NaN</td>\n",
       "      <td>2015</td>\n",
       "      <td>8</td>\n",
       "      <td>cambridgeshire</td>\n",
       "    </tr>\n",
       "    <tr>\n",
       "      <th>182452</th>\n",
       "      <td>Person search</td>\n",
       "      <td>2015-08-01T13:40:00+00:00</td>\n",
       "      <td>NaN</td>\n",
       "      <td>NaN</td>\n",
       "      <td>54.557513</td>\n",
       "      <td>-3.548941</td>\n",
       "      <td>Male</td>\n",
       "      <td>10-17</td>\n",
       "      <td>Asian or Asian British - Pakistani (A2)</td>\n",
       "      <td>NaN</td>\n",
       "      <td>NaN</td>\n",
       "      <td>Controlled drugs</td>\n",
       "      <td>Article found - Detailed outcome unavailable</td>\n",
       "      <td>NaN</td>\n",
       "      <td>NaN</td>\n",
       "      <td>2015</td>\n",
       "      <td>8</td>\n",
       "      <td>cambridgeshire</td>\n",
       "    </tr>\n",
       "    <tr>\n",
       "      <th>182453</th>\n",
       "      <td>Person search</td>\n",
       "      <td>2015-08-01T13:50:00+00:00</td>\n",
       "      <td>NaN</td>\n",
       "      <td>NaN</td>\n",
       "      <td>52.586167</td>\n",
       "      <td>-0.244343</td>\n",
       "      <td>Male</td>\n",
       "      <td>18-24</td>\n",
       "      <td>Asian or Asian British - Any other Asian ethni...</td>\n",
       "      <td>NaN</td>\n",
       "      <td>NaN</td>\n",
       "      <td>Controlled drugs</td>\n",
       "      <td>Nothing found - no further action</td>\n",
       "      <td>NaN</td>\n",
       "      <td>NaN</td>\n",
       "      <td>2015</td>\n",
       "      <td>8</td>\n",
       "      <td>cambridgeshire</td>\n",
       "    </tr>\n",
       "  </tbody>\n",
       "</table>\n",
       "</div>"
      ],
      "text/plain": [
       "                 Type                       Date Part of a policing operation  \\\n",
       "182451  Person search  2015-07-31T23:10:00+00:00                          NaN   \n",
       "182452  Person search  2015-08-01T13:40:00+00:00                          NaN   \n",
       "182453  Person search  2015-08-01T13:50:00+00:00                          NaN   \n",
       "\n",
       "        Policing operation   Latitude  Longitude Gender Age range  \\\n",
       "182451                 NaN  52.389526   0.261347   Male   over 34   \n",
       "182452                 NaN  54.557513  -3.548941   Male     10-17   \n",
       "182453                 NaN  52.586167  -0.244343   Male     18-24   \n",
       "\n",
       "                                   Self-defined ethnicity  \\\n",
       "182451     White - Any other White ethnic background (W9)   \n",
       "182452            Asian or Asian British - Pakistani (A2)   \n",
       "182453  Asian or Asian British - Any other Asian ethni...   \n",
       "\n",
       "       Officer-defined ethnicity Legislation  Object of search  \\\n",
       "182451                       NaN         NaN      Stolen goods   \n",
       "182452                       NaN         NaN  Controlled drugs   \n",
       "182453                       NaN         NaN  Controlled drugs   \n",
       "\n",
       "                                             Outcome  \\\n",
       "182451             Nothing found - no further action   \n",
       "182452  Article found - Detailed outcome unavailable   \n",
       "182453             Nothing found - no further action   \n",
       "\n",
       "       Outcome linked to object of search  \\\n",
       "182451                                NaN   \n",
       "182452                                NaN   \n",
       "182453                                NaN   \n",
       "\n",
       "       Removal of more than just outer clothing  year  month    police_force  \n",
       "182451                                      NaN  2015      8  cambridgeshire  \n",
       "182452                                      NaN  2015      8  cambridgeshire  \n",
       "182453                                      NaN  2015      8  cambridgeshire  "
      ]
     },
     "execution_count": 53,
     "metadata": {},
     "output_type": "execute_result"
    }
   ],
   "source": [
    "stopsearch.loc[stopsearch['police_force']=='cambridgeshire'][:3]"
   ]
  },
  {
   "cell_type": "markdown",
   "metadata": {},
   "source": [
    "http://chris.friedline.net/2015-12-15-rutgers/lessons/python2/02-index-slice-subset.html"
   ]
  },
  {
   "cell_type": "code",
   "execution_count": null,
   "metadata": {},
   "outputs": [],
   "source": []
  },
  {
   "cell_type": "code",
   "execution_count": null,
   "metadata": {},
   "outputs": [],
   "source": []
  },
  {
   "cell_type": "code",
   "execution_count": null,
   "metadata": {},
   "outputs": [],
   "source": []
  },
  {
   "cell_type": "code",
   "execution_count": null,
   "metadata": {},
   "outputs": [],
   "source": []
  },
  {
   "cell_type": "markdown",
   "metadata": {},
   "source": [
    "## Converting types"
   ]
  },
  {
   "cell_type": "markdown",
   "metadata": {},
   "source": [
    "np.astype(int) etc."
   ]
  },
  {
   "cell_type": "markdown",
   "metadata": {},
   "source": [
    "## 3.3 Numerical data<a name=\"numerical\"></a>\n",
    "After importing the `flood` data frame, and looking at a few sample rows, we'll inspect it more thoroughly. Let's look at the `value` column. The sample rows suggest that it's numerical, and we can verify this by checking its type:"
   ]
  },
  {
   "cell_type": "code",
   "execution_count": 10,
   "metadata": {},
   "outputs": [
    {
     "data": {
      "text/plain": [
       "dtype('float64')"
      ]
     },
     "execution_count": 10,
     "metadata": {},
     "output_type": "execute_result"
    }
   ],
   "source": [
    "flood['value'].dtype"
   ]
  },
  {
   "cell_type": "markdown",
   "metadata": {},
   "source": [
    "A quick way to get a sense of the distribution is to find its percentiles, e.g. the 25 %ile is what you get if you sort the numbers from lowest to highest and look 25% of the way along. Numpy has a function [`np.percentile`](https://docs.scipy.org/doc/numpy/reference/generated/numpy.percentile.html) for this, and also [`np.nanpercentile`](https://docs.scipy.org/doc/numpy/reference/generated/numpy.nanpercentile.html) which removes NaN (\"not a number\") items first."
   ]
  },
  {
   "cell_type": "code",
   "execution_count": 11,
   "metadata": {},
   "outputs": [
    {
     "data": {
      "text/plain": [
       "array([-1.3  ,  0.095,  0.174,  0.668,  0.915])"
      ]
     },
     "execution_count": 11,
     "metadata": {},
     "output_type": "execute_result"
    }
   ],
   "source": [
    "np.nanpercentile(flood['value'], q=[0, 25, 50, 75, 100])"
   ]
  },
  {
   "cell_type": "markdown",
   "metadata": {},
   "source": [
    "For convenience, `res.stats.summary` computes these percentiles, and also shows the mean (computed by [`np.nanmean`](https://docs.scipy.org/doc/numpy/reference/generated/numpy.nanmean.html) to remove NaNs first) and the count of how many NaNs there are."
   ]
  },
  {
   "cell_type": "code",
   "execution_count": 12,
   "metadata": {},
   "outputs": [
    {
     "data": {
      "text/html": [
       "<pre>min:  -1.3\n",
       "25%:  0.095\n",
       "med:  0.174\n",
       "mean: 0.3147530857543255\n",
       "75%:  0.6679999999999999\n",
       "max:  0.915\n",
       "(nan): 2</pre>"
      ],
      "text/plain": [
       "SummaryNumeric(min=-1.3, q25=0.095000000000000001, med=0.17399999999999999, mean=0.31475308575432548, q75=0.66799999999999993, max=0.91500000000000004, nan=2)"
      ]
     },
     "execution_count": 12,
     "metadata": {},
     "output_type": "execute_result"
    }
   ],
   "source": [
    "summary(flood['value'])"
   ]
  },
  {
   "cell_type": "markdown",
   "metadata": {},
   "source": [
    "Or we can show the distribution of values with a histogram."
   ]
  },
  {
   "cell_type": "code",
   "execution_count": 13,
   "metadata": {},
   "outputs": [
    {
     "data": {
      "image/png": "[encoded data removed]",
      "text/plain": [
       "<matplotlib.figure.Figure at 0x7f1b5fff1f28>"
      ]
     },
     "metadata": {},
     "output_type": "display_data"
    }
   ],
   "source": [
    "x = flood['value']\n",
    "x = x[~np.isnan(x)]    # plt.hist needs us to remove NaN values first\n",
    "plt.hist(x, bins=30)\n",
    "plt.ylabel('count')\n",
    "plt.show()"
   ]
  },
  {
   "cell_type": "markdown",
   "metadata": {},
   "source": [
    "## 3.4 Categorical data<a name=\"categorical\"></a>\n",
    "Let's look at another column, `flood['town']`, which is not numerical. Let's see the most frequent values and their counts."
   ]
  },
  {
   "cell_type": "code",
   "execution_count": 14,
   "metadata": {},
   "outputs": [
    {
     "data": {
      "text/plain": [
       "array([['Cambridge', 7963],\n",
       "       ['Cam', 2665],\n",
       "       ['Weston Bampfylde', 2657],\n",
       "       ['Milton', 2653],\n",
       "       ['Great Shelford', 2617]], dtype=object)"
      ]
     },
     "execution_count": 14,
     "metadata": {},
     "output_type": "execute_result"
    }
   ],
   "source": [
    "vs,ns = np.unique(flood['town'], return_counts=True)  # the unique items, and the count of each\n",
    "i = np.argsort(-ns)[:5]                                # the indexes of up to 5 items with the highest counts\n",
    "np.vstack([vs[i], ns[i]]).T                            # show one column for these items, and one for the counts"
   ]
  },
  {
   "cell_type": "markdown",
   "metadata": {},
   "source": [
    "For convenience, `res.stats.summary` does this tabulation (and also prints out how many further items there are, if any)."
   ]
  },
  {
   "cell_type": "code",
   "execution_count": 15,
   "metadata": {},
   "outputs": [
    {
     "data": {
      "text/html": [
       "<pre>Cambridge: 7963\n",
       "Cam: 2665\n",
       "Weston Bampfylde: 2657\n",
       "Milton: 2653\n",
       "Great Shelford: 2617</pre>"
      ],
      "text/plain": [
       "[('Cambridge', 7963),\n",
       " ('Cam', 2665),\n",
       " ('Weston Bampfylde', 2657),\n",
       " ('Milton', 2653),\n",
       " ('Great Shelford', 2617)]"
      ]
     },
     "execution_count": 15,
     "metadata": {},
     "output_type": "execute_result"
    }
   ],
   "source": [
    "summary(flood['town'])"
   ]
  },
  {
   "cell_type": "markdown",
   "metadata": {},
   "source": [
    "Or we can show the distribution of values with a histogram. We have to do the counting ourselves then draw bars with \n",
    "[`matplotlib.pyplot.bar`](https://matplotlib.org/api/pyplot_api.html#matplotlib.pyplot.bar)."
   ]
  },
  {
   "cell_type": "code",
   "execution_count": 16,
   "metadata": {},
   "outputs": [
    {
     "data": {
      "image/png": "[encoded data removed]",
      "text/plain": [
       "<matplotlib.figure.Figure at 0x7f1b5fb60470>"
      ]
     },
     "metadata": {},
     "output_type": "display_data"
    }
   ],
   "source": [
    "vs,ns = np.unique(flood['town'], return_counts=True)\n",
    "xs = np.arange(len(vs))                               # pick x-coordinates 0, 1, ..., len(vs)-1\n",
    "plt.bar(xs, ns, align='center')                       # use width=... to set the bar width\n",
    "plt.xticks(xs, vs, rotation=-30, ha='left')           # label the x-coordinates of the bars\n",
    "plt.ylabel('count')\n",
    "plt.title('label')\n",
    "plt.show()"
   ]
  },
  {
   "cell_type": "markdown",
   "metadata": {},
   "source": [
    "## 3.5 Splitting numbers into categories<a name=\"cut\"></a>\n",
    "Sometimes it's useful to simplify a numerical column by splitting it into categories, e.g. bottom third, middle third, top third. We can find the breakpoints with [`np.percentile`](https://docs.scipy.org/doc/numpy-dev/reference/generated/numpy.percentile.html), and find the categories with [`np.digitize`](https://docs.scipy.org/doc/numpy/reference/generated/numpy.digitize.html)."
   ]
  },
  {
   "cell_type": "code",
   "execution_count": 17,
   "metadata": {},
   "outputs": [
    {
     "data": {
      "text/html": [
       "<pre>1: 6244\n",
       "2: 6192\n",
       "0: 6119</pre>"
      ],
      "text/plain": [
       "[('1', 6244), ('2', 6192), ('0', 6119)]"
      ]
     },
     "execution_count": 17,
     "metadata": {},
     "output_type": "execute_result"
    }
   ],
   "source": [
    "# Each measurement station has its own 'low' and 'high' ranges.\n",
    "# Let's normalize the values, so that low=0 and high=1, and categorize these normalized values.\n",
    "x = (flood['value'] - flood['low']) / (flood['high'] - flood['low'])\n",
    "\n",
    "# np.digitize returns integers saying which bin each number falls in.\n",
    "# We'll cast it to be a string, so that summary() displays it as categorical.\n",
    "y = np.digitize(x, bins=np.nanpercentile(x, [100/3, 200/3]))\n",
    "summary(y.astype(str))"
   ]
  },
  {
   "cell_type": "markdown",
   "metadata": {},
   "source": [
    "Bothersomely, `np.digitize` lumps NaNs into the highest bin, which is misleading. For convenience, `res.stats.cut` takes care of NaNs, and it also gives more helpful labels to the categories."
   ]
  },
  {
   "cell_type": "code",
   "execution_count": 18,
   "metadata": {},
   "outputs": [
    {
     "data": {
      "text/html": [
       "<pre>[0.052, 0.368): 6244\n",
       "[0.368, inf): 6190\n",
       "(-inf, 0.052): 6119\n",
       "nan: 2</pre>"
      ],
      "text/plain": [
       "[('[0.052, 0.368)', 6244),\n",
       " ('[0.368, inf)', 6190),\n",
       " ('(-inf, 0.052)', 6119),\n",
       " ('nan', 2)]"
      ]
     },
     "execution_count": 18,
     "metadata": {},
     "output_type": "execute_result"
    }
   ],
   "source": [
    "summary(cut(x, breaks=2))"
   ]
  },
  {
   "cell_type": "code",
   "execution_count": 25,
   "metadata": {},
   "outputs": [
    {
     "data": {
      "text/plain": [
       "[(-0.329, 1.652], (-0.329, 1.652], (-0.329, 1.652], (-0.329, 1.652], (-0.329, 1.652], ..., (-0.329, 1.652], (-0.329, 1.652], (-0.329, 1.652], (-0.329, 1.652], (-0.329, 1.652]]\n",
       "Length: 18555\n",
       "Categories (2, interval[float64]): [(-2.314, -0.329] < (-0.329, 1.652]]"
      ]
     },
     "execution_count": 25,
     "metadata": {},
     "output_type": "execute_result"
    }
   ],
   "source": [
    "pandas.cut(x, bins=2)"
   ]
  },
  {
   "cell_type": "markdown",
   "metadata": {},
   "source": [
    "<div style=\"background-color:wheat\"><strong>Excercise.</strong>\n",
    "The <code style=\"background-color:wheat\">cut</code> function uses \n",
    "<code style=\"background-color:wheat\">np.nanpercentile</code> to split the data into equal percentile ranges.\n",
    "So why are the counts not equal?\n",
    "</div>"
   ]
  },
  {
   "cell_type": "markdown",
   "metadata": {},
   "source": [
    "## 3.6 Geographic data<a name=\"geo\"></a>\n",
    "This data frame has columns `lat` and `lng` which are likely map coordinates. Matplotlib does have routines for map plots (see the [example gallery](https://matplotlib.org/basemap/users/examples.html)), and there are also many contributed libraries of varying quality. Here is a quick and dirty plot on top of Google Maps."
   ]
  },
  {
   "cell_type": "markdown",
   "metadata": {},
   "source": [
    "<div style=\"background-color:red; color:white\">\n",
    "TODO: make sure this output works reliably! Do I need my own maps API token? Different plotting library?\n",
    "</div>"
   ]
  },
  {
   "cell_type": "code",
   "execution_count": 11,
   "metadata": {
    "collapsed": true
   },
   "outputs": [],
   "source": [
    "# Create a numpy Record Array, with one record for each (lat,lng) pair\n",
    "latlngs = np.rec.fromarrays([flood['lat'], flood['lng']], names=['lat','lng'])\n",
    "# Count the number of flood readings for each unique (lat,lng)\n",
    "vs, ns = np.unique(latlngs, return_counts=True)"
   ]
  },
  {
   "cell_type": "code",
   "execution_count": 14,
   "metadata": {},
   "outputs": [
    {
     "data": {
      "text/html": [
       "\n",
       "        <iframe\n",
       "            width=\"600\"\n",
       "            height=\"400\"\n",
       "            src=\"res/map.html\"\n",
       "            frameborder=\"0\"\n",
       "            allowfullscreen\n",
       "        ></iframe>\n",
       "        "
      ],
      "text/plain": [
       "<IPython.lib.display.IFrame at 0x7fb79afb4c88>"
      ]
     },
     "execution_count": 14,
     "metadata": {},
     "output_type": "execute_result"
    }
   ],
   "source": [
    "#!pip3 install gmplot -q                            # install a library for Google Map plots\n",
    "import gmplot\n",
    "import IPython.display                              # allows Python code to show html in the notebook\n",
    "\n",
    "gmap = gmplot.GoogleMapPlotter(52.212, 0.1208, 12)  # define the center of the view, and the zoom level\n",
    "for lat,lng,n in zip(vs.lat, vs.lng, ns):           # add circles at every (lat,lng) pair  \n",
    "    gmap.circle(lat, lng, n/10)                     # (though these are too small for a zoomed-out map)\n",
    "\n",
    "gmap.draw('res/map.html')\n",
    "IPython.display.IFrame(src='res/map.html', width=600, height=400)"
   ]
  },
  {
   "cell_type": "markdown",
   "metadata": {},
   "source": [
    "## 3.7 Grouped statistics<a name=\"groupby\"></a>\n",
    "So far we've only looked at one column at a time. Let's now turn to the relationship between columns (also known as [multivariate analysis](https://en.wikipedia.org/wiki/Multivariate_statistics), as opposed to the univariate analysis we've seen so far). For example, what's the typical range of water levels (`value`) at each measurement station (`label`)? To find this, we need to group the rows of the dataframe, one row for each value of `label`, and for each group we'll compute the mean and standard deviation."
   ]
  },
  {
   "cell_type": "code",
   "execution_count": 30,
   "metadata": {},
   "outputs": [
    {
     "data": {
      "image/png": "[encoded data removed]",
      "text/plain": [
       "<matplotlib.figure.Figure at 0x7f1b5d830c50>"
      ]
     },
     "metadata": {},
     "output_type": "display_data"
    }
   ],
   "source": [
    "res = {'label':[], 'n':[], 'mean':[], 'sd':[]}\n",
    "for lbl in np.unique(flood['label']):\n",
    "    i = flood['label'] == lbl\n",
    "    res['label'].append(lbl)\n",
    "    res['n'].append(np.count_nonzero(i))\n",
    "    res['mean'].append(np.nanmean(flood['value'][i]))\n",
    "    res['sd'].append(np.nanstd(flood['value'][i]))\n",
    "\n",
    "# Bar plot, with error bars\n",
    "xs = np.arange(len(res['label']))\n",
    "plt.bar(xs, res['mean'], align='center', facecolor='wheat')\n",
    "plt.errorbar(xs, res['mean'], yerr=res['sd'], linestyle='None', ecolor='k')\n",
    "plt.xticks(xs, res['label'], rotation=-30, ha='left')\n",
    "plt.ylabel('value')\n",
    "plt.title('Mean and standard deviation of water levels at each station')\n",
    "plt.show()"
   ]
  },
  {
   "cell_type": "markdown",
   "metadata": {},
   "source": [
    "<div style=\"background-color:wheat\"><strong>Exercise.</strong>\n",
    "Implement the above code more efficiently, using vectorized operations rather than a <code style=\"background-color:wheat\">for</code> loop. Hint: <a href=\"https://stackoverflow.com/a/23271510\">stackoverflow.com/a/23271510</a>.\n",
    "What is the complexity of the above code in terms of <em>n</em>, the length of the vector, and <em>k</em>, the number of unique levels?\n",
    "</div>"
   ]
  },
  {
   "cell_type": "markdown",
   "metadata": {
    "collapsed": true
   },
   "source": [
    "## 3.8 Facet plots<a name=\"facet\"></a>\n",
    "To show more details at each measurement station, we can split the plot out into many subplots, one per station. This is called a _facet plot_ or a _panel plot_ or a _small multiples_ plot. [According to the plotting guru Edward Tufte](https://en.wikipedia.org/wiki/Small_multiple),\n",
    "<blockquote>\n",
    "At the heart of quantitative reasoning is a single question: Compared to what? Small multiple designs, multivariate and data bountiful, answer directly by visually enforcing comparisons of changes, of the differences among objects, of the scope of alternatives. For a wide range of problems in data presentation, small multiples are the best design solution.\n",
    "</blockquote>\n",
    "\n",
    "This code uses [`fig.add_subplot`](https://matplotlib.org/api/figure_api.html#matplotlib.figure.Figure.add_subplot) to add panels one by one, for each level of `flood['label']`. If we had wanted a two dimensional grid of subplots, split by the levels of two categorical columns, we could have used [`plt.subplots(...)`](https://matplotlib.org/examples/pylab_examples/subplots_demo.html) to create the full grid of panels in one go, as in\n",
    "[these demos](https://matplotlib.org/examples/pylab_examples/subplots_demo.html).\n",
    "\n",
    "Previously we have used commands like `plt.hist()` to draw histograms, but this code uses `ax.hist()` where `ax` is an `Axes` object. All the plotting routines are actually [`Axes` methods](https://matplotlib.org/api/axes_api.html), and the `plt.*` methods are just aliases. When you look for code snippets on the web, you'll find both styles."
   ]
  },
  {
   "cell_type": "code",
   "execution_count": 31,
   "metadata": {},
   "outputs": [
    {
     "data": {
      "image/png": "[encoded data removed]",
      "text/plain": [
       "<matplotlib.figure.Figure at 0x7f1b5fa31ef0>"
      ]
     },
     "metadata": {},
     "output_type": "display_data"
    }
   ],
   "source": [
    "norm_value = (flood['value'] - flood['low']) / (flood['high'] - flood['low'])\n",
    "labels = np.unique(flood['label'])\n",
    "\n",
    "fig = plt.figure()\n",
    "for i,lbl in enumerate(labels):\n",
    "    ax = fig.add_subplot(3, 3, i+1)        # numrows=3, numcols=3, new subplot in the (i+1)th position\n",
    "    x = norm_value[flood['label'] == lbl]\n",
    "    x = x[~np.isnan(x)]                    # remove NaN values since ax.hist doesn't work with them\n",
    "    ax.hist(x)\n",
    "    ax.set_title(lbl)"
   ]
  },
  {
   "cell_type": "markdown",
   "metadata": {},
   "source": [
    "To make the plot look lovely, we need some plot-tweaking.\n",
    "\n",
    "* `fig.add_subplot` lets us [specify axes to be shared](https://matplotlib.org/users/recipes.html). The code below makes all the subplots share the same x axis as the top left subplot.\n",
    "\n",
    "* Since all the subplots share the same x axis, but the data for each plot is different, `ax.hist` will choose different bins for each subplot. It looks better to force them all to use the same bins.\n",
    "\n",
    "* Use `plt.get_cmap(name, n)` to get a colour map with `n` values, where `name` is one of the [standard colour-map names](https://matplotlib.org/users/colormaps.html)."
   ]
  },
  {
   "cell_type": "code",
   "execution_count": 30,
   "metadata": {},
   "outputs": [
    {
     "data": {
      "image/png": "[encoded data removed]",
      "text/plain": [
       "<matplotlib.figure.Figure at 0x10ee7a3c8>"
      ]
     },
     "metadata": {},
     "output_type": "display_data"
    }
   ],
   "source": [
    "labels = np.unique(flood['label'])\n",
    "norm_value = (flood['value'] - flood['low']) / (flood['high'] - flood['low'])\n",
    "bins = np.linspace(min(norm_value), max(norm_value), 40)\n",
    "\n",
    "with matplotlib.rc_context({'figure.figsize': [10,6], 'figure.subplot.hspace': 0.3}):\n",
    "    colors = plt.get_cmap('Set2', len(labels))\n",
    "    fig = plt.figure()\n",
    "    ax0 = None\n",
    "    for i,lbl in enumerate(labels):\n",
    "        if ax0 is None:\n",
    "            ax = fig.add_subplot(3, 3, i+1)\n",
    "            ax0 = ax\n",
    "        else:\n",
    "            ax = fig.add_subplot(3, 3, i+1, sharex=ax0)\n",
    "        x = norm_value[flood['label'] == lbl]\n",
    "        x = x[~np.isnan(x)]\n",
    "        ax.hist(x, bins=bins, facecolor=colors(i), edgecolor='0.7')\n",
    "        ax.set_title(lbl)\n",
    "    fig.suptitle('Normalized value')"
   ]
  },
  {
   "cell_type": "markdown",
   "metadata": {},
   "source": [
    "<div style=\"background-color:wheat\"><strong>Exercise.</strong>\n",
    "Which values of <em>i</em> correspond to the three bottom-most panels?\n",
    "Use <code style=\"background-color:wheat\">ax.get_xaxis().set_visible(False)</code> to turn off the ticks on all the other panels, so the panel labels can be read cleanly.\n",
    "<em>Solution: if <code style=\"background-color:wheat\">i + 3 &geq; len(labels)</code> then panel <em>i</em> is bottom-most.</em>\n",
    "</div>"
   ]
  },
  {
   "cell_type": "markdown",
   "metadata": {},
   "source": [
    "## 3.9 Grouped plots (and timestamps)<a name=\"grouped\"></a>\n",
    "Here's another way to show grouped data. Again we'll plot each measurement station (`label`) separately, but this time we'll plot the water level (`value`) as a function of time (`t`). The lines for each station can happily fit on the same panel, and we'll add a legend.\n",
    "\n",
    "The first step is to fix up the time column, so that `matplotlib` knows it's a timestamp and not just a string, so that it will display nicely. As [xkcd](https://www.xkcd.com/1883/) observes, timestamps are a nuisance because of timezones &mdash; and also because of unequal months and leap years and so on, which make it hard work to get axes right in plots.\n",
    "\n",
    "<a href=\"https://www.xkcd.com/1883/\"><img src=\"https://imgs.xkcd.com/comics/supervillain_plan.png\" style=\"height:30em\" alt=\"supervillain timezone woes\"></a>"
   ]
  },
  {
   "cell_type": "code",
   "execution_count": 34,
   "metadata": {
    "collapsed": true
   },
   "outputs": [],
   "source": [
    "import datetime, pytz\n",
    "x = flood['t']\n",
    "# Parse the timestamp strings (see https://docs.python.org/3/library/datetime.html#datetime.datetime.strptime)\n",
    "x = [datetime.datetime.strptime(tstr, '%Y-%m-%dT%H:%M:%SZ') for tstr in x]\n",
    "# Mark each timestamp as a UTC timestamp\n",
    "# which is what the docs say they are: http://environment.data.gov.uk/flood-monitoring/doc/reference\n",
    "x = [t.replace(tzinfo=pytz.utc) for t in x]\n",
    "# Convert to a local timestamp (which in this case is British Summer Time, one hour off UTC)\n",
    "local_tz = pytz.timezone('Europe/London')\n",
    "x = [t.astimezone(local_tz) for t in x]\n",
    "# Store it in the data frame as a numpy vector, so we can use numpy indexing on it\n",
    "flood['t2'] = np.array(x)"
   ]
  },
  {
   "cell_type": "markdown",
   "metadata": {},
   "source": [
    "The plotting code below uses the same core logic for splitting by `label` that we've used before. This time, for each level of `label`, we call `ax.plot(x,y,lbl)`. This picks a different colour each time, and it remembers the association between colours and labels, so that `ax.legend()` can draw the right thing."
   ]
  },
  {
   "cell_type": "code",
   "execution_count": 36,
   "metadata": {},
   "outputs": [
    {
     "data": {
      "image/png": "[encoded data removed]",
      "text/plain": [
       "<matplotlib.figure.Figure at 0x7f7248455438>"
      ]
     },
     "metadata": {},
     "output_type": "display_data"
    }
   ],
   "source": [
    "labels = np.unique(flood['label'])\n",
    "\n",
    "# Set the plot size to be 10x6 nominal inches, for this plot only.\n",
    "# See https://matplotlib.org/users/customizing.html for more customization options.\n",
    "with matplotlib.rc_context({'figure.figsize': [10,6]}):\n",
    "    \n",
    "    fig,ax = plt.subplots()\n",
    "    for lbl in labels:\n",
    "        i = flood['label'] == lbl\n",
    "        t,v = flood['t2'][i], flood['value'][i]\n",
    "        # Sort the readings by time, because otherwise the line could go back and forth across the plot\n",
    "        j = np.argsort(t)\n",
    "        ax.plot(t[j], v[j], linestyle='-', label=lbl)\n",
    "    ax.legend()\n",
    "    \n",
    "    # Date axis tweaking taken from https://matplotlib.org/examples/api/date_demo.html\n",
    "    ax.xaxis.set_major_locator(matplotlib.dates.WeekdayLocator(byweekday=matplotlib.dates.MO, tz=local_tz))\n",
    "    ax.xaxis.set_minor_locator(matplotlib.dates.DayLocator(tz=local_tz))\n",
    "    ax.xaxis.set_major_formatter(matplotlib.dates.DateFormatter('%a %d %b'))\n",
    "    ax.set_ylim(-0.8, 1.1)\n",
    "    ax.grid(True, axis='x', color='0.8')\n",
    "    fig.autofmt_xdate(bottom=0.2, rotation=-30, ha='left')"
   ]
  },
  {
   "cell_type": "markdown",
   "metadata": {},
   "source": [
    "What is `fig,ax = plt.subplots()` about? The default arguments are [`plt.subplots(nrows=1,ncols=1)`](https://matplotlib.org/api/pyplot_api.html?highlight=matplotlib%20pyplot%20subplots#matplotlib.pyplot.subplots), i.e. it creates a 1&times;1 grid of subplots, and it returns a [`Figure`](https://matplotlib.org/api/figure_api.html#matplotlib.figure.Figure) object and an [`Axes`](https://matplotlib.org/api/axes_api.html#matplotlib.axes.Axes) object. The former has methods for modifying the plot as a whole, and the latter has all the methods for actually plotting data plus methods for tweaking how the axis is shown. When we use `plt.plot()` it's actually just wrapper that retrieves the current axes then calls `ax.plot()`."
   ]
  },
  {
   "cell_type": "markdown",
   "metadata": {},
   "source": [
    "## 3.10 Cross tabulation<a name=\"crosstab\"></a>\n",
    "Cross tabulation lets us see how two or more categorical variables relate to each other. For example, let's find out how many readings there are in each town, and for each river."
   ]
  },
  {
   "cell_type": "code",
   "execution_count": 10,
   "metadata": {},
   "outputs": [
    {
     "data": {
      "text/plain": [
       "array([[    0.,  2665.],\n",
       "       [ 2665.,  5298.],\n",
       "       [    0.,  2617.],\n",
       "       [    0.,  2653.],\n",
       "       [    0.,  2657.]])"
      ]
     },
     "execution_count": 10,
     "metadata": {},
     "output_type": "execute_result"
    }
   ],
   "source": [
    "# Get the list of unique towns, and let itowns[i] be the town that row i of the dataframe belongs to.\n",
    "# Likewise for rivers.\n",
    "towns,itowns = np.unique(flood['town'], return_inverse=True)\n",
    "rivers,irivers = np.unique(flood['river'], return_inverse=True)\n",
    "# Create an empty array with one row per town, one column per river\n",
    "x = np.zeros([len(towns), len(rivers)])\n",
    "# Tally up the number of readings corresponding to each cell of the array.\n",
    "for it,ir in zip(itowns, irivers):\n",
    "    x[it,ir] += 1\n",
    "x"
   ]
  },
  {
   "cell_type": "markdown",
   "metadata": {},
   "source": [
    "It's painful to have to write multiple lines of code every time we want a simple cross tabulation, and the output doesn't show row and column labels. This is where library routines come into their own, specifically \n",
    "[`pandas.crosstab`](https://pandas.pydata.org/pandas-docs/stable/generated/pandas.crosstab.html)\n",
    "and [`pivot_table`](https://pandas.pydata.org/pandas-docs/stable/generated/pandas.DataFrame.pivot_table.html) and [`unstack`](https://pandas.pydata.org/pandas-docs/stable/generated/pandas.DataFrame.unstack.html#pandas.DataFrame.unstack). The `pandas` syntax is powerful but takes some getting used to, so instead here's a simple wrapper function, `res.stats.crosstab`."
   ]
  },
  {
   "cell_type": "code",
   "execution_count": 25,
   "metadata": {},
   "outputs": [
    {
     "data": {
      "text/html": [
       "<div>\n",
       "<style>\n",
       "    .dataframe thead tr:only-child th {\n",
       "        text-align: right;\n",
       "    }\n",
       "\n",
       "    .dataframe thead th {\n",
       "        text-align: left;\n",
       "    }\n",
       "\n",
       "    .dataframe tbody tr th {\n",
       "        vertical-align: top;\n",
       "    }\n",
       "</style>\n",
       "<table border=\"1\" class=\"dataframe\">\n",
       "  <thead>\n",
       "    <tr style=\"text-align: right;\">\n",
       "      <th>river</th>\n",
       "      <th>Bin Brook</th>\n",
       "      <th>River Cam</th>\n",
       "    </tr>\n",
       "    <tr>\n",
       "      <th>town</th>\n",
       "      <th></th>\n",
       "      <th></th>\n",
       "    </tr>\n",
       "  </thead>\n",
       "  <tbody>\n",
       "    <tr>\n",
       "      <th>Cam</th>\n",
       "      <td>0</td>\n",
       "      <td>2665</td>\n",
       "    </tr>\n",
       "    <tr>\n",
       "      <th>Cambridge</th>\n",
       "      <td>2665</td>\n",
       "      <td>5298</td>\n",
       "    </tr>\n",
       "    <tr>\n",
       "      <th>Great Shelford</th>\n",
       "      <td>0</td>\n",
       "      <td>2617</td>\n",
       "    </tr>\n",
       "    <tr>\n",
       "      <th>Milton</th>\n",
       "      <td>0</td>\n",
       "      <td>2653</td>\n",
       "    </tr>\n",
       "    <tr>\n",
       "      <th>Weston Bampfylde</th>\n",
       "      <td>0</td>\n",
       "      <td>2657</td>\n",
       "    </tr>\n",
       "  </tbody>\n",
       "</table>\n",
       "</div>"
      ],
      "text/plain": [
       "river             Bin Brook  River Cam\n",
       "town                                  \n",
       "Cam                       0       2665\n",
       "Cambridge              2665       5298\n",
       "Great Shelford            0       2617\n",
       "Milton                    0       2653\n",
       "Weston Bampfylde          0       2657"
      ]
     },
     "execution_count": 25,
     "metadata": {},
     "output_type": "execute_result"
    }
   ],
   "source": [
    "crosstab('town', 'river', data=flood)"
   ]
  },
  {
   "cell_type": "markdown",
   "metadata": {},
   "source": [
    "Cross-tabulation is useful for figuring out the contents of a data set you've been given. Let's work out how many measurement stations there are for each town and each river:"
   ]
  },
  {
   "cell_type": "code",
   "execution_count": 26,
   "metadata": {
    "scrolled": true
   },
   "outputs": [
    {
     "data": {
      "text/html": [
       "<div>\n",
       "<style>\n",
       "    .dataframe thead tr:only-child th {\n",
       "        text-align: right;\n",
       "    }\n",
       "\n",
       "    .dataframe thead th {\n",
       "        text-align: left;\n",
       "    }\n",
       "\n",
       "    .dataframe tbody tr th {\n",
       "        vertical-align: top;\n",
       "    }\n",
       "</style>\n",
       "<table border=\"1\" class=\"dataframe\">\n",
       "  <thead>\n",
       "    <tr style=\"text-align: right;\">\n",
       "      <th>river</th>\n",
       "      <th>Bin Brook</th>\n",
       "      <th>River Cam</th>\n",
       "    </tr>\n",
       "    <tr>\n",
       "      <th>town</th>\n",
       "      <th></th>\n",
       "      <th></th>\n",
       "    </tr>\n",
       "  </thead>\n",
       "  <tbody>\n",
       "    <tr>\n",
       "      <th>Cam</th>\n",
       "      <td>0</td>\n",
       "      <td>1</td>\n",
       "    </tr>\n",
       "    <tr>\n",
       "      <th>Cambridge</th>\n",
       "      <td>1</td>\n",
       "      <td>2</td>\n",
       "    </tr>\n",
       "    <tr>\n",
       "      <th>Great Shelford</th>\n",
       "      <td>0</td>\n",
       "      <td>1</td>\n",
       "    </tr>\n",
       "    <tr>\n",
       "      <th>Milton</th>\n",
       "      <td>0</td>\n",
       "      <td>1</td>\n",
       "    </tr>\n",
       "    <tr>\n",
       "      <th>Weston Bampfylde</th>\n",
       "      <td>0</td>\n",
       "      <td>1</td>\n",
       "    </tr>\n",
       "  </tbody>\n",
       "</table>\n",
       "</div>"
      ],
      "text/plain": [
       "river             Bin Brook  River Cam\n",
       "town                                  \n",
       "Cam                       0          1\n",
       "Cambridge                 1          2\n",
       "Great Shelford            0          1\n",
       "Milton                    0          1\n",
       "Weston Bampfylde          0          1"
      ]
     },
     "execution_count": 26,
     "metadata": {},
     "output_type": "execute_result"
    }
   ],
   "source": [
    "# Produce a data frame x with one row per town:river:measure_id.\n",
    "# (crosstab produces a table by default, but with format_='DataFrame' it produces a pandas.DataFrame.)\n",
    "x = crosstab('town','river','measure_id', data=flood, format_='DataFrame')\n",
    "# For each town:river, how many rows does x have i.e. how many measurement stations?\n",
    "crosstab('town', 'river', data=x)"
   ]
  },
  {
   "cell_type": "markdown",
   "metadata": {},
   "source": [
    "<div style=\"background-color:wheat\"><strong>Exercise.</strong>\n",
    "(Advanced practice at <code style=\"background-color:wheat\">numpy</code> vectorized coding.)\n",
    "Rewrite the explicit tabulation code, using vectorized operations rather than a <code style=\"background-color:wheat\">for</code> loop.\n",
    "<em>Solution:</em>\n",
    "<pre style=\"background-color:wheat\">\n",
    "idx,ns = np.unique(np.vstack([itowns,irivers]).T, axis=0, return_counts=True)\n",
    "x = np.zeros([len(towns), len(rivers)])\n",
    "x[tuple(idx.T)] = ns\n",
    "</pre>\n",
    "</div>"
   ]
  },
  {
   "cell_type": "markdown",
   "metadata": {},
   "source": [
    "## 3.11 Merging dataframes<a name=\"merge\"></a>\n",
    "Consider these two questions about the flood data:\n",
    "\n",
    "* We've seen how to compute the mean and standard deviation of water level at each measurement station. How can we use these to standardize all the readings, per station?\n",
    "* How can we compute the weekly rate of change at each station, i.e. the average value in a week, minus the value in the previous week?\n",
    "\n",
    "These are questions that we can answer by merging dataframes, or `JOIN`ing them as it's referred to in IA _Databases_. \n",
    "It's possible to implement this yourself in plain Python, but there's no reason not to use\n",
    "[`pandas.DataFrame.merge()`](https://pandas.pydata.org/pandas-docs/stable/merging.html#database-style-dataframe-joining-merging).\n",
    "Here is a simple example."
   ]
  },
  {
   "cell_type": "code",
   "execution_count": 29,
   "metadata": {
    "collapsed": true
   },
   "outputs": [],
   "source": [
    "# Find the mean and standard deviation per station, as in Section 3.5.\n",
    "stations = {'label':[], 'mean':[], 'sd':[]}\n",
    "for lbl in np.unique(flood['label']):\n",
    "    i = flood['label'] == lbl\n",
    "    stations['label'].append(lbl)\n",
    "    stations['mean'].append(np.nanmean(flood['value'][i]))\n",
    "    stations['sd'].append(np.nanstd(flood['value'][i]))\n",
    "\n",
    "# Do the merge, and (optionally) convert it back to a plain Python dictionary\n",
    "flood2 = pandas.DataFrame(flood).merge(pandas.DataFrame(stations), on='label')\n",
    "flood2 = OrderedDict((k, v.values) for k,v in flood2.items())"
   ]
  },
  {
   "cell_type": "markdown",
   "metadata": {},
   "source": [
    "The same plotting code as in Section 3.7, but applied to the standardized values `(flood2['value']-flood2['mean'])/flood2['sd']` now looks like this:\n",
    "![standardized water levels](res/normts.png)"
   ]
  },
  {
   "cell_type": "markdown",
   "metadata": {},
   "source": [
    "<div style=\"background-color:wheat\"><strong>Exercise.</strong>\n",
    "To compute weekly rate of change, what two dataframes should we merge, and what join key should we use? \n",
    "<em>Hint: the join key should be a list of two column names.</em>.\n",
    "</div>"
   ]
  }
 ],
 "metadata": {
  "kernelspec": {
   "display_name": "Python 3",
   "language": "python",
   "name": "python3"
  },
  "language_info": {
   "codemirror_mode": {
    "name": "ipython",
    "version": 3
   },
   "file_extension": ".py",
   "mimetype": "text/x-python",
   "name": "python",
   "nbconvert_exporter": "python",
   "pygments_lexer": "ipython3",
   "version": "3.5.2"
  }
 },
 "nbformat": 4,
 "nbformat_minor": 2
}
