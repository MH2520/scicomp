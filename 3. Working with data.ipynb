{
 "cells": [
  {
   "cell_type": "markdown",
   "metadata": {},
   "source": [
    "# 3. Working with data"
   ]
  },
  {
   "cell_type": "markdown",
   "metadata": {},
   "source": [
    "## 3.0 Preamble\n",
    "\n",
    "At the top of almost every piece of scientific computing work, we'll import these standard modules."
   ]
  },
  {
   "cell_type": "code",
   "execution_count": 1,
   "metadata": {
    "collapsed": true
   },
   "outputs": [],
   "source": [
    "# Import modules, and give them short aliases so we can write e.g. np.foo rather than numpy.foo\n",
    "import math, random\n",
    "import numpy as np\n",
    "import matplotlib\n",
    "import matplotlib.pyplot as plt\n",
    "import scipy\n",
    "import scipy.optimize\n",
    "import pandas\n",
    "from collections import OrderedDict, namedtuple\n",
    "# The next line is a piece of magic, to let plots appear in our Jupyter notebooks\n",
    "%matplotlib inline "
   ]
  },
  {
   "cell_type": "markdown",
   "metadata": {},
   "source": [
    "# 3.1 What data looks like"
   ]
  },
  {
   "cell_type": "markdown",
   "metadata": {},
   "source": [
    "Scientific computing is all about the data. You will almost always work with data in the form of a spreadsheet-like table, often referred to as a _data frame_. \n",
    "Here is a example: a sample of rows from a classic dataset (the [Iris dataset](https://en.wikipedia.org/wiki/Iris_flower_data_set), introduced by [Ronald Fisher](https://en.wikipedia.org/wiki/Ronald_Fisher) in 1936; Fisher was described as a \"genius who almost single-handedly created the foundations for modern statistical science\").\n",
    "\n",
    "| Sepal.Length | Sepal.Width | Petal.Length | Petal.Width | Species |\n",
    "|----------------------------------------------------------------|\n",
    "| 7.7          |        3.8  |         6.7  |        2.2  |  virginica\n",
    "| 5.3          |        3.7  |         1.5  |        0.2  |     setosa\n",
    "| 5.8          |        2.7  |         5.1  |        1.9  |  virginica\n",
    "| 5.5          |        2.4  |         3.7  |        1.0  | versicolor\n",
    "| 6.7          |        3.0  |         5.2  |        2.3  |  virginica\n",
    "\n",
    "A data frame is a collection of named columns. Each column has the same length, and all entries in a column have the same type, though different columns may have different types. It is basically the same as a table in a relational database (except that you should think of scientific data tables as logs of observations, which means that the UPDATE and DELETE database operations are irrelevant, and issues about database consistency are irrelevant)."
   ]
  },
  {
   "cell_type": "markdown",
   "metadata": {},
   "source": [
    "In Python, we have some options about how to store data frames. A simple choice, which we'll use in this notebook, is to store them as dictionaries of `numpy` vectors, e.g."
   ]
  },
  {
   "cell_type": "code",
   "execution_count": null,
   "metadata": {
    "collapsed": true
   },
   "outputs": [],
   "source": [
    "iris = {'Sepal.Length': np.array([7.7, 5.3, 5.8, 5.5, 6.7]),\n",
    "        'Sepal.Width': np.array([3.8, 3.7, 2.7, 2.4, 3.0]),\n",
    "        'Petal.Length': np.array([6.7, 1.5, 5.1, 3.7, 5.2]),\n",
    "        'Petal.Width': np.array([2.2, 0.2, 1.9, 1.0, 2.3]),\n",
    "        'Species': np.array(['virginica', 'setosa', 'virginica', 'versicolor', 'verginica'])}"
   ]
  },
  {
   "cell_type": "markdown",
   "metadata": {},
   "source": [
    "For example, to extract the rows with `virginica` records,"
   ]
  },
  {
   "cell_type": "code",
   "execution_count": null,
   "metadata": {
    "collapsed": true
   },
   "outputs": [],
   "source": [
    "i = iris['Species'] == 'virginica'\n",
    "iris_virginica = {k:v[i] for k,v in iris.items()}"
   ]
  },
  {
   "cell_type": "markdown",
   "metadata": {},
   "source": [
    "### Special classes for data frames\n",
    "\n",
    "In _Object Oriented Programming_, you learnt about modularity and encapsulation. Why not design a class to hold data frames? It could provide convenient methods to extract rows etc., and it could incorporate checks e.g. to make sure we don't accidentally set some columns to have different lengths. There are indeed such classes, such as [`pandas.DataFrame`](https://pandas.pydata.org/pandas-docs/stable/generated/pandas.DataFrame.html) and `numpy`'s [structured arrays](https://docs.scipy.org/doc/numpy/user/basics.rec.html#module-numpy.doc.structured_arrays). (The difference between structured arrays and regular arrays is that in a structured array each column can have a different type.)\n",
    "\n",
    "You may also have gathered from _Object Oriented Programming_ that good classes are hard to design. In my opinion, neither `pandas.DataFrame` nor structured arrays are mature designs, and by the time you graduate there will probably be something better. That's why, for this course, we will mostly use plain Python dictionaries. There are however three caveats.\n",
    "\n",
    "* Data import and export has lots of fiddly corner cases. Even printing a data frame takes a surprisingly large amount of code to do well. For these purposes we'll use `pandas.DataFrame`. It also lets you access rows using the standard Python slice notation, e.g. `df[:5]` to get the first five rows.\n",
    "\n",
    "* For fast numerical computation, and concise code, `numpy` is best as we saw in &sect;2. A number of useful `numpy` routines work on structured arrays. \n",
    "\n",
    "* It's nice to keep columns in order, for nice presentation. Python has a special class `collections.OrderedDict` which is like a dictionary except it preserves the order of the keys. When we care about column order, we'll use this rather than plain dictionaries.\n",
    "\n",
    "Here's another take on the iris dataset:"
   ]
  },
  {
   "cell_type": "code",
   "execution_count": 112,
   "metadata": {},
   "outputs": [
    {
     "data": {
      "text/html": [
       "<div>\n",
       "<style>\n",
       "    .dataframe thead tr:only-child th {\n",
       "        text-align: right;\n",
       "    }\n",
       "\n",
       "    .dataframe thead th {\n",
       "        text-align: left;\n",
       "    }\n",
       "\n",
       "    .dataframe tbody tr th {\n",
       "        vertical-align: top;\n",
       "    }\n",
       "</style>\n",
       "<table border=\"1\" class=\"dataframe\">\n",
       "  <thead>\n",
       "    <tr style=\"text-align: right;\">\n",
       "      <th></th>\n",
       "      <th>Sepal.Length</th>\n",
       "      <th>Sepal.Width</th>\n",
       "      <th>Petal.Length</th>\n",
       "      <th>Petal.Width</th>\n",
       "      <th>Species</th>\n",
       "    </tr>\n",
       "  </thead>\n",
       "  <tbody>\n",
       "    <tr>\n",
       "      <th>0</th>\n",
       "      <td>7.7</td>\n",
       "      <td>3.8</td>\n",
       "      <td>6.7</td>\n",
       "      <td>2.2</td>\n",
       "      <td>virginica</td>\n",
       "    </tr>\n",
       "    <tr>\n",
       "      <th>1</th>\n",
       "      <td>5.3</td>\n",
       "      <td>3.7</td>\n",
       "      <td>1.5</td>\n",
       "      <td>0.2</td>\n",
       "      <td>setosa</td>\n",
       "    </tr>\n",
       "    <tr>\n",
       "      <th>2</th>\n",
       "      <td>5.8</td>\n",
       "      <td>2.7</td>\n",
       "      <td>5.1</td>\n",
       "      <td>1.9</td>\n",
       "      <td>virginica</td>\n",
       "    </tr>\n",
       "    <tr>\n",
       "      <th>3</th>\n",
       "      <td>5.5</td>\n",
       "      <td>2.4</td>\n",
       "      <td>3.7</td>\n",
       "      <td>1.0</td>\n",
       "      <td>versicolor</td>\n",
       "    </tr>\n",
       "    <tr>\n",
       "      <th>4</th>\n",
       "      <td>6.7</td>\n",
       "      <td>3.0</td>\n",
       "      <td>5.2</td>\n",
       "      <td>2.3</td>\n",
       "      <td>verginica</td>\n",
       "    </tr>\n",
       "  </tbody>\n",
       "</table>\n",
       "</div>"
      ],
      "text/plain": [
       "   Sepal.Length  Sepal.Width  Petal.Length  Petal.Width     Species\n",
       "0           7.7          3.8           6.7          2.2   virginica\n",
       "1           5.3          3.7           1.5          0.2      setosa\n",
       "2           5.8          2.7           5.1          1.9   virginica\n",
       "3           5.5          2.4           3.7          1.0  versicolor\n",
       "4           6.7          3.0           5.2          2.3   verginica"
      ]
     },
     "execution_count": 112,
     "metadata": {},
     "output_type": "execute_result"
    }
   ],
   "source": [
    "# Store data frames as OrderedDict, so we can specify the order of the columns\n",
    "iris = OrderedDict([('Sepal.Length', np.array([7.7, 5.3, 5.8, 5.5, 6.7])),\n",
    "                    ('Sepal.Width', np.array([3.8, 3.7, 2.7, 2.4, 3.0])),\n",
    "                    ('Petal.Length', np.array([6.7, 1.5, 5.1, 3.7, 5.2])),\n",
    "                    ('Petal.Width', np.array([2.2, 0.2, 1.9, 1.0, 2.3])),\n",
    "                    ('Species', np.array(['virginica', 'setosa', 'virginica', 'versicolor', 'verginica']))])\n",
    "\n",
    "# Convert it to a pandas.DataFrame for nice printing\n",
    "pandas.DataFrame(iris)"
   ]
  },
  {
   "cell_type": "markdown",
   "metadata": {},
   "source": [
    "## 3.1 Importing and exporting data"
   ]
  },
  {
   "cell_type": "markdown",
   "metadata": {},
   "source": [
    "When your data is a very simple comma-separated value (CSV) file then it's very easy to import. A CSV file looks like this:\n",
    "```\n",
    "\"Sepal.Length\",\"Sepal.Width\",\"Petal.Length\",\"Petal.Width\",\"Species\"\n",
    "5.1,3.5,1.4,0.2,\"setosa\"\n",
    "4.9,3,1.4,0.2,\"setosa\"\n",
    "4.7,3.2,1.3,0.2,\"setosa\"\n",
    "4.6,3.1,1.5,0.2,\"setosa\"\n",
    "5,3.6,1.4,0.2,\"setosa\"\n",
    "```\n",
    "i.e. a header line, then one line per row of the data frame, values separated by commas.\n",
    "Here is code to import a simple CSV file:"
   ]
  },
  {
   "cell_type": "code",
   "execution_count": null,
   "metadata": {
    "collapsed": true
   },
   "outputs": [],
   "source": [
    "df = pandas.read_csv('data/iris.csv')         # this returns a pandas.DataFrame\n",
    "df = {col:df[col].values for col in df}       # (optional) convert it to dict of vectors"
   ]
  },
  {
   "cell_type": "markdown",
   "metadata": {},
   "source": [
    "You can also use `pandas.read_csv` to import data stored on a web server. The following code uses Python's\n",
    "`with` syntax, which is useful for files and similar objects that need to be closed/released after we've finished with them, to avoid memory leaks. It's equivalent to calling `f=urlopen(my_url)`, then running the other commands, then calling `f.close()`. Here we're loading a CSV from Azure Blob Storage, a convenient place to store files online."
   ]
  },
  {
   "cell_type": "code",
   "execution_count": null,
   "metadata": {
    "collapsed": true
   },
   "outputs": [],
   "source": [
    "import urllib.request                         # standard library for web requests\n",
    "my_url = \"https://teachingfiles.blob.core.windows.net/scicomp/flood.csv\"\n",
    "with urllib.request.urlopen(my_url) as f:\n",
    "    df = pandas.read_csv(f)\n",
    "    df = {col:df[col].values for col in df}\n",
    "pandas.DataFrame(df)[:5]                      # show the first 5 rows"
   ]
  },
  {
   "cell_type": "markdown",
   "metadata": {},
   "source": [
    "**Exercise.** Created an OrderedDict instead of a dictionary."
   ]
  },
  {
   "cell_type": "markdown",
   "metadata": {},
   "source": [
    "If your file is nearly a CSV but has some quirks such as comments or a missing header row, experiment with the options in [`pandas.read_csv`](https://pandas.pydata.org/pandas-docs/stable/generated/pandas.read_csv.html) or [`pandas.read_table`](https://pandas.pydata.org/pandas-docs/stable/generated/pandas.read_table.html). For extreme quirks you may need to use the raw Python [`csv.reader`](https://docs.python.org/3/library/csv.html#csv.reader).\n",
    "\n",
    "To write a CSV file, it's easiest to use `pandas.DataFrame.to_csv()`. \n",
    "In Azure Notebooks, use the Data | Download menu to download the CSV."
   ]
  },
  {
   "cell_type": "code",
   "execution_count": null,
   "metadata": {
    "collapsed": true
   },
   "outputs": [],
   "source": [
    "# Convert a dictionary of vectors into pandas.DataFrame\n",
    "x = pandas.DataFrame(df)\n",
    "# Write it to a file. Pandas likes to add a column with row numbers, which index=False suppresses.\n",
    "x.to_csv('data/temp.csv', index=False)"
   ]
  },
  {
   "cell_type": "markdown",
   "metadata": {},
   "source": [
    "In my experience, around 75% of the time you spend working with data will be fighting to import it and clean it up. For the most part this is just general-purpose programming, but there are a few library routines that will save you from reinventing the wheel. See\n",
    "[&sect;A. Data import and cleanup](A.%20Data%20import%20and%20cleanup.ipynb) for a collection of recipes for\n",
    "\n",
    "* [reading from a URL](A.%20Data%20import%20and%20cleanup.ipynb#readurl)\n",
    "* [parsing a log file using regular expressions](A.%20Data%20import%20and%20cleanup.ipynb#regexp)\n",
    "* [reading JSON from a web service](A.%20Data%20import%20and%20cleanup.ipynb#json)\n",
    "* [scraping a website with XPath](A.%20Data%20import%20and%20cleanup.ipynb#xpath)\n",
    "* [reading from an SQL database](A.%20Data%20import%20and%20cleanup.ipynb#sql)"
   ]
  },
  {
   "cell_type": "markdown",
   "metadata": {},
   "source": [
    "## 3.2 Simple data handling\n",
    "\n",
    "* summary(data.frame)\n",
    "* * numeric: quantiles, histogram\n",
    "* * factor: tabulation, bar chart\n",
    "* cross tabulation, aggregation, facets\n",
    "* joining: per-station summaries\n",
    "* pivotting"
   ]
  },
  {
   "cell_type": "code",
   "execution_count": 2,
   "metadata": {
    "collapsed": true
   },
   "outputs": [],
   "source": [
    "import urllib.request\n",
    "my_url = \"https://teachingfiles.blob.core.windows.net/scicomp/flood.csv\"\n",
    "with urllib.request.urlopen(my_url) as f:\n",
    "    flood = pandas.read_csv(f)\n",
    "    flood = OrderedDict((k, flood[k].values) for k in flood)"
   ]
  },
  {
   "cell_type": "markdown",
   "metadata": {},
   "source": [
    "View some rows"
   ]
  },
  {
   "cell_type": "code",
   "execution_count": 6,
   "metadata": {},
   "outputs": [
    {
     "data": {
      "text/html": [
       "<div>\n",
       "<style>\n",
       "    .dataframe thead tr:only-child th {\n",
       "        text-align: right;\n",
       "    }\n",
       "\n",
       "    .dataframe thead th {\n",
       "        text-align: left;\n",
       "    }\n",
       "\n",
       "    .dataframe tbody tr th {\n",
       "        vertical-align: top;\n",
       "    }\n",
       "</style>\n",
       "<table border=\"1\" class=\"dataframe\">\n",
       "  <thead>\n",
       "    <tr style=\"text-align: right;\">\n",
       "      <th></th>\n",
       "      <th>label</th>\n",
       "      <th>id</th>\n",
       "      <th>lat</th>\n",
       "      <th>lng</th>\n",
       "      <th>town</th>\n",
       "      <th>river</th>\n",
       "      <th>measure_id</th>\n",
       "      <th>qualifier</th>\n",
       "      <th>parameter</th>\n",
       "      <th>period</th>\n",
       "      <th>low</th>\n",
       "      <th>high</th>\n",
       "      <th>valuetype</th>\n",
       "      <th>t</th>\n",
       "      <th>value</th>\n",
       "    </tr>\n",
       "  </thead>\n",
       "  <tbody>\n",
       "    <tr>\n",
       "      <th>0</th>\n",
       "      <td>Cambridge Jesus Lock</td>\n",
       "      <td>E60501</td>\n",
       "      <td>52.212835</td>\n",
       "      <td>0.120872</td>\n",
       "      <td>Cambridge</td>\n",
       "      <td>River Cam</td>\n",
       "      <td>1702</td>\n",
       "      <td>Stage</td>\n",
       "      <td>Water Level</td>\n",
       "      <td>900.0</td>\n",
       "      <td>0.637</td>\n",
       "      <td>0.74</td>\n",
       "      <td>instantaneous</td>\n",
       "      <td>2017-08-07T07:00:00Z</td>\n",
       "      <td>0.680</td>\n",
       "    </tr>\n",
       "    <tr>\n",
       "      <th>1</th>\n",
       "      <td>Cambridge Jesus Lock</td>\n",
       "      <td>E60501</td>\n",
       "      <td>52.212835</td>\n",
       "      <td>0.120872</td>\n",
       "      <td>Cambridge</td>\n",
       "      <td>River Cam</td>\n",
       "      <td>1702</td>\n",
       "      <td>Stage</td>\n",
       "      <td>Water Level</td>\n",
       "      <td>900.0</td>\n",
       "      <td>0.637</td>\n",
       "      <td>0.74</td>\n",
       "      <td>instantaneous</td>\n",
       "      <td>2017-08-07T00:45:00Z</td>\n",
       "      <td>0.682</td>\n",
       "    </tr>\n",
       "    <tr>\n",
       "      <th>2</th>\n",
       "      <td>Cambridge Jesus Lock</td>\n",
       "      <td>E60501</td>\n",
       "      <td>52.212835</td>\n",
       "      <td>0.120872</td>\n",
       "      <td>Cambridge</td>\n",
       "      <td>River Cam</td>\n",
       "      <td>1702</td>\n",
       "      <td>Stage</td>\n",
       "      <td>Water Level</td>\n",
       "      <td>900.0</td>\n",
       "      <td>0.637</td>\n",
       "      <td>0.74</td>\n",
       "      <td>instantaneous</td>\n",
       "      <td>2017-08-07T04:00:00Z</td>\n",
       "      <td>0.681</td>\n",
       "    </tr>\n",
       "  </tbody>\n",
       "</table>\n",
       "</div>"
      ],
      "text/plain": [
       "                  label      id        lat       lng       town      river  \\\n",
       "0  Cambridge Jesus Lock  E60501  52.212835  0.120872  Cambridge  River Cam   \n",
       "1  Cambridge Jesus Lock  E60501  52.212835  0.120872  Cambridge  River Cam   \n",
       "2  Cambridge Jesus Lock  E60501  52.212835  0.120872  Cambridge  River Cam   \n",
       "\n",
       "   measure_id qualifier    parameter  period    low  high      valuetype  \\\n",
       "0        1702     Stage  Water Level   900.0  0.637  0.74  instantaneous   \n",
       "1        1702     Stage  Water Level   900.0  0.637  0.74  instantaneous   \n",
       "2        1702     Stage  Water Level   900.0  0.637  0.74  instantaneous   \n",
       "\n",
       "                      t  value  \n",
       "0  2017-08-07T07:00:00Z  0.680  \n",
       "1  2017-08-07T00:45:00Z  0.682  \n",
       "2  2017-08-07T04:00:00Z  0.681  "
      ]
     },
     "execution_count": 6,
     "metadata": {},
     "output_type": "execute_result"
    }
   ],
   "source": [
    "pandas.DataFrame(flood)[:3]"
   ]
  },
  {
   "cell_type": "markdown",
   "metadata": {},
   "source": [
    "## Univariate stats"
   ]
  },
  {
   "cell_type": "code",
   "execution_count": 3,
   "metadata": {
    "collapsed": true
   },
   "outputs": [],
   "source": [
    "import IPython.display\n",
    "class SummaryNumeric(namedtuple('SummaryNumeric', ['min','q25','med','mean','q75','max','nan'])):\n",
    "    def _repr_html_(self):\n",
    "        res = '<pre>'\n",
    "        res += 'min:  {}\\n'.format(self.min)\n",
    "        res += '25%:  {}\\n'.format(self.q25)\n",
    "        res += 'med:  {}\\n'.format(self.med)\n",
    "        res += 'mean: {}\\n'.format(self.mean)\n",
    "        res += '75%:  {}\\n'.format(self.q75)\n",
    "        res += 'max:  {}'.format(self.max)\n",
    "        if self.nan > 0:\n",
    "            res += '\\n(nan): {}'.format(self.nan)\n",
    "        res += '</pre>'\n",
    "        return res\n",
    "class SummaryCategorical(list):\n",
    "    def __init__(self, some_counts, other):\n",
    "        list.__init__(self, some_counts)\n",
    "        self.other = other\n",
    "    def _repr_html_(self):\n",
    "        res = '<pre>'\n",
    "        res += '\\n'.join('{v}: {n}'.format(v=v, n=n) for v,n in self)\n",
    "        if self.other > 0:\n",
    "            res += '\\n(other): {n}'.format(n=self.other)\n",
    "        res += '</pre>'\n",
    "        return res\n",
    "class SummaryTable(dict):\n",
    "    def _repr_html_(self):\n",
    "        res = ''\n",
    "        for colname, details in self.items():\n",
    "            res += '<div style=\"display: inline-block; font-size: 90%; background-color: rgb(240,240,240); margin: 0.5em; padding: 0.2em; vertical-align: top\">'\n",
    "            res += '<strong>' + colname + '</strong>'\n",
    "            res += details._repr_html_()\n",
    "            res += '</div>'\n",
    "        return res\n",
    "def summary(df):\n",
    "    got_dict = isinstance(df, dict)\n",
    "    if not got_dict:\n",
    "        df = {None: df}\n",
    "    res = OrderedDict()\n",
    "    for colname, col in df.items():\n",
    "        if np.issubdtype(col.dtype, np.number):\n",
    "            q = np.nanpercentile(col, q=[0,25,50,75,100])\n",
    "            res[colname] = SummaryNumeric(min=q[0], q25=q[1], med=q[2], q75=q[3], max=q[4],\n",
    "                                          mean = np.nanmean(col),\n",
    "                                          nan = np.count_nonzero(np.isnan(col)))\n",
    "        else:\n",
    "            vs,ns = np.unique(col, return_counts=True)\n",
    "            i = np.argsort(-ns)[:5]\n",
    "            res[colname] = SummaryCategorical(zip(vs[i], ns[i]), max(0, len(col)-sum(ns[i])))\n",
    "    return SummaryTable(res) if got_dict else res[None]"
   ]
  },
  {
   "cell_type": "code",
   "execution_count": 4,
   "metadata": {},
   "outputs": [
    {
     "data": {
      "text/html": [
       "<div style=\"display: inline-block; font-size: 90%; background-color: rgb(240,240,240); margin: 0.5em; padding: 0.2em; vertical-align: top\"><strong>label</strong><pre>Bin Brook: 2665\n",
       "Cam: 2665\n",
       "Weston Bampfylde: 2657\n",
       "Cambridge Baits Bite: 2653\n",
       "Cambridge Jesus Lock: 2653\n",
       "(other): 5262</pre></div><div style=\"display: inline-block; font-size: 90%; background-color: rgb(240,240,240); margin: 0.5em; padding: 0.2em; vertical-align: top\"><strong>id</strong><pre>2514: 2665\n",
       "E19035: 2665\n",
       "52113: 2657\n",
       "E60101: 2653\n",
       "E60501: 2653\n",
       "(other): 5262</pre></div><div style=\"display: inline-block; font-size: 90%; background-color: rgb(240,240,240); margin: 0.5em; padding: 0.2em; vertical-align: top\"><strong>lat</strong><pre>min:  51.023159\n",
       "25%:  51.699985\n",
       "med:  52.134462\n",
       "mean: 51.89014714729183\n",
       "75%:  52.212835\n",
       "max:  52.236542</pre></div><div style=\"display: inline-block; font-size: 90%; background-color: rgb(240,240,240); margin: 0.5em; padding: 0.2em; vertical-align: top\"><strong>lng</strong><pre>min:  -2.565568\n",
       "25%:  -2.362218\n",
       "med:  0.087527\n",
       "mean: -0.9679575010509296\n",
       "75%:  0.141784\n",
       "max:  0.176925</pre></div><div style=\"display: inline-block; font-size: 90%; background-color: rgb(240,240,240); margin: 0.5em; padding: 0.2em; vertical-align: top\"><strong>town</strong><pre>Cambridge: 7963\n",
       "Cam: 2665\n",
       "Weston Bampfylde: 2657\n",
       "Milton: 2653\n",
       "Great Shelford: 2617</pre></div><div style=\"display: inline-block; font-size: 90%; background-color: rgb(240,240,240); margin: 0.5em; padding: 0.2em; vertical-align: top\"><strong>river</strong><pre>River Cam: 15890\n",
       "Bin Brook: 2665</pre></div><div style=\"display: inline-block; font-size: 90%; background-color: rgb(240,240,240); margin: 0.5em; padding: 0.2em; vertical-align: top\"><strong>measure_id</strong><pre>min:  919.0\n",
       "25%:  1455.0\n",
       "med:  1702.0\n",
       "mean: 1584.3469145782808\n",
       "75%:  1792.0\n",
       "max:  1865.0</pre></div><div style=\"display: inline-block; font-size: 90%; background-color: rgb(240,240,240); margin: 0.5em; padding: 0.2em; vertical-align: top\"><strong>qualifier</strong><pre>Stage: 18555</pre></div><div style=\"display: inline-block; font-size: 90%; background-color: rgb(240,240,240); margin: 0.5em; padding: 0.2em; vertical-align: top\"><strong>parameter</strong><pre>Water Level: 18555</pre></div><div style=\"display: inline-block; font-size: 90%; background-color: rgb(240,240,240); margin: 0.5em; padding: 0.2em; vertical-align: top\"><strong>period</strong><pre>min:  900.0\n",
       "25%:  900.0\n",
       "med:  900.0\n",
       "mean: 900.0\n",
       "75%:  900.0\n",
       "max:  900.0</pre></div><div style=\"display: inline-block; font-size: 90%; background-color: rgb(240,240,240); margin: 0.5em; padding: 0.2em; vertical-align: top\"><strong>low</strong><pre>min:  0.026000000000000002\n",
       "25%:  0.057\n",
       "med:  0.141\n",
       "mean: 0.25518598760441935\n",
       "75%:  0.578\n",
       "max:  0.637</pre></div><div style=\"display: inline-block; font-size: 90%; background-color: rgb(240,240,240); margin: 0.5em; padding: 0.2em; vertical-align: top\"><strong>high</strong><pre>min:  0.294\n",
       "25%:  0.368\n",
       "med:  0.6\n",
       "mean: 0.6328276475343573\n",
       "75%:  0.782\n",
       "max:  1.25</pre></div><div style=\"display: inline-block; font-size: 90%; background-color: rgb(240,240,240); margin: 0.5em; padding: 0.2em; vertical-align: top\"><strong>valuetype</strong><pre>instantaneous: 18555</pre></div><div style=\"display: inline-block; font-size: 90%; background-color: rgb(240,240,240); margin: 0.5em; padding: 0.2em; vertical-align: top\"><strong>t</strong><pre>2017-08-07T00:00:00Z: 7\n",
       "2017-08-25T03:15:00Z: 7\n",
       "2017-08-25T03:30:00Z: 7\n",
       "2017-08-25T03:45:00Z: 7\n",
       "2017-08-25T04:00:00Z: 7\n",
       "(other): 18520</pre></div><div style=\"display: inline-block; font-size: 90%; background-color: rgb(240,240,240); margin: 0.5em; padding: 0.2em; vertical-align: top\"><strong>value</strong><pre>min:  -1.3\n",
       "25%:  0.095\n",
       "med:  0.174\n",
       "mean: 0.3147530857543255\n",
       "75%:  0.6679999999999999\n",
       "max:  0.915\n",
       "(nan): 2</pre></div>"
      ],
      "text/plain": [
       "{'high': SummaryNumeric(min=0.29399999999999998, q25=0.36799999999999999, med=0.59999999999999998, mean=0.63282764753435727, q75=0.78200000000000003, max=1.25, nan=0),\n",
       " 'id': [('2514', 2665),\n",
       "  ('E19035', 2665),\n",
       "  ('52113', 2657),\n",
       "  ('E60101', 2653),\n",
       "  ('E60501', 2653)],\n",
       " 'label': [('Bin Brook', 2665),\n",
       "  ('Cam', 2665),\n",
       "  ('Weston Bampfylde', 2657),\n",
       "  ('Cambridge Baits Bite', 2653),\n",
       "  ('Cambridge Jesus Lock', 2653)],\n",
       " 'lat': SummaryNumeric(min=51.023159, q25=51.699984999999998, med=52.134461999999999, mean=51.890147147291827, q75=52.212834999999998, max=52.236542, nan=0),\n",
       " 'lng': SummaryNumeric(min=-2.5655679999999998, q25=-2.3622179999999999, med=0.087526999999999994, mean=-0.96795750105092959, q75=0.14178399999999999, max=0.176925, nan=0),\n",
       " 'low': SummaryNumeric(min=0.026000000000000002, q25=0.057000000000000002, med=0.14099999999999999, mean=0.25518598760441935, q75=0.57799999999999996, max=0.63700000000000001, nan=0),\n",
       " 'measure_id': SummaryNumeric(min=919.0, q25=1455.0, med=1702.0, mean=1584.3469145782808, q75=1792.0, max=1865.0, nan=0),\n",
       " 'parameter': [('Water Level', 18555)],\n",
       " 'period': SummaryNumeric(min=900.0, q25=900.0, med=900.0, mean=900.0, q75=900.0, max=900.0, nan=0),\n",
       " 'qualifier': [('Stage', 18555)],\n",
       " 'river': [('River Cam', 15890), ('Bin Brook', 2665)],\n",
       " 't': [('2017-08-07T00:00:00Z', 7),\n",
       "  ('2017-08-25T03:15:00Z', 7),\n",
       "  ('2017-08-25T03:30:00Z', 7),\n",
       "  ('2017-08-25T03:45:00Z', 7),\n",
       "  ('2017-08-25T04:00:00Z', 7)],\n",
       " 'town': [('Cambridge', 7963),\n",
       "  ('Cam', 2665),\n",
       "  ('Weston Bampfylde', 2657),\n",
       "  ('Milton', 2653),\n",
       "  ('Great Shelford', 2617)],\n",
       " 'value': SummaryNumeric(min=-1.3, q25=0.095000000000000001, med=0.17399999999999999, mean=0.31475308575432548, q75=0.66799999999999993, max=0.91500000000000004, nan=2),\n",
       " 'valuetype': [('instantaneous', 18555)]}"
      ]
     },
     "execution_count": 4,
     "metadata": {},
     "output_type": "execute_result"
    }
   ],
   "source": [
    "summary(flood)"
   ]
  },
  {
   "cell_type": "markdown",
   "metadata": {},
   "source": [
    "Cleanup"
   ]
  },
  {
   "cell_type": "code",
   "execution_count": 104,
   "metadata": {},
   "outputs": [
    {
     "data": {
      "text/html": [
       "<pre>1636: 2665\n",
       "1792: 2665\n",
       "919: 2657\n",
       "1455: 2653\n",
       "1702: 2653\n",
       "(other): 5262</pre>"
      ],
      "text/plain": [
       "[('1636', 2665), ('1792', 2665), ('919', 2657), ('1455', 2653), ('1702', 2653)]"
      ]
     },
     "execution_count": 104,
     "metadata": {},
     "output_type": "execute_result"
    }
   ],
   "source": [
    "flood2 = flood.copy()\n",
    "flood2['measure_id'] = flood2['measure_id'].astype(str)\n",
    "summary(flood2['measure_id'])"
   ]
  },
  {
   "cell_type": "markdown",
   "metadata": {},
   "source": [
    "## Univariate plots"
   ]
  },
  {
   "cell_type": "code",
   "execution_count": 131,
   "metadata": {},
   "outputs": [
    {
     "data": {
      "image/png": "[encoded data removed]",
      "text/plain": [
       "<matplotlib.figure.Figure at 0x7f738f871b38>"
      ]
     },
     "metadata": {},
     "output_type": "display_data"
    }
   ],
   "source": [
    "plt.hist(flood['value'][~np.isnan(flood['value'])], bins=30)\n",
    "plt.ylabel('count')\n",
    "plt.show()"
   ]
  },
  {
   "cell_type": "code",
   "execution_count": null,
   "metadata": {
    "collapsed": true
   },
   "outputs": [],
   "source": [
    "vs, ns = np.unique(df['river'], return_counts=True)\n",
    "xs = np.arange(len(vs))\n",
    "plt.bar(xs, ns, align='center')\n",
    "plt.xticks(xs, vs, rotation=-90)\n",
    "plt.ylabel('count')\n",
    "plt.title('river')\n",
    "plt.show()"
   ]
  },
  {
   "cell_type": "code",
   "execution_count": null,
   "metadata": {
    "collapsed": true
   },
   "outputs": [],
   "source": [
    "vs, ns = np.unique(np.vstack([df['lat'],df['lng']]).T, return_counts=True, axis=0)\n",
    "vs"
   ]
  },
  {
   "cell_type": "code",
   "execution_count": null,
   "metadata": {
    "collapsed": true
   },
   "outputs": [],
   "source": [
    "ns"
   ]
  },
  {
   "cell_type": "code",
   "execution_count": null,
   "metadata": {
    "collapsed": true
   },
   "outputs": [],
   "source": [
    "!pip3 install gmplot -q\n",
    "import gmplot\n",
    "import tempfile, webbrowser"
   ]
  },
  {
   "cell_type": "code",
   "execution_count": null,
   "metadata": {
    "collapsed": true
   },
   "outputs": [],
   "source": [
    "gmap = gmplot.GoogleMapPlotter(52.212, 0.1208, 16)\n",
    "for x,y,r in zip(vs[:,0],vs[:,1],ns):\n",
    "    gmap.circle(x,y,r/10)\n",
    "\n",
    "with tempfile.NamedTemporaryFile(delete=False, suffix='.html') as f:\n",
    "    gmap.draw(f.name)\n",
    "    webbrowser.open('file://' + f.name)"
   ]
  },
  {
   "cell_type": "markdown",
   "metadata": {},
   "source": [
    "### Cuts"
   ]
  },
  {
   "cell_type": "code",
   "execution_count": 105,
   "metadata": {},
   "outputs": [
    {
     "data": {
      "text/html": [
       "<pre>min:  -2.310104529616725\n",
       "25%:  0.027953110910730387\n",
       "med:  0.2765273311897107\n",
       "mean: 0.30981046729285844\n",
       "75%:  0.43729903536977494\n",
       "max:  1.6519607843137254\n",
       "(nan): 2</pre>"
      ],
      "text/plain": [
       "SummaryNumeric(min=-2.3101045296167251, q25=0.027953110910730387, med=0.27652733118971068, mean=0.30981046729285844, q75=0.43729903536977494, max=1.6519607843137254, nan=2)"
      ]
     },
     "execution_count": 105,
     "metadata": {},
     "output_type": "execute_result"
    }
   ],
   "source": [
    "x = (flood['value'] - flood['low']) / (flood['high'] - flood['low'])\n",
    "summary(x)"
   ]
  },
  {
   "cell_type": "code",
   "execution_count": 106,
   "metadata": {},
   "outputs": [
    {
     "data": {
      "text/plain": [
       "array(['2', '2'],\n",
       "      dtype='<U21')"
      ]
     },
     "execution_count": 106,
     "metadata": {},
     "output_type": "execute_result"
    }
   ],
   "source": [
    "y = np.digitize(x, bins=np.nanpercentile(x, [100/3, 200/3])).astype(str)\n",
    "y[np.isnan(x)]"
   ]
  },
  {
   "cell_type": "code",
   "execution_count": 111,
   "metadata": {},
   "outputs": [
    {
     "data": {
      "text/html": [
       "<pre>med: 6244\n",
       "high: 6190\n",
       "low: 6119\n",
       "nan: 2</pre>"
      ],
      "text/plain": [
       "[('med', 6244), ('high', 6190), ('low', 6119), ('nan', 2)]"
      ]
     },
     "execution_count": 111,
     "metadata": {},
     "output_type": "execute_result"
    }
   ],
   "source": [
    "def cut(x, breaks, labels=None):\n",
    "    if not isinstance(breaks, list):\n",
    "        breaks = np.nanpercentile(x, [100/(breaks+1)*i for i in range(1, (breaks+1))])\n",
    "    if len(np.unique(breaks)) < len(breaks):\n",
    "        raise Exception(\"Breaks are not unique\")\n",
    "    y = np.digitize(x, breaks)\n",
    "    y[np.isnan(x)] = -1\n",
    "    if labels is None:\n",
    "        breaks2 = ['-inf'] + different_digits(breaks) + ['inf']\n",
    "        labels = ['{}{}, {})'.format('(' if i==0 else '[',l,h) for i,(l,h) in enumerate(zip(breaks2[:-1], breaks2[1:]))]\n",
    "    else:\n",
    "        if len(labels) != len(breaks) + 1:\n",
    "            raise Exception('labels should have length {}, not {}'.format(len(labels), len(breaks)+1))\n",
    "    return np.take(['nan'] + labels, y+1)\n",
    "summary(cut(x, breaks=2, labels=['low','med','high']))"
   ]
  },
  {
   "cell_type": "code",
   "execution_count": 38,
   "metadata": {},
   "outputs": [
    {
     "data": {
      "text/plain": [
       "['2.0', '5.0', '10.0']"
      ]
     },
     "execution_count": 38,
     "metadata": {},
     "output_type": "execute_result"
    }
   ],
   "source": [
    "def different_digits(x, digits=None):\n",
    "    if digits is None:\n",
    "        digits = max(-math.floor(math.log(min(x), 10)) + 1, 0)\n",
    "    for d in range(digits, max(12, digits)):\n",
    "        fmt = '{:.' + str(d) + 'f}'\n",
    "        s = [fmt.format(xx) for xx in x]\n",
    "        if len(set(s)) == len(s):\n",
    "            return s\n",
    "    return [str(xx) for xx in x]\n",
    "different_digits([2,5,10])"
   ]
  },
  {
   "cell_type": "markdown",
   "metadata": {},
   "source": [
    "## Numerical aggregation. Cross tabs. Facet plots."
   ]
  },
  {
   "cell_type": "markdown",
   "metadata": {},
   "source": [
    "For each measure: number of readings, mean and std.dev"
   ]
  },
  {
   "cell_type": "code",
   "execution_count": null,
   "metadata": {
    "collapsed": true
   },
   "outputs": [],
   "source": [
    "res = {'measure_id':[], 'n':[], 'mean':[], 'sd':[]}\n",
    "for m in np.unique(df['measure_id']):\n",
    "    i = df['measure_id'] == m\n",
    "    # Exercise: a better way to get indexes: https://stackoverflow.com/a/23271510\n",
    "    res['measure_id'].append(m)\n",
    "    res['n'].append(np.count_nonzero(i))\n",
    "    res['mean'].append(np.nanmean(df['value'][i]))\n",
    "    res['sd'].append(np.nanstd(df['value'][i]))\n",
    "\n",
    "xs = np.arange(len(res['measure_id']))\n",
    "plt.bar(xs, res['mean'], align='center')\n",
    "plt.errorbar(xs, res['mean'], yerr=res['sd'], linestyle='None', ecolor='k')\n",
    "plt.xticks(xs, res['measure_id'], rotation=-90)\n",
    "plt.ylabel('value')\n",
    "plt.xlabel('measure_id')\n",
    "plt.show()"
   ]
  },
  {
   "cell_type": "markdown",
   "metadata": {},
   "source": [
    "### Cross tabs"
   ]
  },
  {
   "cell_type": "code",
   "execution_count": 120,
   "metadata": {
    "collapsed": true
   },
   "outputs": [],
   "source": [
    "def crosstab(df, cols, countlabel='n'):\n",
    "    x = np.rec.fromarrays([df[col] for col in cols], names=cols)\n",
    "    vs, ns = np.unique(x, return_counts=True)\n",
    "    x = OrderedDict((k,vs[k]) for k in vs.dtype.names)\n",
    "    if countlabel is not None:\n",
    "        x[countlabel] = ns\n",
    "    return x"
   ]
  },
  {
   "cell_type": "code",
   "execution_count": 122,
   "metadata": {},
   "outputs": [
    {
     "data": {
      "text/html": [
       "<div>\n",
       "<style>\n",
       "    .dataframe thead tr:only-child th {\n",
       "        text-align: right;\n",
       "    }\n",
       "\n",
       "    .dataframe thead th {\n",
       "        text-align: left;\n",
       "    }\n",
       "\n",
       "    .dataframe tbody tr th {\n",
       "        vertical-align: top;\n",
       "    }\n",
       "</style>\n",
       "<table border=\"1\" class=\"dataframe\">\n",
       "  <thead>\n",
       "    <tr style=\"text-align: right;\">\n",
       "      <th></th>\n",
       "      <th>label</th>\n",
       "      <th>measure_id</th>\n",
       "      <th>n</th>\n",
       "    </tr>\n",
       "  </thead>\n",
       "  <tbody>\n",
       "    <tr>\n",
       "      <th>0</th>\n",
       "      <td>Bin Brook</td>\n",
       "      <td>1792</td>\n",
       "      <td>2665</td>\n",
       "    </tr>\n",
       "    <tr>\n",
       "      <th>1</th>\n",
       "      <td>Cam</td>\n",
       "      <td>1636</td>\n",
       "      <td>2665</td>\n",
       "    </tr>\n",
       "    <tr>\n",
       "      <th>2</th>\n",
       "      <td>Cambridge</td>\n",
       "      <td>1865</td>\n",
       "      <td>2645</td>\n",
       "    </tr>\n",
       "    <tr>\n",
       "      <th>3</th>\n",
       "      <td>Cambridge Baits Bite</td>\n",
       "      <td>1455</td>\n",
       "      <td>2653</td>\n",
       "    </tr>\n",
       "    <tr>\n",
       "      <th>4</th>\n",
       "      <td>Cambridge Jesus Lock</td>\n",
       "      <td>1702</td>\n",
       "      <td>2653</td>\n",
       "    </tr>\n",
       "    <tr>\n",
       "      <th>5</th>\n",
       "      <td>Dernford</td>\n",
       "      <td>1724</td>\n",
       "      <td>2617</td>\n",
       "    </tr>\n",
       "    <tr>\n",
       "      <th>6</th>\n",
       "      <td>Weston Bampfylde</td>\n",
       "      <td>919</td>\n",
       "      <td>2657</td>\n",
       "    </tr>\n",
       "  </tbody>\n",
       "</table>\n",
       "</div>"
      ],
      "text/plain": [
       "                  label  measure_id     n\n",
       "0             Bin Brook        1792  2665\n",
       "1                   Cam        1636  2665\n",
       "2             Cambridge        1865  2645\n",
       "3  Cambridge Baits Bite        1455  2653\n",
       "4  Cambridge Jesus Lock        1702  2653\n",
       "5              Dernford        1724  2617\n",
       "6      Weston Bampfylde         919  2657"
      ]
     },
     "execution_count": 122,
     "metadata": {},
     "output_type": "execute_result"
    }
   ],
   "source": [
    "pandas.DataFrame(crosstab(flood, ['label','measure_id']))"
   ]
  },
  {
   "cell_type": "code",
   "execution_count": 123,
   "metadata": {},
   "outputs": [
    {
     "data": {
      "text/html": [
       "<div>\n",
       "<style>\n",
       "    .dataframe thead tr:only-child th {\n",
       "        text-align: right;\n",
       "    }\n",
       "\n",
       "    .dataframe thead th {\n",
       "        text-align: left;\n",
       "    }\n",
       "\n",
       "    .dataframe tbody tr th {\n",
       "        vertical-align: top;\n",
       "    }\n",
       "</style>\n",
       "<table border=\"1\" class=\"dataframe\">\n",
       "  <thead>\n",
       "    <tr style=\"text-align: right;\">\n",
       "      <th></th>\n",
       "      <th>town</th>\n",
       "      <th>river</th>\n",
       "      <th>num_measures</th>\n",
       "    </tr>\n",
       "  </thead>\n",
       "  <tbody>\n",
       "    <tr>\n",
       "      <th>0</th>\n",
       "      <td>Cam</td>\n",
       "      <td>River Cam</td>\n",
       "      <td>1</td>\n",
       "    </tr>\n",
       "    <tr>\n",
       "      <th>1</th>\n",
       "      <td>Cambridge</td>\n",
       "      <td>Bin Brook</td>\n",
       "      <td>1</td>\n",
       "    </tr>\n",
       "    <tr>\n",
       "      <th>2</th>\n",
       "      <td>Cambridge</td>\n",
       "      <td>River Cam</td>\n",
       "      <td>2</td>\n",
       "    </tr>\n",
       "    <tr>\n",
       "      <th>3</th>\n",
       "      <td>Great Shelford</td>\n",
       "      <td>River Cam</td>\n",
       "      <td>1</td>\n",
       "    </tr>\n",
       "    <tr>\n",
       "      <th>4</th>\n",
       "      <td>Milton</td>\n",
       "      <td>River Cam</td>\n",
       "      <td>1</td>\n",
       "    </tr>\n",
       "    <tr>\n",
       "      <th>5</th>\n",
       "      <td>Weston Bampfylde</td>\n",
       "      <td>River Cam</td>\n",
       "      <td>1</td>\n",
       "    </tr>\n",
       "  </tbody>\n",
       "</table>\n",
       "</div>"
      ],
      "text/plain": [
       "               town      river  num_measures\n",
       "0               Cam  River Cam             1\n",
       "1         Cambridge  Bin Brook             1\n",
       "2         Cambridge  River Cam             2\n",
       "3    Great Shelford  River Cam             1\n",
       "4            Milton  River Cam             1\n",
       "5  Weston Bampfylde  River Cam             1"
      ]
     },
     "execution_count": 123,
     "metadata": {},
     "output_type": "execute_result"
    }
   ],
   "source": [
    "# Question. Is there one label/measure_id per town:river?\n",
    "x = crosstab(flood, ['town','river','measure_id'])\n",
    "y = crosstab(x, ['town','river'], countlabel='num_measures')\n",
    "pandas.DataFrame(y)"
   ]
  },
  {
   "cell_type": "markdown",
   "metadata": {
    "collapsed": true
   },
   "source": [
    "## Facet plots"
   ]
  },
  {
   "cell_type": "markdown",
   "metadata": {},
   "source": [
    "Time series, one line per station"
   ]
  },
  {
   "cell_type": "code",
   "execution_count": 22,
   "metadata": {},
   "outputs": [],
   "source": [
    "import datetime, pytz\n",
    "local_tz = pytz.timezone('Europe/London')\n",
    "flood['t2'] = np.array([datetime.datetime.strptime(xx, '%Y-%m-%dT%H:%M:%SZ').replace(tzinfo=pytz.utc).astimezone(local_tz)\n",
    "               for xx in flood['t']])"
   ]
  },
  {
   "cell_type": "code",
   "execution_count": 44,
   "metadata": {},
   "outputs": [
    {
     "data": {
      "image/png": "[encoded data removed]",
      "text/plain": [
       "<matplotlib.figure.Figure at 0x10f7cf940>"
      ]
     },
     "metadata": {},
     "output_type": "display_data"
    }
   ],
   "source": [
    "i = np.argsort(flood['t2'])\n",
    "flood_sorted = {k:v[i] for k,v in flood.items()}\n",
    "labels = np.unique(flood['label'])\n",
    "\n",
    "with matplotlib.rc_context({'figure.figsize': [10,6]}):\n",
    "    fig,ax = plt.subplots()\n",
    "    for lbl in labels:\n",
    "        i = flood_sorted['label'] == lbl\n",
    "        ax.plot(flood_sorted['t2'][i], flood_sorted['value'][i], linestyle='-', label=lbl)\n",
    "    ax.legend()\n",
    "    ax.xaxis.set_major_locator(matplotlib.dates.WeekdayLocator(byweekday=matplotlib.dates.MO, tz=local_tz))\n",
    "    ax.xaxis.set_minor_locator(matplotlib.dates.DayLocator(tz=local_tz))\n",
    "    ax.xaxis.set_major_formatter(matplotlib.dates.DateFormatter('%a %d %b'))\n",
    "    ax.grid(True, axis='x', color='0.8')\n",
    "    fig.autofmt_xdate(bottom=0.2, rotation=-30, ha='left')\n",
    "\n",
    "# https://matplotlib.org/examples/api/date_demo.html"
   ]
  },
  {
   "cell_type": "code",
   "execution_count": 145,
   "metadata": {},
   "outputs": [
    {
     "data": {
      "image/png": "[encoded data removed]",
      "text/plain": [
       "<matplotlib.figure.Figure at 0x7f738f85da90>"
      ]
     },
     "metadata": {},
     "output_type": "display_data"
    }
   ],
   "source": [
    "norm_value = (flood['value'] - flood['low']) / (flood['high'] - flood['low'])\n",
    "\n",
    "with matplotlib.rc_context({'figure.figsize': [10,6]}):\n",
    "    fig, axes = plt.subplots(ncols=3, nrows=3, sharex=True)\n",
    "    for i,lbl in enumerate(np.unique(flood['label'])):\n",
    "        ax = axes[i % len(axes), i // len(axes)]\n",
    "        x = norm_value[flood['label'] == lbl]\n",
    "        x = x[~np.isnan(x)]\n",
    "        ax.hist(x, bins=20)\n",
    "        ax.set_title(lbl)"
   ]
  },
  {
   "cell_type": "code",
   "execution_count": 199,
   "metadata": {},
   "outputs": [
    {
     "data": {
      "image/png": "[encoded data removed]",
      "text/plain": [
       "<matplotlib.figure.Figure at 0x7f738f01fd30>"
      ]
     },
     "metadata": {},
     "output_type": "display_data"
    }
   ],
   "source": [
    "labels = np.unique(flood['label'])\n",
    "norm_value = (flood['value'] - flood['low']) / (flood['high'] - flood['low'])\n",
    "bins = np.linspace(min(norm_value), max(norm_value), 40)\n",
    "\n",
    "with matplotlib.rc_context({'figure.figsize': [10,6], 'figure.subplot.hspace': 0.3}):\n",
    "    colors = plt.get_cmap('Set2', len(labels))\n",
    "    fig = plt.figure()\n",
    "    ax0 = None\n",
    "    for i,lbl in enumerate(labels):\n",
    "        if ax0 is None:\n",
    "            ax = fig.add_subplot(3, 3, i+1)\n",
    "            ax0 = ax\n",
    "        else:\n",
    "            ax = fig.add_subplot(3, 3, i+1, sharex=ax0)\n",
    "        x = norm_value[flood['label'] == lbl]\n",
    "        x = x[~np.isnan(x)]\n",
    "        ax.hist(x, bins=bins, facecolor=colors(i), edgecolor='0.7')\n",
    "        ax.set_title(lbl)\n",
    "        if i + 3 < len(labels):\n",
    "            ax.get_xaxis().set_visible(False)\n",
    "    fig.suptitle('Normalized value')\n",
    "            \n",
    "# https://matplotlib.org/users/customizing.html\n",
    "# https://matplotlib.org/api/axes_api.html\n",
    "# https://matplotlib.org/users/colormaps.html"
   ]
  },
  {
   "cell_type": "code",
   "execution_count": null,
   "metadata": {
    "collapsed": true
   },
   "outputs": [],
   "source": []
  }
 ],
 "metadata": {
  "kernelspec": {
   "display_name": "Python 3",
   "language": "python",
   "name": "python3"
  },
  "language_info": {
   "codemirror_mode": {
    "name": "ipython",
    "version": 3
   },
   "file_extension": ".py",
   "mimetype": "text/x-python",
   "name": "python",
   "nbconvert_exporter": "python",
   "pygments_lexer": "ipython3",
   "version": "3.6.1"
  }
 },
 "nbformat": 4,
 "nbformat_minor": 2
}
