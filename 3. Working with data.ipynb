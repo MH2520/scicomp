{
 "cells": [
  {
   "cell_type": "markdown",
   "metadata": {},
   "source": [
    "# 3. Working with data"
   ]
  },
  {
   "cell_type": "markdown",
   "metadata": {},
   "source": [
    "## 3.0 Preamble"
   ]
  },
  {
   "cell_type": "markdown",
   "metadata": {},
   "source": [
    "At the top of almost every piece of scientific computing work, we'll import these standard modules."
   ]
  },
  {
   "cell_type": "code",
   "execution_count": 38,
   "metadata": {
    "collapsed": true
   },
   "outputs": [],
   "source": [
    "# Import modules, and give them short aliases so we can write e.g. np.foo rather than numpy.foo\n",
    "import math, random\n",
    "import numpy as np\n",
    "import matplotlib.pyplot as plt\n",
    "import scipy\n",
    "import scipy.optimize\n",
    "import pandas\n",
    "# The next line is a piece of magic, to let plots appear in our Jupyter notebooks\n",
    "%matplotlib inline "
   ]
  },
  {
   "cell_type": "markdown",
   "metadata": {},
   "source": [
    "# 3.1 What data looks like"
   ]
  },
  {
   "cell_type": "markdown",
   "metadata": {},
   "source": [
    "Scientific computing is all about the data. You will almost always work with data in the form of a spreadsheet-like table, often referred to as a _data frame_. For example, here are some rows from the classic [Iris](https://en.wikipedia.org/wiki/Iris_flower_data_set) dataset, introduced by [Ronald Fisher](https://en.wikipedia.org/wiki/Ronald_Fisher) in 1936. Fisher was described as a \"genius who almost single-handedly created the foundations for modern statistical science\".\n",
    "\n",
    "| Sepal.Length | Sepal.Width | Petal.Length | Petal.Width | Species |\n",
    "|----------------------------------------------------------------|\n",
    "| 7.7          |        3.8  |         6.7  |        2.2  |  virginica\n",
    "| 5.3          |        3.7  |         1.5  |        0.2  |     setosa\n",
    "| 5.8          |        2.7  |         5.1  |        1.9  |  virginica\n",
    "| 5.5          |        2.4  |         3.7  |        1.0  | versicolor\n",
    "| 6.7          |        3.0  |         5.2  |        2.3  |  virginica\n",
    "| ...\n",
    "\n",
    "A data frame is a collection of named columns. Each column has the same length, and all entries in a column have the same type, though different columns may have different types. It is basically the same as a table in a relational database (except that you should think of scientific data tables as permanent logs of observations, so that UPDATE and DELETE database operations are irrelevant)."
   ]
  },
  {
   "cell_type": "markdown",
   "metadata": {},
   "source": [
    "In Python, we have some options about how to store data frames. A simple choice, which we'll use in this notebook, is to store them as dictionaries of `numpy` vectors, e.g."
   ]
  },
  {
   "cell_type": "code",
   "execution_count": 3,
   "metadata": {
    "collapsed": true
   },
   "outputs": [],
   "source": [
    "iris = {'Sepal.Length': np.array([7.7, 5.3, 5.8, 5.5, 6.7]),\n",
    "        'Sepal.Width': np.array([3.8, 3.7, 2.7, 2.4, 3.0]),\n",
    "        'Petal.Length': np.array([6.7, 1.5, 5.1, 3.7, 5.2]),\n",
    "        'Petal.Width': np.array([2.2, 0.2, 1.9, 1.0, 2.3]),\n",
    "        'Species': np.array(['verginica', 'setosa', 'virginica', 'versicolor', 'verginica'])}"
   ]
  },
  {
   "cell_type": "markdown",
   "metadata": {},
   "source": [
    "* Why not store it as a `numpy` matrix? Because all elements in a `numpy` matrix have to be the same type.\n",
    "* What's bad about storing data frames as a dictionary of vectors? Because we might accidentally set some columns to have different lengths. Also, because we have to write bothersome code for simple tasks like picking out rows.\n",
    "* Does it have to be `numpy` vectors rather than plain Python lists? Numpy is great for speed, as we learnt in Section 2, but for small datasets or for custom column types it's fine to use lists.\n",
    "Also, `numpy` doesn't have a standard type for categorical data (like `Species` in the example above), which is a bother.\n",
    "* Why not use object-oriented design and invent a class for data frames? That's exactly what the [`pandas`](http://pandas.pydata.org/) module does. It is currently the best library for working with data in Python, widely used inside companies like Google. However, it has idiosyncratic syntax which takes some time to learn. Also, I think it's not yet mature, and by the time you graduate there will probably be something better. If you want to learn data science right now you should learn to use `pandas`."
   ]
  },
  {
   "cell_type": "markdown",
   "metadata": {},
   "source": [
    "## 3.1 Importing and cleaning data\n",
    "In my experience, around 75% of the time you spend working with data will be fighting to import it and clean it up. This depends mostly on general-purpose programming skills, but here are some snippets that may be useful."
   ]
  },
  {
   "cell_type": "markdown",
   "metadata": {},
   "source": [
    "### 3.1.0 Import from a file or file-like thing\n",
    "When your data is a very simple comma-separated value (CSV) file then it's very easy to import. A CSV file looks like this:\n",
    "```\n",
    "\"Sepal.Length\",\"Sepal.Width\",\"Petal.Length\",\"Petal.Width\",\"Species\"\n",
    "5.1,3.5,1.4,0.2,\"setosa\"\n",
    "4.9,3,1.4,0.2,\"setosa\"\n",
    "4.7,3.2,1.3,0.2,\"setosa\"\n",
    "4.6,3.1,1.5,0.2,\"setosa\"\n",
    "5,3.6,1.4,0.2,\"setosa\"\n",
    "```"
   ]
  },
  {
   "cell_type": "code",
   "execution_count": 39,
   "metadata": {},
   "outputs": [],
   "source": [
    "df = pandas.read_csv('data/iris.csv')    # read in CSV file as a pandas.DataFrame\n",
    "df = {col:df[col].values for col in df}  # convert it to a dict of np.array"
   ]
  },
  {
   "cell_type": "markdown",
   "metadata": {},
   "source": [
    "If your file is nearly a CSV but has some quirks such as comments or a missing header row, experiment with the options in [`pandas.read_csv`](https://pandas.pydata.org/pandas-docs/stable/generated/pandas.read_csv.html) or [`pandas.read_table`](https://pandas.pydata.org/pandas-docs/stable/generated/pandas.read_table.html)."
   ]
  },
  {
   "cell_type": "markdown",
   "metadata": {},
   "source": [
    "You can use the same command to read in file-like things, such as files retrieved over the web, or strings."
   ]
  },
  {
   "cell_type": "code",
   "execution_count": null,
   "metadata": {
    "collapsed": true
   },
   "outputs": [],
   "source": [
    "# The same file, fetched over the web\n"
   ]
  },
  {
   "cell_type": "markdown",
   "metadata": {},
   "source": [
    "Sometimes it's useful to be able to read from a string or string-like object as though it were a file. You can use the same command for this:"
   ]
  },
  {
   "cell_type": "code",
   "execution_count": 47,
   "metadata": {},
   "outputs": [],
   "source": [
    "import io\n",
    "f = io.StringIO(\"\"\"\n",
    "\"Sepal.Length\",\"Sepal.Width\",\"Petal.Length\",\"Petal.Width\",\"Species\"\n",
    "5.1,3.5,1.4,0.2,\"setosa\"\n",
    "4.9,3,1.4,0.2,\"setosa\"\n",
    "4.7,3.2,1.3,0.2,\"setosa\"\n",
    "4.6,3.1,1.5,0.2,\"setosa\"\n",
    "5,3.6,1.4,0.2,\"setosa\"\n",
    "\"\"\")\n",
    "df = pandas.read_csv(f)\n",
    "f.close()    # free up the memory used to store the string\n",
    "df = {col:df[col].values for col in df}"
   ]
  },
  {
   "cell_type": "markdown",
   "metadata": {},
   "source": [
    "### 3.1.1 Import from a text log file\n"
   ]
  },
  {
   "cell_type": "markdown",
   "metadata": {},
   "source": [
    "## 3.2 Manipulating data\n",
    "\n",
    "* pandas indexing\n",
    "* new columns etc.\n",
    "* statistics\n",
    "* histograms, plots with error bars"
   ]
  },
  {
   "cell_type": "code",
   "execution_count": null,
   "metadata": {
    "collapsed": true
   },
   "outputs": [],
   "source": []
  },
  {
   "cell_type": "markdown",
   "metadata": {},
   "source": [
    "## 3.4 More plotting\n",
    "\n",
    "* facets"
   ]
  }
 ],
 "metadata": {
  "kernelspec": {
   "display_name": "Python 3",
   "language": "python",
   "name": "python3"
  },
  "language_info": {
   "codemirror_mode": {
    "name": "ipython",
    "version": 3
   },
   "file_extension": ".py",
   "mimetype": "text/x-python",
   "name": "python",
   "nbconvert_exporter": "python",
   "pygments_lexer": "ipython3",
   "version": "3.6.1"
  }
 },
 "nbformat": 4,
 "nbformat_minor": 2
}
