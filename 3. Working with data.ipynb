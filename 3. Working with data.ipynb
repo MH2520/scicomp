{
 "cells": [
  {
   "cell_type": "markdown",
   "metadata": {},
   "source": [
    "# 3. Working with data"
   ]
  },
  {
   "cell_type": "markdown",
   "metadata": {},
   "source": [
    "## 3.0 Preamble\n",
    "\n",
    "At the top of almost every piece of scientific computing work, we'll import these standard modules."
   ]
  },
  {
   "cell_type": "code",
   "execution_count": 164,
   "metadata": {
    "collapsed": true
   },
   "outputs": [],
   "source": [
    "# Import modules, and give them short aliases so we can write e.g. np.foo rather than numpy.foo\n",
    "import math, random\n",
    "import numpy as np\n",
    "import matplotlib.pyplot as plt\n",
    "import scipy\n",
    "import scipy.optimize\n",
    "import pandas\n",
    "from collections import OrderedDict, namedtuple\n",
    "# The next line is a piece of magic, to let plots appear in our Jupyter notebooks\n",
    "%matplotlib inline "
   ]
  },
  {
   "cell_type": "markdown",
   "metadata": {},
   "source": [
    "# 3.1 What data looks like"
   ]
  },
  {
   "cell_type": "markdown",
   "metadata": {},
   "source": [
    "Scientific computing is all about the data. You will almost always work with data in the form of a spreadsheet-like table, often referred to as a _data frame_. \n",
    "Here is a example: a sample of rows from a classic dataset (the [Iris dataset](https://en.wikipedia.org/wiki/Iris_flower_data_set), introduced by [Ronald Fisher](https://en.wikipedia.org/wiki/Ronald_Fisher) in 1936; Fisher was described as a \"genius who almost single-handedly created the foundations for modern statistical science\").\n",
    "\n",
    "| Sepal.Length | Sepal.Width | Petal.Length | Petal.Width | Species |\n",
    "|----------------------------------------------------------------|\n",
    "| 7.7          |        3.8  |         6.7  |        2.2  |  virginica\n",
    "| 5.3          |        3.7  |         1.5  |        0.2  |     setosa\n",
    "| 5.8          |        2.7  |         5.1  |        1.9  |  virginica\n",
    "| 5.5          |        2.4  |         3.7  |        1.0  | versicolor\n",
    "| 6.7          |        3.0  |         5.2  |        2.3  |  virginica\n",
    "\n",
    "A data frame is a collection of named columns. Each column has the same length, and all entries in a column have the same type, though different columns may have different types. It is basically the same as a table in a relational database (except that you should think of scientific data tables as logs of observations, which means that the UPDATE and DELETE database operations are irrelevant, and issues about database consistency are irrelevant)."
   ]
  },
  {
   "cell_type": "markdown",
   "metadata": {},
   "source": [
    "In Python, we have some options about how to store data frames. A simple choice, which we'll use in this notebook, is to store them as dictionaries of `numpy` vectors, e.g."
   ]
  },
  {
   "cell_type": "code",
   "execution_count": null,
   "metadata": {
    "collapsed": true
   },
   "outputs": [],
   "source": [
    "iris = {'Sepal.Length': np.array([7.7, 5.3, 5.8, 5.5, 6.7]),\n",
    "        'Sepal.Width': np.array([3.8, 3.7, 2.7, 2.4, 3.0]),\n",
    "        'Petal.Length': np.array([6.7, 1.5, 5.1, 3.7, 5.2]),\n",
    "        'Petal.Width': np.array([2.2, 0.2, 1.9, 1.0, 2.3]),\n",
    "        'Species': np.array(['virginica', 'setosa', 'virginica', 'versicolor', 'verginica'])}"
   ]
  },
  {
   "cell_type": "markdown",
   "metadata": {},
   "source": [
    "For example, to extract the rows with `virginica` records,"
   ]
  },
  {
   "cell_type": "code",
   "execution_count": null,
   "metadata": {
    "collapsed": true
   },
   "outputs": [],
   "source": [
    "i = iris['Species'] == 'virginica'\n",
    "iris_virginica = {k:v[i] for k,v in iris.items()}"
   ]
  },
  {
   "cell_type": "markdown",
   "metadata": {},
   "source": [
    "### Special classes for data frames\n",
    "\n",
    "* Why not store it as a `numpy` matrix? Because all elements in a `numpy` matrix have to be the same type.\n",
    "* What's bad about storing data frames as a dictionary of vectors? Because we might accidentally set some columns to have different lengths. Also, because we have to write bothersome code for simple tasks like picking out rows.\n",
    "* Does it have to be `numpy` vectors rather than plain Python lists? Numpy is great for speed, as we learnt in Section 2, but for small datasets or for custom column types it's fine to use lists.\n",
    "Also, `numpy` doesn't have a standard type for categorical data (like `Species` in the example above), which is a bother. (It might have helped us catch the spelling mistake in the last row.)\n",
    "* Why not use object-oriented design and invent a class for data frames? That's exactly what [`pandas.DataFrame`](https://pandas.pydata.org/pandas-docs/stable/generated/pandas.DataFrame.html) is. `Pandas` is currently the best library for working with data in Python, widely used inside companies like Google. However, it has idiosyncratic syntax which takes some time to learn. Also, I think it's not yet mature, and by the time you graduate there will probably be something better. If you want to learn data science right now you should learn to use `pandas`.\n",
    "* Are there any other standard classes for data frames? `Numpy` has a [structured array](https://docs.scipy.org/doc/numpy/user/basics.rec.html#module-numpy.doc.structured_arrays) type. It's not as well designed as a `pandas.DataFrame`."
   ]
  },
  {
   "cell_type": "markdown",
   "metadata": {},
   "source": [
    "## 3.1 Importing data"
   ]
  },
  {
   "cell_type": "markdown",
   "metadata": {},
   "source": [
    "When your data is a very simple comma-separated value (CSV) file then it's very easy to import. A CSV file looks like this:\n",
    "```\n",
    "\"Sepal.Length\",\"Sepal.Width\",\"Petal.Length\",\"Petal.Width\",\"Species\"\n",
    "5.1,3.5,1.4,0.2,\"setosa\"\n",
    "4.9,3,1.4,0.2,\"setosa\"\n",
    "4.7,3.2,1.3,0.2,\"setosa\"\n",
    "4.6,3.1,1.5,0.2,\"setosa\"\n",
    "5,3.6,1.4,0.2,\"setosa\"\n",
    "```\n",
    "i.e. a header line, then one line per row of the data frame, values separated by commas.\n",
    "Here is code to import a simple CSV file:"
   ]
  },
  {
   "cell_type": "code",
   "execution_count": 3,
   "metadata": {},
   "outputs": [],
   "source": [
    "df = pandas.read_csv('data/iris.csv')         # this returns a pandas.DataFrame\n",
    "df = {col:df[col].values for col in df}       # (optional) convert it to dict of vectors"
   ]
  },
  {
   "cell_type": "markdown",
   "metadata": {},
   "source": [
    "If your file is nearly a CSV but has some quirks such as comments or a missing header row, experiment with the options in [`pandas.read_csv`](https://pandas.pydata.org/pandas-docs/stable/generated/pandas.read_csv.html) or [`pandas.read_table`](https://pandas.pydata.org/pandas-docs/stable/generated/pandas.read_table.html). For extreme quirks you may need to use the raw Python [`csv.reader`](https://docs.python.org/3/library/csv.html#csv.reader).\n",
    "\n",
    "To write a CSV file, it's easiest to use `pandas.DataFrame.to_csv()`. \n",
    "If we're starting with a dictionary of vectors, we have to create a `pandas.DataFrame` first. Pandas likes to add a column with row numbers, which `index=False` suppresses."
   ]
  },
  {
   "cell_type": "code",
   "execution_count": 7,
   "metadata": {},
   "outputs": [],
   "source": [
    "pandas.DataFrame(df).to_csv('data/temp.csv', index=False)"
   ]
  },
  {
   "cell_type": "markdown",
   "metadata": {},
   "source": [
    "In my experience, around 75% of the time you spend working with data will be fighting to import it and clean it up. For the most part this is just general-purpose programming, but there are a few library routines that will save you from reinventing the wheel. See\n",
    "[&sect;A. Data import and cleanup](A.%20Data%20import%20and%20cleanup.ipynb) for a collection of recipes for\n",
    "\n",
    "* [reading from a URL](A.%20Data%20import%20and%20cleanup.ipynb#readurl)\n",
    "* [parsing a log file using regular expressions](A.%20Data%20import%20and%20cleanup.ipynb#regexp)\n",
    "* [reading JSON from a web service](A.%20Data%20import%20and%20cleanup.ipynb#json)\n",
    "* [scraping a website with XPath](A.%20Data%20import%20and%20cleanup.ipynb#xpath)\n",
    "* [reading from an SQL database](A.%20Data%20import%20and%20cleanup.ipynb#sql)"
   ]
  },
  {
   "cell_type": "markdown",
   "metadata": {},
   "source": [
    "## 3.2 Simple data handling\n",
    "\n",
    "* summary(data.frame)\n",
    "* * numeric: quantiles, histogram\n",
    "* * factor: tabulation, bar chart\n",
    "* cross tabulation, aggregation, facets\n",
    "* joining: per-station summaries\n",
    "* pivotting"
   ]
  },
  {
   "cell_type": "code",
   "execution_count": 174,
   "metadata": {},
   "outputs": [],
   "source": [
    "df = pandas.read_csv('data/flood.csv')\n",
    "df = OrderedDict((k,df[k].values) for k in df)"
   ]
  },
  {
   "cell_type": "markdown",
   "metadata": {},
   "source": [
    "View some rows"
   ]
  },
  {
   "cell_type": "code",
   "execution_count": 175,
   "metadata": {},
   "outputs": [
    {
     "data": {
      "text/html": [
       "<div>\n",
       "<style>\n",
       "    .dataframe thead tr:only-child th {\n",
       "        text-align: right;\n",
       "    }\n",
       "\n",
       "    .dataframe thead th {\n",
       "        text-align: left;\n",
       "    }\n",
       "\n",
       "    .dataframe tbody tr th {\n",
       "        vertical-align: top;\n",
       "    }\n",
       "</style>\n",
       "<table border=\"1\" class=\"dataframe\">\n",
       "  <thead>\n",
       "    <tr style=\"text-align: right;\">\n",
       "      <th></th>\n",
       "      <th>label</th>\n",
       "      <th>id</th>\n",
       "      <th>lat</th>\n",
       "      <th>lng</th>\n",
       "      <th>town</th>\n",
       "      <th>river</th>\n",
       "      <th>measure_id</th>\n",
       "      <th>qualifier</th>\n",
       "      <th>parameter</th>\n",
       "      <th>period</th>\n",
       "      <th>low</th>\n",
       "      <th>high</th>\n",
       "      <th>valuetype</th>\n",
       "      <th>t</th>\n",
       "      <th>value</th>\n",
       "    </tr>\n",
       "  </thead>\n",
       "  <tbody>\n",
       "    <tr>\n",
       "      <th>1</th>\n",
       "      <td>Cambridge Jesus Lock</td>\n",
       "      <td>E60501</td>\n",
       "      <td>52.212835</td>\n",
       "      <td>0.120872</td>\n",
       "      <td>Cambridge</td>\n",
       "      <td>River Cam</td>\n",
       "      <td>1702</td>\n",
       "      <td>Stage</td>\n",
       "      <td>Water Level</td>\n",
       "      <td>900.0</td>\n",
       "      <td>0.637</td>\n",
       "      <td>0.74</td>\n",
       "      <td>instantaneous</td>\n",
       "      <td>2017-08-07T00:45:00Z</td>\n",
       "      <td>0.682</td>\n",
       "    </tr>\n",
       "    <tr>\n",
       "      <th>2</th>\n",
       "      <td>Cambridge Jesus Lock</td>\n",
       "      <td>E60501</td>\n",
       "      <td>52.212835</td>\n",
       "      <td>0.120872</td>\n",
       "      <td>Cambridge</td>\n",
       "      <td>River Cam</td>\n",
       "      <td>1702</td>\n",
       "      <td>Stage</td>\n",
       "      <td>Water Level</td>\n",
       "      <td>900.0</td>\n",
       "      <td>0.637</td>\n",
       "      <td>0.74</td>\n",
       "      <td>instantaneous</td>\n",
       "      <td>2017-08-07T04:00:00Z</td>\n",
       "      <td>0.681</td>\n",
       "    </tr>\n",
       "    <tr>\n",
       "      <th>3</th>\n",
       "      <td>Cambridge Jesus Lock</td>\n",
       "      <td>E60501</td>\n",
       "      <td>52.212835</td>\n",
       "      <td>0.120872</td>\n",
       "      <td>Cambridge</td>\n",
       "      <td>River Cam</td>\n",
       "      <td>1702</td>\n",
       "      <td>Stage</td>\n",
       "      <td>Water Level</td>\n",
       "      <td>900.0</td>\n",
       "      <td>0.637</td>\n",
       "      <td>0.74</td>\n",
       "      <td>instantaneous</td>\n",
       "      <td>2017-08-07T01:00:00Z</td>\n",
       "      <td>0.681</td>\n",
       "    </tr>\n",
       "  </tbody>\n",
       "</table>\n",
       "</div>"
      ],
      "text/plain": [
       "                  label      id        lat       lng       town      river  \\\n",
       "1  Cambridge Jesus Lock  E60501  52.212835  0.120872  Cambridge  River Cam   \n",
       "2  Cambridge Jesus Lock  E60501  52.212835  0.120872  Cambridge  River Cam   \n",
       "3  Cambridge Jesus Lock  E60501  52.212835  0.120872  Cambridge  River Cam   \n",
       "\n",
       "   measure_id qualifier    parameter  period    low  high      valuetype  \\\n",
       "1        1702     Stage  Water Level   900.0  0.637  0.74  instantaneous   \n",
       "2        1702     Stage  Water Level   900.0  0.637  0.74  instantaneous   \n",
       "3        1702     Stage  Water Level   900.0  0.637  0.74  instantaneous   \n",
       "\n",
       "                      t  value  \n",
       "1  2017-08-07T00:45:00Z  0.682  \n",
       "2  2017-08-07T04:00:00Z  0.681  \n",
       "3  2017-08-07T01:00:00Z  0.681  "
      ]
     },
     "execution_count": 175,
     "metadata": {},
     "output_type": "execute_result"
    }
   ],
   "source": [
    "pandas.DataFrame(df)[1:4]"
   ]
  },
  {
   "cell_type": "markdown",
   "metadata": {},
   "source": [
    "## Univariate stats"
   ]
  },
  {
   "cell_type": "code",
   "execution_count": 93,
   "metadata": {
    "collapsed": true
   },
   "outputs": [],
   "source": [
    "def summarize(df):\n",
    "    if not isinstance(df, dict):\n",
    "        df = {'values': df}\n",
    "    for colname, col in df.items():\n",
    "        print(colname)\n",
    "        if np.issubdtype(col.dtype, np.number):\n",
    "            q = np.nanpercentile(col, q=[0,25,50,75,100])\n",
    "            print('  min:  ', q[0])\n",
    "            print('  25%:  ', q[1])\n",
    "            print('  med:  ', q[2])\n",
    "            print('  mean: ', np.nanmean(col))\n",
    "            print('  75%:  ', q[3])\n",
    "            print('  max:  ', q[4])\n",
    "            if any(np.isnan(col)): print('  (nan):', np.count_nonzero(np.isnan(col)))\n",
    "        else:\n",
    "            vs,ns = np.unique(col, return_counts=True)\n",
    "            i = np.argsort(-ns)[:5]\n",
    "            for v,n in zip(vs[i], ns[i]):\n",
    "                print(' ', f'{v}: {n}')\n",
    "            if len(vs) > 5: print('  (other):', len(col)-sum(ns[i]))"
   ]
  },
  {
   "cell_type": "code",
   "execution_count": 148,
   "metadata": {},
   "outputs": [
    {
     "name": "stdout",
     "output_type": "stream",
     "text": [
      "river\n",
      "  River Cam: 15890\n",
      "  Bin Brook: 2665\n",
      "label\n",
      "  Bin Brook: 2665\n",
      "  Cam: 2665\n",
      "  Weston Bampfylde: 2657\n",
      "  Cambridge Baits Bite: 2653\n",
      "  Cambridge Jesus Lock: 2653\n",
      "  (other): 5262\n",
      "id\n",
      "  2514: 2665\n",
      "  E19035: 2665\n",
      "  52113: 2657\n",
      "  E60101: 2653\n",
      "  E60501: 2653\n",
      "  (other): 5262\n",
      "lat\n",
      "  min:   51.023159\n",
      "  25%:   51.699985\n",
      "  med:   52.134462\n",
      "  mean:  51.8901471473\n",
      "  75%:   52.212835\n",
      "  max:   52.236542\n",
      "lng\n",
      "  min:   -2.565568\n",
      "  25%:   -2.362218\n",
      "  med:   0.087527\n",
      "  mean:  -0.967957501051\n",
      "  75%:   0.141784\n",
      "  max:   0.176925\n",
      "measure_id\n",
      "  min:   919.0\n",
      "  25%:   1455.0\n",
      "  med:   1702.0\n",
      "  mean:  1584.34691458\n",
      "  75%:   1792.0\n",
      "  max:   1865.0\n",
      "qualifier\n",
      "  Stage: 18555\n",
      "parameter\n",
      "  Water Level: 18555\n",
      "period\n",
      "  min:   900.0\n",
      "  25%:   900.0\n",
      "  med:   900.0\n",
      "  mean:  900.0\n",
      "  75%:   900.0\n",
      "  max:   900.0\n",
      "low\n",
      "  min:   0.026\n",
      "  25%:   0.057\n",
      "  med:   0.141\n",
      "  mean:  0.255185987604\n",
      "  75%:   0.578\n",
      "  max:   0.637\n",
      "high\n",
      "  min:   0.294\n",
      "  25%:   0.368\n",
      "  med:   0.6\n",
      "  mean:  0.632827647534\n",
      "  75%:   0.782\n",
      "  max:   1.25\n",
      "valuetype\n",
      "  instantaneous: 18555\n",
      "t\n",
      "  2017-08-07T00:00:00Z: 7\n",
      "  2017-08-25T03:15:00Z: 7\n",
      "  2017-08-25T03:30:00Z: 7\n",
      "  2017-08-25T03:45:00Z: 7\n",
      "  2017-08-25T04:00:00Z: 7\n",
      "  (other): 18520\n",
      "value\n",
      "  min:   -1.3\n",
      "  25%:   0.095\n",
      "  med:   0.174\n",
      "  mean:  0.314753085754\n",
      "  75%:   0.668\n",
      "  max:   0.915\n",
      "  (nan): 2\n"
     ]
    }
   ],
   "source": [
    "summarize(df)"
   ]
  },
  {
   "cell_type": "code",
   "execution_count": 98,
   "metadata": {},
   "outputs": [
    {
     "name": "stdout",
     "output_type": "stream",
     "text": [
      "values\n",
      "  1636: 2665\n",
      "  1792: 2665\n",
      "  919: 2657\n",
      "  1455: 2653\n",
      "  1702: 2653\n",
      "  (other): 5262\n"
     ]
    }
   ],
   "source": [
    "df['measure_id'] = df['measure_id'].astype(str)\n",
    "summarize(df['measure_id'])"
   ]
  },
  {
   "cell_type": "markdown",
   "metadata": {},
   "source": [
    "## Univariate plots"
   ]
  },
  {
   "cell_type": "code",
   "execution_count": 101,
   "metadata": {},
   "outputs": [
    {
     "data": {
      "image/png": "[encoded data removed]",
      "text/plain": [
       "<matplotlib.figure.Figure at 0x115f37f28>"
      ]
     },
     "metadata": {},
     "output_type": "display_data"
    }
   ],
   "source": [
    "plt.hist(df['value'][~np.isnan(df['value'])], bins=30)\n",
    "plt.ylabel('count')\n",
    "plt.show()"
   ]
  },
  {
   "cell_type": "code",
   "execution_count": 111,
   "metadata": {},
   "outputs": [
    {
     "data": {
      "image/png": "[encoded data removed]",
      "text/plain": [
       "<matplotlib.figure.Figure at 0x116c5e9e8>"
      ]
     },
     "metadata": {},
     "output_type": "display_data"
    }
   ],
   "source": [
    "vs, ns = np.unique(df['river'], return_counts=True)\n",
    "xs = np.arange(len(vs))\n",
    "plt.bar(xs, ns, align='center')\n",
    "plt.xticks(xs, vs, rotation=-90)\n",
    "plt.ylabel('count')\n",
    "plt.title('river')\n",
    "plt.show()"
   ]
  },
  {
   "cell_type": "code",
   "execution_count": 120,
   "metadata": {},
   "outputs": [
    {
     "data": {
      "text/plain": [
       "array([[ 51.023159,  -2.565568],\n",
       "       [ 51.699985,  -2.360238],\n",
       "       [ 51.730432,  -2.362218],\n",
       "       [ 52.134462,   0.141784],\n",
       "       [ 52.197227,   0.087527],\n",
       "       [ 52.212835,   0.120872],\n",
       "       [ 52.236542,   0.176925]])"
      ]
     },
     "execution_count": 120,
     "metadata": {},
     "output_type": "execute_result"
    }
   ],
   "source": [
    "vs, ns = np.unique(np.vstack([df['lat'],df['lng']]).T, return_counts=True, axis=0)\n",
    "vs"
   ]
  },
  {
   "cell_type": "code",
   "execution_count": 123,
   "metadata": {},
   "outputs": [
    {
     "data": {
      "text/plain": [
       "array([2657, 2665, 2645, 2617, 2665, 2653, 2653])"
      ]
     },
     "execution_count": 123,
     "metadata": {},
     "output_type": "execute_result"
    }
   ],
   "source": [
    "ns"
   ]
  },
  {
   "cell_type": "code",
   "execution_count": 130,
   "metadata": {},
   "outputs": [],
   "source": [
    "!pip3 install gmplot -q\n",
    "import gmplot\n",
    "import tempfile, webbrowser"
   ]
  },
  {
   "cell_type": "code",
   "execution_count": 129,
   "metadata": {},
   "outputs": [],
   "source": [
    "gmap = gmplot.GoogleMapPlotter(52.212, 0.1208, 16)\n",
    "for x,y,r in zip(vs[:,0],vs[:,1],ns):\n",
    "    gmap.circle(x,y,r/10)\n",
    "\n",
    "with tempfile.NamedTemporaryFile(delete=False, suffix='.html') as f:\n",
    "    gmap.draw(f.name)\n",
    "    webbrowser.open('file://' + f.name)"
   ]
  },
  {
   "cell_type": "markdown",
   "metadata": {},
   "source": [
    "### Cuts"
   ]
  },
  {
   "cell_type": "code",
   "execution_count": 183,
   "metadata": {},
   "outputs": [
    {
     "name": "stdout",
     "output_type": "stream",
     "text": [
      "values\n",
      "  min:   -2.31010452962\n",
      "  25%:   0.0279531109107\n",
      "  med:   0.27652733119\n",
      "  mean:  0.309810467293\n",
      "  75%:   0.43729903537\n",
      "  max:   1.65196078431\n",
      "  (nan): 2\n"
     ]
    }
   ],
   "source": [
    "x = (df['value'] - df['low']) / (df['high'] - df['low'])\n",
    "summarize(x)"
   ]
  },
  {
   "cell_type": "code",
   "execution_count": 187,
   "metadata": {},
   "outputs": [
    {
     "name": "stdout",
     "output_type": "stream",
     "text": [
      "values\n",
      "  min:   0.0\n",
      "  25%:   0.0\n",
      "  med:   1.0\n",
      "  mean:  1.00393424953\n",
      "  75%:   2.0\n",
      "  max:   2.0\n"
     ]
    }
   ],
   "source": [
    "y = np.digitize(x, bins=np.nanpercentile(x, [100/3, 200/3]))\n"
   ]
  },
  {
   "cell_type": "markdown",
   "metadata": {},
   "source": [
    "## Numerical aggregation. Cross tabs. Facet plots."
   ]
  },
  {
   "cell_type": "markdown",
   "metadata": {},
   "source": [
    "For each measure: number of readings, mean and std.dev"
   ]
  },
  {
   "cell_type": "code",
   "execution_count": 145,
   "metadata": {},
   "outputs": [
    {
     "data": {
      "image/png": "[encoded data removed]",
      "text/plain": [
       "<matplotlib.figure.Figure at 0x117d69e80>"
      ]
     },
     "metadata": {},
     "output_type": "display_data"
    }
   ],
   "source": [
    "res = {'measure_id':[], 'n':[], 'mean':[], 'sd':[]}\n",
    "for m in np.unique(df['measure_id']):\n",
    "    i = df['measure_id'] == m\n",
    "    # Exercise: a better way to get indexes: https://stackoverflow.com/a/23271510\n",
    "    res['measure_id'].append(m)\n",
    "    res['n'].append(np.count_nonzero(i))\n",
    "    res['mean'].append(np.nanmean(df['value'][i]))\n",
    "    res['sd'].append(np.nanstd(df['value'][i]))\n",
    "\n",
    "xs = np.arange(len(res['measure_id']))\n",
    "plt.bar(xs, res['mean'], align='center')\n",
    "plt.errorbar(xs, res['mean'], yerr=res['sd'], linestyle='None', ecolor='k')\n",
    "plt.xticks(xs, res['measure_id'], rotation=-90)\n",
    "plt.ylabel('value')\n",
    "plt.xlabel('measure_id')\n",
    "plt.show()"
   ]
  },
  {
   "cell_type": "markdown",
   "metadata": {},
   "source": [
    "### Cross tabs"
   ]
  },
  {
   "cell_type": "code",
   "execution_count": 179,
   "metadata": {
    "collapsed": true
   },
   "outputs": [],
   "source": [
    "def crosstab(df, cols, countlabel='n'):\n",
    "    x = np.rec.fromarrays([df[col] for col in cols], names=cols)\n",
    "    vs, ns = np.unique(x, return_counts=True)\n",
    "    x = OrderedDict((k,vs[k]) for k in vs.dtype.names)\n",
    "    x[countlabel] = ns\n",
    "    return x"
   ]
  },
  {
   "cell_type": "code",
   "execution_count": 169,
   "metadata": {},
   "outputs": [
    {
     "data": {
      "text/html": [
       "<div>\n",
       "<style>\n",
       "    .dataframe thead tr:only-child th {\n",
       "        text-align: right;\n",
       "    }\n",
       "\n",
       "    .dataframe thead th {\n",
       "        text-align: left;\n",
       "    }\n",
       "\n",
       "    .dataframe tbody tr th {\n",
       "        vertical-align: top;\n",
       "    }\n",
       "</style>\n",
       "<table border=\"1\" class=\"dataframe\">\n",
       "  <thead>\n",
       "    <tr style=\"text-align: right;\">\n",
       "      <th></th>\n",
       "      <th>label</th>\n",
       "      <th>measure_id</th>\n",
       "      <th>n</th>\n",
       "    </tr>\n",
       "  </thead>\n",
       "  <tbody>\n",
       "    <tr>\n",
       "      <th>0</th>\n",
       "      <td>Bin Brook</td>\n",
       "      <td>1792</td>\n",
       "      <td>2665</td>\n",
       "    </tr>\n",
       "    <tr>\n",
       "      <th>1</th>\n",
       "      <td>Cam</td>\n",
       "      <td>1636</td>\n",
       "      <td>2665</td>\n",
       "    </tr>\n",
       "    <tr>\n",
       "      <th>2</th>\n",
       "      <td>Cambridge</td>\n",
       "      <td>1865</td>\n",
       "      <td>2645</td>\n",
       "    </tr>\n",
       "    <tr>\n",
       "      <th>3</th>\n",
       "      <td>Cambridge Baits Bite</td>\n",
       "      <td>1455</td>\n",
       "      <td>2653</td>\n",
       "    </tr>\n",
       "    <tr>\n",
       "      <th>4</th>\n",
       "      <td>Cambridge Jesus Lock</td>\n",
       "      <td>1702</td>\n",
       "      <td>2653</td>\n",
       "    </tr>\n",
       "    <tr>\n",
       "      <th>5</th>\n",
       "      <td>Dernford</td>\n",
       "      <td>1724</td>\n",
       "      <td>2617</td>\n",
       "    </tr>\n",
       "    <tr>\n",
       "      <th>6</th>\n",
       "      <td>Weston Bampfylde</td>\n",
       "      <td>919</td>\n",
       "      <td>2657</td>\n",
       "    </tr>\n",
       "  </tbody>\n",
       "</table>\n",
       "</div>"
      ],
      "text/plain": [
       "                  label  measure_id     n\n",
       "0             Bin Brook        1792  2665\n",
       "1                   Cam        1636  2665\n",
       "2             Cambridge        1865  2645\n",
       "3  Cambridge Baits Bite        1455  2653\n",
       "4  Cambridge Jesus Lock        1702  2653\n",
       "5              Dernford        1724  2617\n",
       "6      Weston Bampfylde         919  2657"
      ]
     },
     "execution_count": 169,
     "metadata": {},
     "output_type": "execute_result"
    }
   ],
   "source": [
    "pandas.DataFrame(crosstab(df, ['label','measure_id']))"
   ]
  },
  {
   "cell_type": "code",
   "execution_count": 180,
   "metadata": {},
   "outputs": [
    {
     "data": {
      "text/html": [
       "<div>\n",
       "<style>\n",
       "    .dataframe thead tr:only-child th {\n",
       "        text-align: right;\n",
       "    }\n",
       "\n",
       "    .dataframe thead th {\n",
       "        text-align: left;\n",
       "    }\n",
       "\n",
       "    .dataframe tbody tr th {\n",
       "        vertical-align: top;\n",
       "    }\n",
       "</style>\n",
       "<table border=\"1\" class=\"dataframe\">\n",
       "  <thead>\n",
       "    <tr style=\"text-align: right;\">\n",
       "      <th></th>\n",
       "      <th>town</th>\n",
       "      <th>river</th>\n",
       "      <th>num_measures</th>\n",
       "    </tr>\n",
       "  </thead>\n",
       "  <tbody>\n",
       "    <tr>\n",
       "      <th>0</th>\n",
       "      <td>Cam</td>\n",
       "      <td>River Cam</td>\n",
       "      <td>1</td>\n",
       "    </tr>\n",
       "    <tr>\n",
       "      <th>1</th>\n",
       "      <td>Cambridge</td>\n",
       "      <td>Bin Brook</td>\n",
       "      <td>1</td>\n",
       "    </tr>\n",
       "    <tr>\n",
       "      <th>2</th>\n",
       "      <td>Cambridge</td>\n",
       "      <td>River Cam</td>\n",
       "      <td>2</td>\n",
       "    </tr>\n",
       "    <tr>\n",
       "      <th>3</th>\n",
       "      <td>Great Shelford</td>\n",
       "      <td>River Cam</td>\n",
       "      <td>1</td>\n",
       "    </tr>\n",
       "    <tr>\n",
       "      <th>4</th>\n",
       "      <td>Milton</td>\n",
       "      <td>River Cam</td>\n",
       "      <td>1</td>\n",
       "    </tr>\n",
       "    <tr>\n",
       "      <th>5</th>\n",
       "      <td>Weston Bampfylde</td>\n",
       "      <td>River Cam</td>\n",
       "      <td>1</td>\n",
       "    </tr>\n",
       "  </tbody>\n",
       "</table>\n",
       "</div>"
      ],
      "text/plain": [
       "               town      river  num_measures\n",
       "0               Cam  River Cam             1\n",
       "1         Cambridge  Bin Brook             1\n",
       "2         Cambridge  River Cam             2\n",
       "3    Great Shelford  River Cam             1\n",
       "4            Milton  River Cam             1\n",
       "5  Weston Bampfylde  River Cam             1"
      ]
     },
     "execution_count": 180,
     "metadata": {},
     "output_type": "execute_result"
    }
   ],
   "source": [
    "# Question. Is there one label/measure_id per town:river?\n",
    "x = crosstab(df, ['town','river','measure_id'])\n",
    "y = crosstab(x, ['town','river'], countlabel='num_measures')\n",
    "pandas.DataFrame(y)"
   ]
  },
  {
   "cell_type": "code",
   "execution_count": null,
   "metadata": {
    "collapsed": true
   },
   "outputs": [],
   "source": []
  }
 ],
 "metadata": {
  "kernelspec": {
   "display_name": "Python 3",
   "language": "python",
   "name": "python3"
  },
  "language_info": {
   "codemirror_mode": {
    "name": "ipython",
    "version": 3
   },
   "file_extension": ".py",
   "mimetype": "text/x-python",
   "name": "python",
   "nbconvert_exporter": "python",
   "pygments_lexer": "ipython3",
   "version": "3.6.1"
  }
 },
 "nbformat": 4,
 "nbformat_minor": 2
}
