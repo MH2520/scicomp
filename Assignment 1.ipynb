{
 "cells": [
  {
   "cell_type": "markdown",
   "metadata": {},
   "source": [
    "# Assignment 1. Using the automatic grader"
   ]
  },
  {
   "cell_type": "markdown",
   "metadata": {},
   "source": [
    "<div style=\"background-color:wheat\"><strong>Goal of the assignment.</strong> Your Python programming skills will be thoroughly tested by the other assignments. For now, the only task is to familiarize yourself with the system for submitting answers, which is described in \n",
    "<a href=\"0.%20About%20this%20course.ipynb#0.3-Using-the-automatic-grader\">&sect;0.3 Using the automatic grader</a>.\n",
    "<br><br>\n",
    "If you want more practice at Python, then try the exercises from\n",
    "<a href=\"1.%20Programming%20in%20Python.ipynb\">&sect;1 Programming in Python</a>. Read\n",
    "<a href=\"0.%20About%20this%20course.ipynb#0.3-Using-the-automatic-grader\">&sect;0.3</a> for instructions on how to check your answers.\n",
    "</div>"
   ]
  },
  {
   "cell_type": "markdown",
   "metadata": {},
   "source": [
    "**Question 1.** Given an integer $n$ and a value $v$, create a list containing $n$ copies of $v$. Check your answer with the following code:"
   ]
  },
  {
   "cell_type": "code",
   "execution_count": null,
   "metadata": {
    "collapsed": true
   },
   "outputs": [],
   "source": [
    "# First set up GRADER as described in Section 0.3, using section='assignment1'. Then,\n",
    "\n",
    "q = GRADER.fetch_question('q1')\n",
    "# Let x be a list consisting of q.n copies of q.v\n",
    "GRADER.submit_answer(q, {'x': x})"
   ]
  }
 ],
 "metadata": {
  "kernelspec": {
   "display_name": "Python 3",
   "language": "python",
   "name": "python3"
  },
  "language_info": {
   "codemirror_mode": {
    "name": "ipython",
    "version": 3
   },
   "file_extension": ".py",
   "mimetype": "text/x-python",
   "name": "python",
   "nbconvert_exporter": "python",
   "pygments_lexer": "ipython3",
   "version": "3.5.1"
  }
 },
 "nbformat": 4,
 "nbformat_minor": 2
}
