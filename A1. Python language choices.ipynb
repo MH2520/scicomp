{
 "cells": [
  {
   "cell_type": "markdown",
   "metadata": {},
   "source": [
    "# TODO: linkages\n",
    "\n",
    "* Get students used to the jargon used! Tie in with Mycroft's \"Concepts in programming languages\".\n",
    "* Mutable vs immutable lists: ref ML\n",
    "* Python generators\n",
    "* More about exceptions, including ML\n",
    "* enum datatype (and lack thereof)\n",
    "* A tree, e.g. `[1,[2,[3,4],5]]`. How to define flatten().\n",
    "* Generators, especially generator expressions (maybe not yield functions)\n",
    "* Closures\n",
    "* The None type"
   ]
  }
 ],
 "metadata": {
  "kernelspec": {
   "display_name": "Python 3.6",
   "language": "python",
   "name": "python36"
  },
  "language_info": {
   "codemirror_mode": {
    "name": "ipython",
    "version": 3
   },
   "file_extension": ".py",
   "mimetype": "text/x-python",
   "name": "python",
   "nbconvert_exporter": "python",
   "pygments_lexer": "ipython3",
   "version": "3.6.3"
  }
 },
 "nbformat": 4,
 "nbformat_minor": 2
}
